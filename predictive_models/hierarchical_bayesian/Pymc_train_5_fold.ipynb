{
 "cells": [
  {
   "cell_type": "code",
   "execution_count": 14,
   "metadata": {
    "id": "Pxq-qSTZrp44"
   },
   "outputs": [],
   "source": [
    "import sys\n",
    "import logging\n",
    "import multiprocessing as mp\n",
    "\n",
    "import pymc as pm\n",
    "import pymc.sampling_jax as pmjax\n",
    "import pandas as pd\n",
    "import numpy as np\n",
    "import arviz as az\n",
    "import pytensor.tensor as pt\n",
    "from sklearn.model_selection import train_test_split\n",
    "from sklearn.compose import ColumnTransformer\n",
    "from sklearn import metrics\n",
    "from sklearn.preprocessing import StandardScaler,LabelBinarizer\n",
    "import pickle\n",
    "import numpyro\n",
    "# from google.colab import drive"
   ]
  },
  {
   "cell_type": "code",
   "execution_count": 15,
   "metadata": {
    "colab": {
     "base_uri": "https://localhost:8080/"
    },
    "executionInfo": {
     "elapsed": 17726,
     "status": "ok",
     "timestamp": 1692338124930,
     "user": {
      "displayName": "Wenyu Zeng",
      "userId": "04462272154724969813"
     },
     "user_tz": -480
    },
    "id": "VX09T7B-tyP8",
    "outputId": "2c348710-61c1-4b84-ec6d-7cca353bcaf0"
   },
   "outputs": [],
   "source": [
    "# Set working directory\n",
    "path = '/Users/wenyuzeng/Downloads/'"
   ]
  },
  {
   "cell_type": "code",
   "execution_count": 16,
   "metadata": {
    "id": "ChvL-5sLRWN_"
   },
   "outputs": [],
   "source": [
    "xls = pd.ExcelFile(path + 'assay_list.xls')\n",
    "\n",
    "# to read just one sheet to dataframe:\n",
    "df = []\n",
    "for i in range(len(xls.sheet_names)):\n",
    "    df1 = xls.parse(i)\n",
    "    df.append(df1)\n",
    "\n",
    "\n",
    "xls2 = pd.ExcelFile(path + 'assay_list2.xls')\n",
    "\n",
    "for i in range(len(xls2.sheet_names)):\n",
    "    df1 = xls2.parse(i)\n",
    "    df.append(df1)\n",
    "\n",
    "\n",
    "\n",
    "\n",
    "t = pd.DataFrame({'Cell_Line': ['DT40','DT40', 'DT40'], 'ProtocolName':['tox21-dt40-p1_100', 'tox21-dt40-p1_653', 'tox21-dt40-p1_657']})\n",
    "\n",
    "\n",
    "\n",
    "assay_info_tox21 = pd.read_csv(path + 'assay_meta_data.csv')\n",
    "assay_info_tox21 = assay_info_tox21.drop(assay_info_tox21.columns[0], axis = 1)\n",
    "assay_info_tox21['Cell_Line'] = assay_info_tox21['Cell_Line'].str.replace(r'*', '', regex=True)\n",
    "assay_info_tox21 = assay_info_tox21[['Cell_Line', 'ProtocolName']]\n",
    "assay_info_tox21 = assay_info_tox21.drop([49])\n",
    "assay_info_tox21 = pd.concat([assay_info_tox21, t]).reset_index(drop=True)\n",
    "\n",
    "\n",
    "\n",
    "\n",
    "assay_info = pd.read_excel(path + 'SampleMeta_Data_update.xlsx')\n",
    "assay_info = assay_info.drop(assay_info.columns[6:], axis=1).iloc[:13,:].rename(columns = {assay_info.columns[5]: 'Tissue_Type2'})\n",
    "assay_info = assay_info.rename(columns = {assay_info.columns[0]: 'Cell_Line'})\n",
    "assay_info['Cell_Line'] = assay_info['Cell_Line'].str.replace(r'*', '', regex=True).str.replace(' ', '')\n",
    "assay_info['Cell_Type'] = assay_info['Cell_Type'].str.replace(r'*', '', regex=True)\n",
    "assay_info = assay_info.join(assay_info_tox21.set_index('Cell_Line'), on='Cell_Line')\n",
    "\n",
    "\n",
    "df_list = []\n",
    "for i in range(len(df)):\n",
    "    one_assay = df[i]\n",
    "    one_assay = one_assay.drop(one_assay.columns[0], axis=1).drop_duplicates()\n",
    "    one_assay['ProtocolName'] = one_assay.columns[0]\n",
    "    one_assay = one_assay.rename(columns = {one_assay.columns[0]: 'Outcome'})\n",
    "    df_list.append(one_assay)\n",
    "    \n",
    "\n",
    "\n",
    "\n",
    "df_stack_50 = pd.concat(df_list)\n",
    "df_stack_50 = df_stack_50.join(assay_info.set_index('ProtocolName'), on='ProtocolName')\n",
    "# print(df_stack_50.iloc[:,206:])\n",
    "\n",
    "# ### Train/Test Split & Bayesian model coordination\n",
    "\n",
    "\n",
    "df_stack_50.Outcome = df_stack_50.Outcome.astype(object)\n",
    "\n",
    "# Scale numeric chemical descriptors\n",
    "numeric_columns=list(df_stack_50.select_dtypes(['float64', 'int64']).columns)\n",
    "categorical_columns=list(df_stack_50.select_dtypes('object').columns)\n",
    "# print(len(numeric_columns))\n",
    "\n",
    "pipeline=ColumnTransformer([\n",
    "    ('num',StandardScaler(),numeric_columns),\n",
    "    ('cat', 'passthrough', categorical_columns)])\n",
    "\n",
    "chem_des_scale = pipeline.fit_transform(df_stack_50)\n",
    "chem_des_scale = pd.DataFrame(chem_des_scale)\n",
    "# print(chem_des_scale.iloc[:,206:])\n",
    "col_name = list(df_stack_50.columns)\n",
    "col_name.pop(0)\n",
    "col_name.pop(0)\n",
    "col_name.insert(204, 'Outcome')\n",
    "col_name.insert(205,'SMILES')\n",
    "# print('After changing column names')\n",
    "chem_des_scale.columns = col_name\n",
    "# print(chem_des_scale.iloc[:,206:])\n",
    "\n",
    "\n",
    "df_try = chem_des_scale.iloc[:100, :]\n",
    "factorized_protocols = pd.factorize(chem_des_scale.ProtocolName)\n",
    "\n",
    "X = chem_des_scale.iloc[:, :204]\n",
    "# X = chem_des_scale.iloc[:, :20]\n",
    "y = chem_des_scale['Outcome']\n",
    "assay_info_try = chem_des_scale.iloc[:,206:]"
   ]
  },
  {
   "cell_type": "code",
   "execution_count": 17,
   "metadata": {},
   "outputs": [
    {
     "data": {
      "text/html": [
       "<div>\n",
       "<style scoped>\n",
       "    .dataframe tbody tr th:only-of-type {\n",
       "        vertical-align: middle;\n",
       "    }\n",
       "\n",
       "    .dataframe tbody tr th {\n",
       "        vertical-align: top;\n",
       "    }\n",
       "\n",
       "    .dataframe thead th {\n",
       "        text-align: right;\n",
       "    }\n",
       "</style>\n",
       "<table border=\"1\" class=\"dataframe\">\n",
       "  <thead>\n",
       "    <tr style=\"text-align: right;\">\n",
       "      <th></th>\n",
       "      <th>MaxEStateIndex</th>\n",
       "      <th>MinEStateIndex</th>\n",
       "      <th>MaxAbsEStateIndex</th>\n",
       "      <th>MinAbsEStateIndex</th>\n",
       "      <th>qed</th>\n",
       "      <th>MolWt</th>\n",
       "      <th>HeavyAtomMolWt</th>\n",
       "      <th>ExactMolWt</th>\n",
       "      <th>NumValenceElectrons</th>\n",
       "      <th>NumRadicalElectrons</th>\n",
       "      <th>...</th>\n",
       "      <th>fr_sulfide</th>\n",
       "      <th>fr_sulfonamd</th>\n",
       "      <th>fr_sulfone</th>\n",
       "      <th>fr_term_acetylene</th>\n",
       "      <th>fr_tetrazole</th>\n",
       "      <th>fr_thiazole</th>\n",
       "      <th>fr_thiocyan</th>\n",
       "      <th>fr_thiophene</th>\n",
       "      <th>fr_unbrch_alkane</th>\n",
       "      <th>fr_urea</th>\n",
       "    </tr>\n",
       "  </thead>\n",
       "  <tbody>\n",
       "    <tr>\n",
       "      <th>0</th>\n",
       "      <td>1.584378</td>\n",
       "      <td>-0.679719</td>\n",
       "      <td>1.583453</td>\n",
       "      <td>-0.31427</td>\n",
       "      <td>-0.67622</td>\n",
       "      <td>2.125535</td>\n",
       "      <td>2.086785</td>\n",
       "      <td>2.127852</td>\n",
       "      <td>2.356477</td>\n",
       "      <td>-0.055276</td>\n",
       "      <td>...</td>\n",
       "      <td>-0.171002</td>\n",
       "      <td>-0.167359</td>\n",
       "      <td>-0.081049</td>\n",
       "      <td>-0.070021</td>\n",
       "      <td>-0.067972</td>\n",
       "      <td>-0.110237</td>\n",
       "      <td>-0.039508</td>\n",
       "      <td>-0.094127</td>\n",
       "      <td>-0.283601</td>\n",
       "      <td>-0.156202</td>\n",
       "    </tr>\n",
       "    <tr>\n",
       "      <th>1</th>\n",
       "      <td>-2.006412</td>\n",
       "      <td>1.246915</td>\n",
       "      <td>-2.006851</td>\n",
       "      <td>1.998691</td>\n",
       "      <td>-0.03779</td>\n",
       "      <td>-0.646331</td>\n",
       "      <td>-0.629139</td>\n",
       "      <td>-0.645345</td>\n",
       "      <td>-0.610342</td>\n",
       "      <td>-0.055276</td>\n",
       "      <td>...</td>\n",
       "      <td>-0.171002</td>\n",
       "      <td>-0.167359</td>\n",
       "      <td>-0.081049</td>\n",
       "      <td>-0.070021</td>\n",
       "      <td>-0.067972</td>\n",
       "      <td>-0.110237</td>\n",
       "      <td>-0.039508</td>\n",
       "      <td>-0.094127</td>\n",
       "      <td>-0.283601</td>\n",
       "      <td>-0.156202</td>\n",
       "    </tr>\n",
       "    <tr>\n",
       "      <th>2</th>\n",
       "      <td>0.410452</td>\n",
       "      <td>-0.383746</td>\n",
       "      <td>0.409685</td>\n",
       "      <td>0.103053</td>\n",
       "      <td>0.462385</td>\n",
       "      <td>-0.234939</td>\n",
       "      <td>-0.181232</td>\n",
       "      <td>-0.233449</td>\n",
       "      <td>-0.201125</td>\n",
       "      <td>-0.055276</td>\n",
       "      <td>...</td>\n",
       "      <td>-0.171002</td>\n",
       "      <td>-0.167359</td>\n",
       "      <td>-0.081049</td>\n",
       "      <td>-0.070021</td>\n",
       "      <td>14.261846</td>\n",
       "      <td>-0.110237</td>\n",
       "      <td>-0.039508</td>\n",
       "      <td>-0.094127</td>\n",
       "      <td>-0.283601</td>\n",
       "      <td>-0.156202</td>\n",
       "    </tr>\n",
       "    <tr>\n",
       "      <th>3</th>\n",
       "      <td>0.903448</td>\n",
       "      <td>0.28479</td>\n",
       "      <td>0.902615</td>\n",
       "      <td>-0.481793</td>\n",
       "      <td>0.311839</td>\n",
       "      <td>0.683551</td>\n",
       "      <td>0.649686</td>\n",
       "      <td>0.685182</td>\n",
       "      <td>0.856017</td>\n",
       "      <td>-0.055276</td>\n",
       "      <td>...</td>\n",
       "      <td>-0.171002</td>\n",
       "      <td>-0.167359</td>\n",
       "      <td>-0.081049</td>\n",
       "      <td>-0.070021</td>\n",
       "      <td>-0.067972</td>\n",
       "      <td>-0.110237</td>\n",
       "      <td>-0.039508</td>\n",
       "      <td>-0.094127</td>\n",
       "      <td>-0.283601</td>\n",
       "      <td>-0.156202</td>\n",
       "    </tr>\n",
       "    <tr>\n",
       "      <th>4</th>\n",
       "      <td>0.939689</td>\n",
       "      <td>-1.639065</td>\n",
       "      <td>0.938851</td>\n",
       "      <td>-0.597774</td>\n",
       "      <td>0.151686</td>\n",
       "      <td>0.932964</td>\n",
       "      <td>0.939746</td>\n",
       "      <td>0.934421</td>\n",
       "      <td>0.992422</td>\n",
       "      <td>-0.055276</td>\n",
       "      <td>...</td>\n",
       "      <td>-0.171002</td>\n",
       "      <td>-0.167359</td>\n",
       "      <td>-0.081049</td>\n",
       "      <td>-0.070021</td>\n",
       "      <td>-0.067972</td>\n",
       "      <td>-0.110237</td>\n",
       "      <td>-0.039508</td>\n",
       "      <td>-0.094127</td>\n",
       "      <td>-0.283601</td>\n",
       "      <td>-0.156202</td>\n",
       "    </tr>\n",
       "    <tr>\n",
       "      <th>...</th>\n",
       "      <td>...</td>\n",
       "      <td>...</td>\n",
       "      <td>...</td>\n",
       "      <td>...</td>\n",
       "      <td>...</td>\n",
       "      <td>...</td>\n",
       "      <td>...</td>\n",
       "      <td>...</td>\n",
       "      <td>...</td>\n",
       "      <td>...</td>\n",
       "      <td>...</td>\n",
       "      <td>...</td>\n",
       "      <td>...</td>\n",
       "      <td>...</td>\n",
       "      <td>...</td>\n",
       "      <td>...</td>\n",
       "      <td>...</td>\n",
       "      <td>...</td>\n",
       "      <td>...</td>\n",
       "      <td>...</td>\n",
       "      <td>...</td>\n",
       "    </tr>\n",
       "    <tr>\n",
       "      <th>362395</th>\n",
       "      <td>-1.985526</td>\n",
       "      <td>1.229606</td>\n",
       "      <td>-1.985969</td>\n",
       "      <td>1.9341</td>\n",
       "      <td>-0.630667</td>\n",
       "      <td>-0.309796</td>\n",
       "      <td>-0.353282</td>\n",
       "      <td>-0.31443</td>\n",
       "      <td>-0.508038</td>\n",
       "      <td>-0.055276</td>\n",
       "      <td>...</td>\n",
       "      <td>-0.171002</td>\n",
       "      <td>-0.167359</td>\n",
       "      <td>-0.081049</td>\n",
       "      <td>-0.070021</td>\n",
       "      <td>-0.067972</td>\n",
       "      <td>-0.110237</td>\n",
       "      <td>-0.039508</td>\n",
       "      <td>-0.094127</td>\n",
       "      <td>2.339909</td>\n",
       "      <td>-0.156202</td>\n",
       "    </tr>\n",
       "    <tr>\n",
       "      <th>362396</th>\n",
       "      <td>0.887955</td>\n",
       "      <td>0.507896</td>\n",
       "      <td>0.887124</td>\n",
       "      <td>-0.593624</td>\n",
       "      <td>-0.919065</td>\n",
       "      <td>0.555294</td>\n",
       "      <td>0.527465</td>\n",
       "      <td>0.553601</td>\n",
       "      <td>0.549105</td>\n",
       "      <td>-0.055276</td>\n",
       "      <td>...</td>\n",
       "      <td>4.460965</td>\n",
       "      <td>-0.167359</td>\n",
       "      <td>-0.081049</td>\n",
       "      <td>-0.070021</td>\n",
       "      <td>-0.067972</td>\n",
       "      <td>-0.110237</td>\n",
       "      <td>-0.039508</td>\n",
       "      <td>-0.094127</td>\n",
       "      <td>0.153651</td>\n",
       "      <td>-0.156202</td>\n",
       "    </tr>\n",
       "    <tr>\n",
       "      <th>362397</th>\n",
       "      <td>-1.732884</td>\n",
       "      <td>1.045131</td>\n",
       "      <td>-1.733361</td>\n",
       "      <td>1.245708</td>\n",
       "      <td>0.84016</td>\n",
       "      <td>-0.10922</td>\n",
       "      <td>-0.128097</td>\n",
       "      <td>-0.107954</td>\n",
       "      <td>0.003483</td>\n",
       "      <td>-0.055276</td>\n",
       "      <td>...</td>\n",
       "      <td>-0.171002</td>\n",
       "      <td>-0.167359</td>\n",
       "      <td>-0.081049</td>\n",
       "      <td>-0.070021</td>\n",
       "      <td>-0.067972</td>\n",
       "      <td>-0.110237</td>\n",
       "      <td>-0.039508</td>\n",
       "      <td>-0.094127</td>\n",
       "      <td>-0.283601</td>\n",
       "      <td>-0.156202</td>\n",
       "    </tr>\n",
       "    <tr>\n",
       "      <th>362398</th>\n",
       "      <td>0.717855</td>\n",
       "      <td>0.542259</td>\n",
       "      <td>0.717047</td>\n",
       "      <td>-0.630824</td>\n",
       "      <td>0.887917</td>\n",
       "      <td>-0.337949</td>\n",
       "      <td>-0.303341</td>\n",
       "      <td>-0.339703</td>\n",
       "      <td>-0.405734</td>\n",
       "      <td>-0.055276</td>\n",
       "      <td>...</td>\n",
       "      <td>-0.171002</td>\n",
       "      <td>-0.167359</td>\n",
       "      <td>-0.081049</td>\n",
       "      <td>-0.070021</td>\n",
       "      <td>-0.067972</td>\n",
       "      <td>-0.110237</td>\n",
       "      <td>-0.039508</td>\n",
       "      <td>-0.094127</td>\n",
       "      <td>-0.283601</td>\n",
       "      <td>-0.156202</td>\n",
       "    </tr>\n",
       "    <tr>\n",
       "      <th>362399</th>\n",
       "      <td>-2.326664</td>\n",
       "      <td>1.321386</td>\n",
       "      <td>-2.327061</td>\n",
       "      <td>2.27659</td>\n",
       "      <td>-1.318086</td>\n",
       "      <td>0.034127</td>\n",
       "      <td>0.069829</td>\n",
       "      <td>0.035226</td>\n",
       "      <td>0.037584</td>\n",
       "      <td>-0.055276</td>\n",
       "      <td>...</td>\n",
       "      <td>-0.171002</td>\n",
       "      <td>-0.167359</td>\n",
       "      <td>-0.081049</td>\n",
       "      <td>-0.070021</td>\n",
       "      <td>-0.067972</td>\n",
       "      <td>-0.110237</td>\n",
       "      <td>-0.039508</td>\n",
       "      <td>-0.094127</td>\n",
       "      <td>-0.283601</td>\n",
       "      <td>-0.156202</td>\n",
       "    </tr>\n",
       "  </tbody>\n",
       "</table>\n",
       "<p>362400 rows × 204 columns</p>\n",
       "</div>"
      ],
      "text/plain": [
       "       MaxEStateIndex MinEStateIndex MaxAbsEStateIndex MinAbsEStateIndex  \\\n",
       "0            1.584378      -0.679719          1.583453          -0.31427   \n",
       "1           -2.006412       1.246915         -2.006851          1.998691   \n",
       "2            0.410452      -0.383746          0.409685          0.103053   \n",
       "3            0.903448        0.28479          0.902615         -0.481793   \n",
       "4            0.939689      -1.639065          0.938851         -0.597774   \n",
       "...               ...            ...               ...               ...   \n",
       "362395      -1.985526       1.229606         -1.985969            1.9341   \n",
       "362396       0.887955       0.507896          0.887124         -0.593624   \n",
       "362397      -1.732884       1.045131         -1.733361          1.245708   \n",
       "362398       0.717855       0.542259          0.717047         -0.630824   \n",
       "362399      -2.326664       1.321386         -2.327061           2.27659   \n",
       "\n",
       "             qed     MolWt HeavyAtomMolWt ExactMolWt NumValenceElectrons  \\\n",
       "0       -0.67622  2.125535       2.086785   2.127852            2.356477   \n",
       "1       -0.03779 -0.646331      -0.629139  -0.645345           -0.610342   \n",
       "2       0.462385 -0.234939      -0.181232  -0.233449           -0.201125   \n",
       "3       0.311839  0.683551       0.649686   0.685182            0.856017   \n",
       "4       0.151686  0.932964       0.939746   0.934421            0.992422   \n",
       "...          ...       ...            ...        ...                 ...   \n",
       "362395 -0.630667 -0.309796      -0.353282   -0.31443           -0.508038   \n",
       "362396 -0.919065  0.555294       0.527465   0.553601            0.549105   \n",
       "362397   0.84016  -0.10922      -0.128097  -0.107954            0.003483   \n",
       "362398  0.887917 -0.337949      -0.303341  -0.339703           -0.405734   \n",
       "362399 -1.318086  0.034127       0.069829   0.035226            0.037584   \n",
       "\n",
       "       NumRadicalElectrons  ... fr_sulfide fr_sulfonamd fr_sulfone  \\\n",
       "0                -0.055276  ...  -0.171002    -0.167359  -0.081049   \n",
       "1                -0.055276  ...  -0.171002    -0.167359  -0.081049   \n",
       "2                -0.055276  ...  -0.171002    -0.167359  -0.081049   \n",
       "3                -0.055276  ...  -0.171002    -0.167359  -0.081049   \n",
       "4                -0.055276  ...  -0.171002    -0.167359  -0.081049   \n",
       "...                    ...  ...        ...          ...        ...   \n",
       "362395           -0.055276  ...  -0.171002    -0.167359  -0.081049   \n",
       "362396           -0.055276  ...   4.460965    -0.167359  -0.081049   \n",
       "362397           -0.055276  ...  -0.171002    -0.167359  -0.081049   \n",
       "362398           -0.055276  ...  -0.171002    -0.167359  -0.081049   \n",
       "362399           -0.055276  ...  -0.171002    -0.167359  -0.081049   \n",
       "\n",
       "       fr_term_acetylene fr_tetrazole fr_thiazole fr_thiocyan fr_thiophene  \\\n",
       "0              -0.070021    -0.067972   -0.110237   -0.039508    -0.094127   \n",
       "1              -0.070021    -0.067972   -0.110237   -0.039508    -0.094127   \n",
       "2              -0.070021    14.261846   -0.110237   -0.039508    -0.094127   \n",
       "3              -0.070021    -0.067972   -0.110237   -0.039508    -0.094127   \n",
       "4              -0.070021    -0.067972   -0.110237   -0.039508    -0.094127   \n",
       "...                  ...          ...         ...         ...          ...   \n",
       "362395         -0.070021    -0.067972   -0.110237   -0.039508    -0.094127   \n",
       "362396         -0.070021    -0.067972   -0.110237   -0.039508    -0.094127   \n",
       "362397         -0.070021    -0.067972   -0.110237   -0.039508    -0.094127   \n",
       "362398         -0.070021    -0.067972   -0.110237   -0.039508    -0.094127   \n",
       "362399         -0.070021    -0.067972   -0.110237   -0.039508    -0.094127   \n",
       "\n",
       "       fr_unbrch_alkane   fr_urea  \n",
       "0             -0.283601 -0.156202  \n",
       "1             -0.283601 -0.156202  \n",
       "2             -0.283601 -0.156202  \n",
       "3             -0.283601 -0.156202  \n",
       "4             -0.283601 -0.156202  \n",
       "...                 ...       ...  \n",
       "362395         2.339909 -0.156202  \n",
       "362396         0.153651 -0.156202  \n",
       "362397        -0.283601 -0.156202  \n",
       "362398        -0.283601 -0.156202  \n",
       "362399        -0.283601 -0.156202  \n",
       "\n",
       "[362400 rows x 204 columns]"
      ]
     },
     "execution_count": 17,
     "metadata": {},
     "output_type": "execute_result"
    }
   ],
   "source": [
    "X"
   ]
  },
  {
   "cell_type": "code",
   "execution_count": 18,
   "metadata": {
    "id": "pykqXlIdRYKc"
   },
   "outputs": [],
   "source": [
    "feature_top_40 = ['fr_C_O', 'TPSA', 'SMR_VSA1', 'NumHAcceptors', 'NumAromaticCarbocycles','NumHeteroatoms',\n",
    "                  'Chi4n', 'VSA_EState10', 'VSA_EState3', 'Kappa1', 'Chi2v', 'SMR_VSA10', 'SlogP_VSA2',\n",
    "                  'HallKierAlpha', 'SMR_VSA5', 'VSA_EState7', 'FractionCSP3', 'SlogP_VSA10', 'BCUT2D_LOGPLOW',\n",
    "                  'VSA_EState2', 'FpDensityMorgan2', 'fr_phenol_noOrthoHbond', 'SlogP_VSA1', 'PEOE_VSA1',\n",
    "                  'fr_Ar_N', 'BCUT2D_CHGLO', 'fr_ether', 'EState_VSA1', 'MinPartialCharge', 'VSA_EState6',\n",
    "                  'MaxPartialCharge', 'MinAbsPartialCharge', 'VSA_EState9', 'SMR_VSA3', 'FpDensityMorgan3',\n",
    "                  'SlogP_VSA12', 'fr_Al_OH_noTert', 'BalabanJ', 'MaxAbsPartialCharge', 'EState_VSA10']\n",
    "from sklearn import preprocessing, metrics\n",
    "from imblearn.under_sampling import RandomUnderSampler, NearMiss"
   ]
  },
  {
   "cell_type": "code",
   "execution_count": 19,
   "metadata": {
    "id": "08fBc5V6DDux"
   },
   "outputs": [
    {
     "name": "stdout",
     "output_type": "stream",
     "text": [
      "44664\n",
      "44664\n",
      "Compiling...\n"
     ]
    },
    {
     "name": "stderr",
     "output_type": "stream",
     "text": [
      "ERROR (pytensor.graph.rewriting.basic): Rewrite failure due to: boolean_indexing_set_or_inc\n",
      "ERROR:pytensor.graph.rewriting.basic:Rewrite failure due to: boolean_indexing_set_or_inc\n",
      "ERROR (pytensor.graph.rewriting.basic): node: AdvancedSetSubtensor(Alloc.0, AdvancedIncSubtensor1{no_inplace,set}.0, [ 0  1  1 ... 39 39 39], [ 0  0  1 ... 37 38 39])\n",
      "ERROR:pytensor.graph.rewriting.basic:node: AdvancedSetSubtensor(Alloc.0, AdvancedIncSubtensor1{no_inplace,set}.0, [ 0  1  1 ... 39 39 39], [ 0  0  1 ... 37 38 39])\n",
      "ERROR (pytensor.graph.rewriting.basic): TRACEBACK:\n",
      "ERROR:pytensor.graph.rewriting.basic:TRACEBACK:\n",
      "ERROR (pytensor.graph.rewriting.basic): Traceback (most recent call last):\n",
      "  File \"/Users/wenyuzeng/anaconda3/lib/python3.10/site-packages/pytensor/graph/rewriting/basic.py\", line 1914, in process_node\n",
      "    replacements = node_rewriter.transform(fgraph, node)\n",
      "  File \"/Users/wenyuzeng/anaconda3/lib/python3.10/site-packages/pytensor/graph/rewriting/basic.py\", line 1074, in transform\n",
      "    return self.fn(fgraph, node)\n",
      "  File \"/Users/wenyuzeng/anaconda3/lib/python3.10/site-packages/pytensor/tensor/rewriting/jax.py\", line 23, in boolean_indexing_set_or_inc\n",
      "    [x, y, cond] = node.inputs\n",
      "ValueError: too many values to unpack (expected 3)\n",
      "\n",
      "ERROR:pytensor.graph.rewriting.basic:Traceback (most recent call last):\n",
      "  File \"/Users/wenyuzeng/anaconda3/lib/python3.10/site-packages/pytensor/graph/rewriting/basic.py\", line 1914, in process_node\n",
      "    replacements = node_rewriter.transform(fgraph, node)\n",
      "  File \"/Users/wenyuzeng/anaconda3/lib/python3.10/site-packages/pytensor/graph/rewriting/basic.py\", line 1074, in transform\n",
      "    return self.fn(fgraph, node)\n",
      "  File \"/Users/wenyuzeng/anaconda3/lib/python3.10/site-packages/pytensor/tensor/rewriting/jax.py\", line 23, in boolean_indexing_set_or_inc\n",
      "    [x, y, cond] = node.inputs\n",
      "ValueError: too many values to unpack (expected 3)\n",
      "\n"
     ]
    },
    {
     "name": "stdout",
     "output_type": "stream",
     "text": [
      "Compilation time =  0:00:32.127949\n",
      "Sampling...\n"
     ]
    },
    {
     "data": {
      "application/vnd.jupyter.widget-view+json": {
       "model_id": "39ce1cd54b584f7d8b827fdd9b951727",
       "version_major": 2,
       "version_minor": 0
      },
      "text/plain": [
       "  0%|          | 0/2000 [00:00<?, ?it/s]"
      ]
     },
     "metadata": {},
     "output_type": "display_data"
    },
    {
     "data": {
      "application/vnd.jupyter.widget-view+json": {
       "model_id": "a6e1bbdd149b4450a77a5fad76fef553",
       "version_major": 2,
       "version_minor": 0
      },
      "text/plain": [
       "  0%|          | 0/2000 [00:00<?, ?it/s]"
      ]
     },
     "metadata": {},
     "output_type": "display_data"
    },
    {
     "data": {
      "application/vnd.jupyter.widget-view+json": {
       "model_id": "129f18e80403440cb45ccae38b8915b2",
       "version_major": 2,
       "version_minor": 0
      },
      "text/plain": [
       "  0%|          | 0/2000 [00:00<?, ?it/s]"
      ]
     },
     "metadata": {},
     "output_type": "display_data"
    },
    {
     "data": {
      "application/vnd.jupyter.widget-view+json": {
       "model_id": "8c24a377f8ee45d49ead256a786a4a5e",
       "version_major": 2,
       "version_minor": 0
      },
      "text/plain": [
       "  0%|          | 0/2000 [00:00<?, ?it/s]"
      ]
     },
     "metadata": {},
     "output_type": "display_data"
    },
    {
     "name": "stderr",
     "output_type": "stream",
     "text": [
      "ERROR (pytensor.graph.rewriting.basic): Rewrite failure due to: boolean_indexing_set_or_inc\n",
      "ERROR:pytensor.graph.rewriting.basic:Rewrite failure due to: boolean_indexing_set_or_inc\n",
      "ERROR (pytensor.graph.rewriting.basic): node: AdvancedSetSubtensor(Alloc.0, AdvancedIncSubtensor1{no_inplace,set}.0, [ 0  1  1 ... 39 39 39], [ 0  0  1 ... 37 38 39])\n",
      "ERROR:pytensor.graph.rewriting.basic:node: AdvancedSetSubtensor(Alloc.0, AdvancedIncSubtensor1{no_inplace,set}.0, [ 0  1  1 ... 39 39 39], [ 0  0  1 ... 37 38 39])\n",
      "ERROR (pytensor.graph.rewriting.basic): TRACEBACK:\n",
      "ERROR:pytensor.graph.rewriting.basic:TRACEBACK:\n",
      "ERROR (pytensor.graph.rewriting.basic): Traceback (most recent call last):\n",
      "  File \"/Users/wenyuzeng/anaconda3/lib/python3.10/site-packages/pytensor/graph/rewriting/basic.py\", line 1914, in process_node\n",
      "    replacements = node_rewriter.transform(fgraph, node)\n",
      "  File \"/Users/wenyuzeng/anaconda3/lib/python3.10/site-packages/pytensor/graph/rewriting/basic.py\", line 1074, in transform\n",
      "    return self.fn(fgraph, node)\n",
      "  File \"/Users/wenyuzeng/anaconda3/lib/python3.10/site-packages/pytensor/tensor/rewriting/jax.py\", line 23, in boolean_indexing_set_or_inc\n",
      "    [x, y, cond] = node.inputs\n",
      "ValueError: too many values to unpack (expected 3)\n",
      "\n",
      "ERROR:pytensor.graph.rewriting.basic:Traceback (most recent call last):\n",
      "  File \"/Users/wenyuzeng/anaconda3/lib/python3.10/site-packages/pytensor/graph/rewriting/basic.py\", line 1914, in process_node\n",
      "    replacements = node_rewriter.transform(fgraph, node)\n",
      "  File \"/Users/wenyuzeng/anaconda3/lib/python3.10/site-packages/pytensor/graph/rewriting/basic.py\", line 1074, in transform\n",
      "    return self.fn(fgraph, node)\n",
      "  File \"/Users/wenyuzeng/anaconda3/lib/python3.10/site-packages/pytensor/tensor/rewriting/jax.py\", line 23, in boolean_indexing_set_or_inc\n",
      "    [x, y, cond] = node.inputs\n",
      "ValueError: too many values to unpack (expected 3)\n",
      "\n"
     ]
    },
    {
     "name": "stdout",
     "output_type": "stream",
     "text": [
      "Sampling time =  12:48:47.166647\n",
      "Transforming variables...\n",
      "Transformation time =  0:00:00.155788\n"
     ]
    },
    {
     "name": "stderr",
     "output_type": "stream",
     "text": [
      "Sampling: [likelihood]\n",
      "INFO:pymc.sampling.forward:Sampling: [likelihood]\n"
     ]
    },
    {
     "data": {
      "text/html": [
       "\n",
       "<style>\n",
       "    /* Turns off some styling */\n",
       "    progress {\n",
       "        /* gets rid of default border in Firefox and Opera. */\n",
       "        border: none;\n",
       "        /* Needs to be in here for Safari polyfill so background images work as expected. */\n",
       "        background-size: auto;\n",
       "    }\n",
       "    progress:not([value]), progress:not([value])::-webkit-progress-bar {\n",
       "        background: repeating-linear-gradient(45deg, #7e7e7e, #7e7e7e 10px, #5c5c5c 10px, #5c5c5c 20px);\n",
       "    }\n",
       "    .progress-bar-interrupted, .progress-bar-interrupted::-webkit-progress-bar {\n",
       "        background: #F44336;\n",
       "    }\n",
       "</style>\n"
      ],
      "text/plain": [
       "<IPython.core.display.HTML object>"
      ]
     },
     "metadata": {},
     "output_type": "display_data"
    },
    {
     "data": {
      "text/html": [
       "\n",
       "    <div>\n",
       "      <progress value='4000' class='' max='4000' style='width:300px; height:20px; vertical-align: middle;'></progress>\n",
       "      100.00% [4000/4000 00:36&lt;00:00]\n",
       "    </div>\n",
       "    "
      ],
      "text/plain": [
       "<IPython.core.display.HTML object>"
      ]
     },
     "metadata": {},
     "output_type": "display_data"
    },
    {
     "name": "stderr",
     "output_type": "stream",
     "text": [
      "Sampling: [beta_0, beta_1, beta_10, beta_11, beta_12, beta_13, beta_14, beta_15, beta_16, beta_17, beta_18, beta_19, beta_2, beta_20, beta_21, beta_22, beta_23, beta_24, beta_25, beta_26, beta_27, beta_28, beta_29, beta_3, beta_30, beta_31, beta_32, beta_33, beta_34, beta_35, beta_36, beta_37, beta_38, beta_39, beta_4, beta_5, beta_6, beta_7, beta_8, beta_9, beta_protocol, likelihood]\n",
      "INFO:pymc.sampling.forward:Sampling: [beta_0, beta_1, beta_10, beta_11, beta_12, beta_13, beta_14, beta_15, beta_16, beta_17, beta_18, beta_19, beta_2, beta_20, beta_21, beta_22, beta_23, beta_24, beta_25, beta_26, beta_27, beta_28, beta_29, beta_3, beta_30, beta_31, beta_32, beta_33, beta_34, beta_35, beta_36, beta_37, beta_38, beta_39, beta_4, beta_5, beta_6, beta_7, beta_8, beta_9, beta_protocol, likelihood]\n"
     ]
    },
    {
     "data": {
      "text/html": [
       "\n",
       "<style>\n",
       "    /* Turns off some styling */\n",
       "    progress {\n",
       "        /* gets rid of default border in Firefox and Opera. */\n",
       "        border: none;\n",
       "        /* Needs to be in here for Safari polyfill so background images work as expected. */\n",
       "        background-size: auto;\n",
       "    }\n",
       "    progress:not([value]), progress:not([value])::-webkit-progress-bar {\n",
       "        background: repeating-linear-gradient(45deg, #7e7e7e, #7e7e7e 10px, #5c5c5c 10px, #5c5c5c 20px);\n",
       "    }\n",
       "    .progress-bar-interrupted, .progress-bar-interrupted::-webkit-progress-bar {\n",
       "        background: #F44336;\n",
       "    }\n",
       "</style>\n"
      ],
      "text/plain": [
       "<IPython.core.display.HTML object>"
      ]
     },
     "metadata": {},
     "output_type": "display_data"
    },
    {
     "data": {
      "text/html": [
       "\n",
       "    <div>\n",
       "      <progress value='4000' class='' max='4000' style='width:300px; height:20px; vertical-align: middle;'></progress>\n",
       "      100.00% [4000/4000 02:41&lt;00:00]\n",
       "    </div>\n",
       "    "
      ],
      "text/plain": [
       "<IPython.core.display.HTML object>"
      ]
     },
     "metadata": {},
     "output_type": "display_data"
    },
    {
     "name": "stderr",
     "output_type": "stream",
     "text": [
      "Sampling: [beta_0, beta_1, beta_10, beta_11, beta_12, beta_13, beta_14, beta_15, beta_16, beta_17, beta_18, beta_19, beta_2, beta_20, beta_21, beta_22, beta_23, beta_24, beta_25, beta_26, beta_27, beta_28, beta_29, beta_3, beta_30, beta_31, beta_32, beta_33, beta_34, beta_35, beta_36, beta_37, beta_38, beta_39, beta_4, beta_5, beta_6, beta_7, beta_8, beta_9, beta_protocol, likelihood]\n",
      "INFO:pymc.sampling.forward:Sampling: [beta_0, beta_1, beta_10, beta_11, beta_12, beta_13, beta_14, beta_15, beta_16, beta_17, beta_18, beta_19, beta_2, beta_20, beta_21, beta_22, beta_23, beta_24, beta_25, beta_26, beta_27, beta_28, beta_29, beta_3, beta_30, beta_31, beta_32, beta_33, beta_34, beta_35, beta_36, beta_37, beta_38, beta_39, beta_4, beta_5, beta_6, beta_7, beta_8, beta_9, beta_protocol, likelihood]\n"
     ]
    },
    {
     "data": {
      "text/html": [
       "\n",
       "<style>\n",
       "    /* Turns off some styling */\n",
       "    progress {\n",
       "        /* gets rid of default border in Firefox and Opera. */\n",
       "        border: none;\n",
       "        /* Needs to be in here for Safari polyfill so background images work as expected. */\n",
       "        background-size: auto;\n",
       "    }\n",
       "    progress:not([value]), progress:not([value])::-webkit-progress-bar {\n",
       "        background: repeating-linear-gradient(45deg, #7e7e7e, #7e7e7e 10px, #5c5c5c 10px, #5c5c5c 20px);\n",
       "    }\n",
       "    .progress-bar-interrupted, .progress-bar-interrupted::-webkit-progress-bar {\n",
       "        background: #F44336;\n",
       "    }\n",
       "</style>\n"
      ],
      "text/plain": [
       "<IPython.core.display.HTML object>"
      ]
     },
     "metadata": {},
     "output_type": "display_data"
    },
    {
     "data": {
      "text/html": [
       "\n",
       "    <div>\n",
       "      <progress value='4000' class='' max='4000' style='width:300px; height:20px; vertical-align: middle;'></progress>\n",
       "      100.00% [4000/4000 02:36&lt;00:00]\n",
       "    </div>\n",
       "    "
      ],
      "text/plain": [
       "<IPython.core.display.HTML object>"
      ]
     },
     "metadata": {},
     "output_type": "display_data"
    },
    {
     "name": "stdout",
     "output_type": "stream",
     "text": [
      "0\n",
      "44916\n",
      "44916\n",
      "Compiling...\n"
     ]
    },
    {
     "name": "stderr",
     "output_type": "stream",
     "text": [
      "ERROR (pytensor.graph.rewriting.basic): Rewrite failure due to: boolean_indexing_set_or_inc\n",
      "ERROR:pytensor.graph.rewriting.basic:Rewrite failure due to: boolean_indexing_set_or_inc\n",
      "ERROR (pytensor.graph.rewriting.basic): node: AdvancedSetSubtensor(Alloc.0, AdvancedIncSubtensor1{no_inplace,set}.0, [ 0  1  1 ... 39 39 39], [ 0  0  1 ... 37 38 39])\n",
      "ERROR:pytensor.graph.rewriting.basic:node: AdvancedSetSubtensor(Alloc.0, AdvancedIncSubtensor1{no_inplace,set}.0, [ 0  1  1 ... 39 39 39], [ 0  0  1 ... 37 38 39])\n",
      "ERROR (pytensor.graph.rewriting.basic): TRACEBACK:\n",
      "ERROR:pytensor.graph.rewriting.basic:TRACEBACK:\n",
      "ERROR (pytensor.graph.rewriting.basic): Traceback (most recent call last):\n",
      "  File \"/Users/wenyuzeng/anaconda3/lib/python3.10/site-packages/pytensor/graph/rewriting/basic.py\", line 1914, in process_node\n",
      "    replacements = node_rewriter.transform(fgraph, node)\n",
      "  File \"/Users/wenyuzeng/anaconda3/lib/python3.10/site-packages/pytensor/graph/rewriting/basic.py\", line 1074, in transform\n",
      "    return self.fn(fgraph, node)\n",
      "  File \"/Users/wenyuzeng/anaconda3/lib/python3.10/site-packages/pytensor/tensor/rewriting/jax.py\", line 23, in boolean_indexing_set_or_inc\n",
      "    [x, y, cond] = node.inputs\n",
      "ValueError: too many values to unpack (expected 3)\n",
      "\n",
      "ERROR:pytensor.graph.rewriting.basic:Traceback (most recent call last):\n",
      "  File \"/Users/wenyuzeng/anaconda3/lib/python3.10/site-packages/pytensor/graph/rewriting/basic.py\", line 1914, in process_node\n",
      "    replacements = node_rewriter.transform(fgraph, node)\n",
      "  File \"/Users/wenyuzeng/anaconda3/lib/python3.10/site-packages/pytensor/graph/rewriting/basic.py\", line 1074, in transform\n",
      "    return self.fn(fgraph, node)\n",
      "  File \"/Users/wenyuzeng/anaconda3/lib/python3.10/site-packages/pytensor/tensor/rewriting/jax.py\", line 23, in boolean_indexing_set_or_inc\n",
      "    [x, y, cond] = node.inputs\n",
      "ValueError: too many values to unpack (expected 3)\n",
      "\n"
     ]
    },
    {
     "name": "stdout",
     "output_type": "stream",
     "text": [
      "Compilation time =  0:00:31.746159\n",
      "Sampling...\n"
     ]
    },
    {
     "data": {
      "application/vnd.jupyter.widget-view+json": {
       "model_id": "497a09ccbc694aa2922cae2bdb4aaf17",
       "version_major": 2,
       "version_minor": 0
      },
      "text/plain": [
       "  0%|          | 0/2000 [00:00<?, ?it/s]"
      ]
     },
     "metadata": {},
     "output_type": "display_data"
    },
    {
     "data": {
      "application/vnd.jupyter.widget-view+json": {
       "model_id": "f6f8f992386e447eb593f62b27abf160",
       "version_major": 2,
       "version_minor": 0
      },
      "text/plain": [
       "  0%|          | 0/2000 [00:00<?, ?it/s]"
      ]
     },
     "metadata": {},
     "output_type": "display_data"
    },
    {
     "data": {
      "application/vnd.jupyter.widget-view+json": {
       "model_id": "a40fe892b1314521b1d5127ded0adf20",
       "version_major": 2,
       "version_minor": 0
      },
      "text/plain": [
       "  0%|          | 0/2000 [00:00<?, ?it/s]"
      ]
     },
     "metadata": {},
     "output_type": "display_data"
    },
    {
     "data": {
      "application/vnd.jupyter.widget-view+json": {
       "model_id": "9b10a2e942da4ac59229e2edff57f218",
       "version_major": 2,
       "version_minor": 0
      },
      "text/plain": [
       "  0%|          | 0/2000 [00:00<?, ?it/s]"
      ]
     },
     "metadata": {},
     "output_type": "display_data"
    },
    {
     "name": "stderr",
     "output_type": "stream",
     "text": [
      "ERROR (pytensor.graph.rewriting.basic): Rewrite failure due to: boolean_indexing_set_or_inc\n",
      "ERROR:pytensor.graph.rewriting.basic:Rewrite failure due to: boolean_indexing_set_or_inc\n",
      "ERROR (pytensor.graph.rewriting.basic): node: AdvancedSetSubtensor(Alloc.0, AdvancedIncSubtensor1{no_inplace,set}.0, [ 0  1  1 ... 39 39 39], [ 0  0  1 ... 37 38 39])\n",
      "ERROR:pytensor.graph.rewriting.basic:node: AdvancedSetSubtensor(Alloc.0, AdvancedIncSubtensor1{no_inplace,set}.0, [ 0  1  1 ... 39 39 39], [ 0  0  1 ... 37 38 39])\n",
      "ERROR (pytensor.graph.rewriting.basic): TRACEBACK:\n",
      "ERROR:pytensor.graph.rewriting.basic:TRACEBACK:\n",
      "ERROR (pytensor.graph.rewriting.basic): Traceback (most recent call last):\n",
      "  File \"/Users/wenyuzeng/anaconda3/lib/python3.10/site-packages/pytensor/graph/rewriting/basic.py\", line 1914, in process_node\n",
      "    replacements = node_rewriter.transform(fgraph, node)\n",
      "  File \"/Users/wenyuzeng/anaconda3/lib/python3.10/site-packages/pytensor/graph/rewriting/basic.py\", line 1074, in transform\n",
      "    return self.fn(fgraph, node)\n",
      "  File \"/Users/wenyuzeng/anaconda3/lib/python3.10/site-packages/pytensor/tensor/rewriting/jax.py\", line 23, in boolean_indexing_set_or_inc\n",
      "    [x, y, cond] = node.inputs\n",
      "ValueError: too many values to unpack (expected 3)\n",
      "\n",
      "ERROR:pytensor.graph.rewriting.basic:Traceback (most recent call last):\n",
      "  File \"/Users/wenyuzeng/anaconda3/lib/python3.10/site-packages/pytensor/graph/rewriting/basic.py\", line 1914, in process_node\n",
      "    replacements = node_rewriter.transform(fgraph, node)\n",
      "  File \"/Users/wenyuzeng/anaconda3/lib/python3.10/site-packages/pytensor/graph/rewriting/basic.py\", line 1074, in transform\n",
      "    return self.fn(fgraph, node)\n",
      "  File \"/Users/wenyuzeng/anaconda3/lib/python3.10/site-packages/pytensor/tensor/rewriting/jax.py\", line 23, in boolean_indexing_set_or_inc\n",
      "    [x, y, cond] = node.inputs\n",
      "ValueError: too many values to unpack (expected 3)\n",
      "\n"
     ]
    },
    {
     "name": "stdout",
     "output_type": "stream",
     "text": [
      "Sampling time =  11:27:14.817439\n",
      "Transforming variables...\n",
      "Transformation time =  0:00:00.149008\n"
     ]
    },
    {
     "name": "stderr",
     "output_type": "stream",
     "text": [
      "Sampling: [likelihood]\n",
      "INFO:pymc.sampling.forward:Sampling: [likelihood]\n"
     ]
    },
    {
     "data": {
      "text/html": [
       "\n",
       "<style>\n",
       "    /* Turns off some styling */\n",
       "    progress {\n",
       "        /* gets rid of default border in Firefox and Opera. */\n",
       "        border: none;\n",
       "        /* Needs to be in here for Safari polyfill so background images work as expected. */\n",
       "        background-size: auto;\n",
       "    }\n",
       "    progress:not([value]), progress:not([value])::-webkit-progress-bar {\n",
       "        background: repeating-linear-gradient(45deg, #7e7e7e, #7e7e7e 10px, #5c5c5c 10px, #5c5c5c 20px);\n",
       "    }\n",
       "    .progress-bar-interrupted, .progress-bar-interrupted::-webkit-progress-bar {\n",
       "        background: #F44336;\n",
       "    }\n",
       "</style>\n"
      ],
      "text/plain": [
       "<IPython.core.display.HTML object>"
      ]
     },
     "metadata": {},
     "output_type": "display_data"
    },
    {
     "data": {
      "text/html": [
       "\n",
       "    <div>\n",
       "      <progress value='4000' class='' max='4000' style='width:300px; height:20px; vertical-align: middle;'></progress>\n",
       "      100.00% [4000/4000 00:36&lt;00:00]\n",
       "    </div>\n",
       "    "
      ],
      "text/plain": [
       "<IPython.core.display.HTML object>"
      ]
     },
     "metadata": {},
     "output_type": "display_data"
    },
    {
     "name": "stderr",
     "output_type": "stream",
     "text": [
      "Sampling: [beta_0, beta_1, beta_10, beta_11, beta_12, beta_13, beta_14, beta_15, beta_16, beta_17, beta_18, beta_19, beta_2, beta_20, beta_21, beta_22, beta_23, beta_24, beta_25, beta_26, beta_27, beta_28, beta_29, beta_3, beta_30, beta_31, beta_32, beta_33, beta_34, beta_35, beta_36, beta_37, beta_38, beta_39, beta_4, beta_5, beta_6, beta_7, beta_8, beta_9, beta_protocol, likelihood]\n",
      "INFO:pymc.sampling.forward:Sampling: [beta_0, beta_1, beta_10, beta_11, beta_12, beta_13, beta_14, beta_15, beta_16, beta_17, beta_18, beta_19, beta_2, beta_20, beta_21, beta_22, beta_23, beta_24, beta_25, beta_26, beta_27, beta_28, beta_29, beta_3, beta_30, beta_31, beta_32, beta_33, beta_34, beta_35, beta_36, beta_37, beta_38, beta_39, beta_4, beta_5, beta_6, beta_7, beta_8, beta_9, beta_protocol, likelihood]\n"
     ]
    },
    {
     "data": {
      "text/html": [
       "\n",
       "<style>\n",
       "    /* Turns off some styling */\n",
       "    progress {\n",
       "        /* gets rid of default border in Firefox and Opera. */\n",
       "        border: none;\n",
       "        /* Needs to be in here for Safari polyfill so background images work as expected. */\n",
       "        background-size: auto;\n",
       "    }\n",
       "    progress:not([value]), progress:not([value])::-webkit-progress-bar {\n",
       "        background: repeating-linear-gradient(45deg, #7e7e7e, #7e7e7e 10px, #5c5c5c 10px, #5c5c5c 20px);\n",
       "    }\n",
       "    .progress-bar-interrupted, .progress-bar-interrupted::-webkit-progress-bar {\n",
       "        background: #F44336;\n",
       "    }\n",
       "</style>\n"
      ],
      "text/plain": [
       "<IPython.core.display.HTML object>"
      ]
     },
     "metadata": {},
     "output_type": "display_data"
    },
    {
     "data": {
      "text/html": [
       "\n",
       "    <div>\n",
       "      <progress value='4000' class='' max='4000' style='width:300px; height:20px; vertical-align: middle;'></progress>\n",
       "      100.00% [4000/4000 02:40&lt;00:00]\n",
       "    </div>\n",
       "    "
      ],
      "text/plain": [
       "<IPython.core.display.HTML object>"
      ]
     },
     "metadata": {},
     "output_type": "display_data"
    },
    {
     "name": "stderr",
     "output_type": "stream",
     "text": [
      "Sampling: [beta_0, beta_1, beta_10, beta_11, beta_12, beta_13, beta_14, beta_15, beta_16, beta_17, beta_18, beta_19, beta_2, beta_20, beta_21, beta_22, beta_23, beta_24, beta_25, beta_26, beta_27, beta_28, beta_29, beta_3, beta_30, beta_31, beta_32, beta_33, beta_34, beta_35, beta_36, beta_37, beta_38, beta_39, beta_4, beta_5, beta_6, beta_7, beta_8, beta_9, beta_protocol, likelihood]\n",
      "INFO:pymc.sampling.forward:Sampling: [beta_0, beta_1, beta_10, beta_11, beta_12, beta_13, beta_14, beta_15, beta_16, beta_17, beta_18, beta_19, beta_2, beta_20, beta_21, beta_22, beta_23, beta_24, beta_25, beta_26, beta_27, beta_28, beta_29, beta_3, beta_30, beta_31, beta_32, beta_33, beta_34, beta_35, beta_36, beta_37, beta_38, beta_39, beta_4, beta_5, beta_6, beta_7, beta_8, beta_9, beta_protocol, likelihood]\n"
     ]
    },
    {
     "data": {
      "text/html": [
       "\n",
       "<style>\n",
       "    /* Turns off some styling */\n",
       "    progress {\n",
       "        /* gets rid of default border in Firefox and Opera. */\n",
       "        border: none;\n",
       "        /* Needs to be in here for Safari polyfill so background images work as expected. */\n",
       "        background-size: auto;\n",
       "    }\n",
       "    progress:not([value]), progress:not([value])::-webkit-progress-bar {\n",
       "        background: repeating-linear-gradient(45deg, #7e7e7e, #7e7e7e 10px, #5c5c5c 10px, #5c5c5c 20px);\n",
       "    }\n",
       "    .progress-bar-interrupted, .progress-bar-interrupted::-webkit-progress-bar {\n",
       "        background: #F44336;\n",
       "    }\n",
       "</style>\n"
      ],
      "text/plain": [
       "<IPython.core.display.HTML object>"
      ]
     },
     "metadata": {},
     "output_type": "display_data"
    },
    {
     "data": {
      "text/html": [
       "\n",
       "    <div>\n",
       "      <progress value='4000' class='' max='4000' style='width:300px; height:20px; vertical-align: middle;'></progress>\n",
       "      100.00% [4000/4000 02:41&lt;00:00]\n",
       "    </div>\n",
       "    "
      ],
      "text/plain": [
       "<IPython.core.display.HTML object>"
      ]
     },
     "metadata": {},
     "output_type": "display_data"
    },
    {
     "name": "stdout",
     "output_type": "stream",
     "text": [
      "1\n",
      "44848\n",
      "44848\n",
      "Compiling...\n"
     ]
    },
    {
     "name": "stderr",
     "output_type": "stream",
     "text": [
      "ERROR (pytensor.graph.rewriting.basic): Rewrite failure due to: boolean_indexing_set_or_inc\n",
      "ERROR:pytensor.graph.rewriting.basic:Rewrite failure due to: boolean_indexing_set_or_inc\n",
      "ERROR (pytensor.graph.rewriting.basic): node: AdvancedSetSubtensor(Alloc.0, AdvancedIncSubtensor1{no_inplace,set}.0, [ 0  1  1 ... 39 39 39], [ 0  0  1 ... 37 38 39])\n",
      "ERROR:pytensor.graph.rewriting.basic:node: AdvancedSetSubtensor(Alloc.0, AdvancedIncSubtensor1{no_inplace,set}.0, [ 0  1  1 ... 39 39 39], [ 0  0  1 ... 37 38 39])\n",
      "ERROR (pytensor.graph.rewriting.basic): TRACEBACK:\n",
      "ERROR:pytensor.graph.rewriting.basic:TRACEBACK:\n",
      "ERROR (pytensor.graph.rewriting.basic): Traceback (most recent call last):\n",
      "  File \"/Users/wenyuzeng/anaconda3/lib/python3.10/site-packages/pytensor/graph/rewriting/basic.py\", line 1914, in process_node\n",
      "    replacements = node_rewriter.transform(fgraph, node)\n",
      "  File \"/Users/wenyuzeng/anaconda3/lib/python3.10/site-packages/pytensor/graph/rewriting/basic.py\", line 1074, in transform\n",
      "    return self.fn(fgraph, node)\n",
      "  File \"/Users/wenyuzeng/anaconda3/lib/python3.10/site-packages/pytensor/tensor/rewriting/jax.py\", line 23, in boolean_indexing_set_or_inc\n",
      "    [x, y, cond] = node.inputs\n",
      "ValueError: too many values to unpack (expected 3)\n",
      "\n",
      "ERROR:pytensor.graph.rewriting.basic:Traceback (most recent call last):\n",
      "  File \"/Users/wenyuzeng/anaconda3/lib/python3.10/site-packages/pytensor/graph/rewriting/basic.py\", line 1914, in process_node\n",
      "    replacements = node_rewriter.transform(fgraph, node)\n",
      "  File \"/Users/wenyuzeng/anaconda3/lib/python3.10/site-packages/pytensor/graph/rewriting/basic.py\", line 1074, in transform\n",
      "    return self.fn(fgraph, node)\n",
      "  File \"/Users/wenyuzeng/anaconda3/lib/python3.10/site-packages/pytensor/tensor/rewriting/jax.py\", line 23, in boolean_indexing_set_or_inc\n",
      "    [x, y, cond] = node.inputs\n",
      "ValueError: too many values to unpack (expected 3)\n",
      "\n"
     ]
    },
    {
     "name": "stdout",
     "output_type": "stream",
     "text": [
      "Compilation time =  0:00:31.890685\n",
      "Sampling...\n"
     ]
    },
    {
     "data": {
      "application/vnd.jupyter.widget-view+json": {
       "model_id": "2fb0eebeea3043deafed2efc21345486",
       "version_major": 2,
       "version_minor": 0
      },
      "text/plain": [
       "  0%|          | 0/2000 [00:00<?, ?it/s]"
      ]
     },
     "metadata": {},
     "output_type": "display_data"
    },
    {
     "data": {
      "application/vnd.jupyter.widget-view+json": {
       "model_id": "b190a7877f714b9782ff56b3225a9f1f",
       "version_major": 2,
       "version_minor": 0
      },
      "text/plain": [
       "  0%|          | 0/2000 [00:00<?, ?it/s]"
      ]
     },
     "metadata": {},
     "output_type": "display_data"
    },
    {
     "data": {
      "application/vnd.jupyter.widget-view+json": {
       "model_id": "139edda0ddad46509a6a085088a8a924",
       "version_major": 2,
       "version_minor": 0
      },
      "text/plain": [
       "  0%|          | 0/2000 [00:00<?, ?it/s]"
      ]
     },
     "metadata": {},
     "output_type": "display_data"
    },
    {
     "data": {
      "application/vnd.jupyter.widget-view+json": {
       "model_id": "0df6a81e9d254f9e92467df91a74b6d0",
       "version_major": 2,
       "version_minor": 0
      },
      "text/plain": [
       "  0%|          | 0/2000 [00:00<?, ?it/s]"
      ]
     },
     "metadata": {},
     "output_type": "display_data"
    },
    {
     "name": "stderr",
     "output_type": "stream",
     "text": [
      "ERROR (pytensor.graph.rewriting.basic): Rewrite failure due to: boolean_indexing_set_or_inc\n",
      "ERROR:pytensor.graph.rewriting.basic:Rewrite failure due to: boolean_indexing_set_or_inc\n",
      "ERROR (pytensor.graph.rewriting.basic): node: AdvancedSetSubtensor(Alloc.0, AdvancedIncSubtensor1{no_inplace,set}.0, [ 0  1  1 ... 39 39 39], [ 0  0  1 ... 37 38 39])\n",
      "ERROR:pytensor.graph.rewriting.basic:node: AdvancedSetSubtensor(Alloc.0, AdvancedIncSubtensor1{no_inplace,set}.0, [ 0  1  1 ... 39 39 39], [ 0  0  1 ... 37 38 39])\n",
      "ERROR (pytensor.graph.rewriting.basic): TRACEBACK:\n",
      "ERROR:pytensor.graph.rewriting.basic:TRACEBACK:\n",
      "ERROR (pytensor.graph.rewriting.basic): Traceback (most recent call last):\n",
      "  File \"/Users/wenyuzeng/anaconda3/lib/python3.10/site-packages/pytensor/graph/rewriting/basic.py\", line 1914, in process_node\n",
      "    replacements = node_rewriter.transform(fgraph, node)\n",
      "  File \"/Users/wenyuzeng/anaconda3/lib/python3.10/site-packages/pytensor/graph/rewriting/basic.py\", line 1074, in transform\n",
      "    return self.fn(fgraph, node)\n",
      "  File \"/Users/wenyuzeng/anaconda3/lib/python3.10/site-packages/pytensor/tensor/rewriting/jax.py\", line 23, in boolean_indexing_set_or_inc\n",
      "    [x, y, cond] = node.inputs\n",
      "ValueError: too many values to unpack (expected 3)\n",
      "\n",
      "ERROR:pytensor.graph.rewriting.basic:Traceback (most recent call last):\n",
      "  File \"/Users/wenyuzeng/anaconda3/lib/python3.10/site-packages/pytensor/graph/rewriting/basic.py\", line 1914, in process_node\n",
      "    replacements = node_rewriter.transform(fgraph, node)\n",
      "  File \"/Users/wenyuzeng/anaconda3/lib/python3.10/site-packages/pytensor/graph/rewriting/basic.py\", line 1074, in transform\n",
      "    return self.fn(fgraph, node)\n",
      "  File \"/Users/wenyuzeng/anaconda3/lib/python3.10/site-packages/pytensor/tensor/rewriting/jax.py\", line 23, in boolean_indexing_set_or_inc\n",
      "    [x, y, cond] = node.inputs\n",
      "ValueError: too many values to unpack (expected 3)\n",
      "\n"
     ]
    },
    {
     "name": "stdout",
     "output_type": "stream",
     "text": [
      "Sampling time =  15:15:45.652981\n",
      "Transforming variables...\n",
      "Transformation time =  0:00:00.153382\n"
     ]
    },
    {
     "name": "stderr",
     "output_type": "stream",
     "text": [
      "Sampling: [likelihood]\n",
      "INFO:pymc.sampling.forward:Sampling: [likelihood]\n"
     ]
    },
    {
     "data": {
      "text/html": [
       "\n",
       "<style>\n",
       "    /* Turns off some styling */\n",
       "    progress {\n",
       "        /* gets rid of default border in Firefox and Opera. */\n",
       "        border: none;\n",
       "        /* Needs to be in here for Safari polyfill so background images work as expected. */\n",
       "        background-size: auto;\n",
       "    }\n",
       "    progress:not([value]), progress:not([value])::-webkit-progress-bar {\n",
       "        background: repeating-linear-gradient(45deg, #7e7e7e, #7e7e7e 10px, #5c5c5c 10px, #5c5c5c 20px);\n",
       "    }\n",
       "    .progress-bar-interrupted, .progress-bar-interrupted::-webkit-progress-bar {\n",
       "        background: #F44336;\n",
       "    }\n",
       "</style>\n"
      ],
      "text/plain": [
       "<IPython.core.display.HTML object>"
      ]
     },
     "metadata": {},
     "output_type": "display_data"
    },
    {
     "data": {
      "text/html": [
       "\n",
       "    <div>\n",
       "      <progress value='4000' class='' max='4000' style='width:300px; height:20px; vertical-align: middle;'></progress>\n",
       "      100.00% [4000/4000 00:36&lt;00:00]\n",
       "    </div>\n",
       "    "
      ],
      "text/plain": [
       "<IPython.core.display.HTML object>"
      ]
     },
     "metadata": {},
     "output_type": "display_data"
    },
    {
     "name": "stderr",
     "output_type": "stream",
     "text": [
      "Sampling: [beta_0, beta_1, beta_10, beta_11, beta_12, beta_13, beta_14, beta_15, beta_16, beta_17, beta_18, beta_19, beta_2, beta_20, beta_21, beta_22, beta_23, beta_24, beta_25, beta_26, beta_27, beta_28, beta_29, beta_3, beta_30, beta_31, beta_32, beta_33, beta_34, beta_35, beta_36, beta_37, beta_38, beta_39, beta_4, beta_5, beta_6, beta_7, beta_8, beta_9, beta_protocol, likelihood]\n",
      "INFO:pymc.sampling.forward:Sampling: [beta_0, beta_1, beta_10, beta_11, beta_12, beta_13, beta_14, beta_15, beta_16, beta_17, beta_18, beta_19, beta_2, beta_20, beta_21, beta_22, beta_23, beta_24, beta_25, beta_26, beta_27, beta_28, beta_29, beta_3, beta_30, beta_31, beta_32, beta_33, beta_34, beta_35, beta_36, beta_37, beta_38, beta_39, beta_4, beta_5, beta_6, beta_7, beta_8, beta_9, beta_protocol, likelihood]\n"
     ]
    },
    {
     "data": {
      "text/html": [
       "\n",
       "<style>\n",
       "    /* Turns off some styling */\n",
       "    progress {\n",
       "        /* gets rid of default border in Firefox and Opera. */\n",
       "        border: none;\n",
       "        /* Needs to be in here for Safari polyfill so background images work as expected. */\n",
       "        background-size: auto;\n",
       "    }\n",
       "    progress:not([value]), progress:not([value])::-webkit-progress-bar {\n",
       "        background: repeating-linear-gradient(45deg, #7e7e7e, #7e7e7e 10px, #5c5c5c 10px, #5c5c5c 20px);\n",
       "    }\n",
       "    .progress-bar-interrupted, .progress-bar-interrupted::-webkit-progress-bar {\n",
       "        background: #F44336;\n",
       "    }\n",
       "</style>\n"
      ],
      "text/plain": [
       "<IPython.core.display.HTML object>"
      ]
     },
     "metadata": {},
     "output_type": "display_data"
    },
    {
     "data": {
      "text/html": [
       "\n",
       "    <div>\n",
       "      <progress value='4000' class='' max='4000' style='width:300px; height:20px; vertical-align: middle;'></progress>\n",
       "      100.00% [4000/4000 02:41&lt;00:00]\n",
       "    </div>\n",
       "    "
      ],
      "text/plain": [
       "<IPython.core.display.HTML object>"
      ]
     },
     "metadata": {},
     "output_type": "display_data"
    },
    {
     "name": "stderr",
     "output_type": "stream",
     "text": [
      "Sampling: [beta_0, beta_1, beta_10, beta_11, beta_12, beta_13, beta_14, beta_15, beta_16, beta_17, beta_18, beta_19, beta_2, beta_20, beta_21, beta_22, beta_23, beta_24, beta_25, beta_26, beta_27, beta_28, beta_29, beta_3, beta_30, beta_31, beta_32, beta_33, beta_34, beta_35, beta_36, beta_37, beta_38, beta_39, beta_4, beta_5, beta_6, beta_7, beta_8, beta_9, beta_protocol, likelihood]\n",
      "INFO:pymc.sampling.forward:Sampling: [beta_0, beta_1, beta_10, beta_11, beta_12, beta_13, beta_14, beta_15, beta_16, beta_17, beta_18, beta_19, beta_2, beta_20, beta_21, beta_22, beta_23, beta_24, beta_25, beta_26, beta_27, beta_28, beta_29, beta_3, beta_30, beta_31, beta_32, beta_33, beta_34, beta_35, beta_36, beta_37, beta_38, beta_39, beta_4, beta_5, beta_6, beta_7, beta_8, beta_9, beta_protocol, likelihood]\n"
     ]
    },
    {
     "data": {
      "text/html": [
       "\n",
       "<style>\n",
       "    /* Turns off some styling */\n",
       "    progress {\n",
       "        /* gets rid of default border in Firefox and Opera. */\n",
       "        border: none;\n",
       "        /* Needs to be in here for Safari polyfill so background images work as expected. */\n",
       "        background-size: auto;\n",
       "    }\n",
       "    progress:not([value]), progress:not([value])::-webkit-progress-bar {\n",
       "        background: repeating-linear-gradient(45deg, #7e7e7e, #7e7e7e 10px, #5c5c5c 10px, #5c5c5c 20px);\n",
       "    }\n",
       "    .progress-bar-interrupted, .progress-bar-interrupted::-webkit-progress-bar {\n",
       "        background: #F44336;\n",
       "    }\n",
       "</style>\n"
      ],
      "text/plain": [
       "<IPython.core.display.HTML object>"
      ]
     },
     "metadata": {},
     "output_type": "display_data"
    },
    {
     "data": {
      "text/html": [
       "\n",
       "    <div>\n",
       "      <progress value='4000' class='' max='4000' style='width:300px; height:20px; vertical-align: middle;'></progress>\n",
       "      100.00% [4000/4000 02:38&lt;00:00]\n",
       "    </div>\n",
       "    "
      ],
      "text/plain": [
       "<IPython.core.display.HTML object>"
      ]
     },
     "metadata": {},
     "output_type": "display_data"
    },
    {
     "name": "stdout",
     "output_type": "stream",
     "text": [
      "2\n",
      "45134\n",
      "45134\n",
      "Compiling...\n"
     ]
    },
    {
     "name": "stderr",
     "output_type": "stream",
     "text": [
      "ERROR (pytensor.graph.rewriting.basic): Rewrite failure due to: boolean_indexing_set_or_inc\n",
      "ERROR:pytensor.graph.rewriting.basic:Rewrite failure due to: boolean_indexing_set_or_inc\n",
      "ERROR (pytensor.graph.rewriting.basic): node: AdvancedSetSubtensor(Alloc.0, AdvancedIncSubtensor1{no_inplace,set}.0, [ 0  1  1 ... 39 39 39], [ 0  0  1 ... 37 38 39])\n",
      "ERROR:pytensor.graph.rewriting.basic:node: AdvancedSetSubtensor(Alloc.0, AdvancedIncSubtensor1{no_inplace,set}.0, [ 0  1  1 ... 39 39 39], [ 0  0  1 ... 37 38 39])\n",
      "ERROR (pytensor.graph.rewriting.basic): TRACEBACK:\n",
      "ERROR:pytensor.graph.rewriting.basic:TRACEBACK:\n",
      "ERROR (pytensor.graph.rewriting.basic): Traceback (most recent call last):\n",
      "  File \"/Users/wenyuzeng/anaconda3/lib/python3.10/site-packages/pytensor/graph/rewriting/basic.py\", line 1914, in process_node\n",
      "    replacements = node_rewriter.transform(fgraph, node)\n",
      "  File \"/Users/wenyuzeng/anaconda3/lib/python3.10/site-packages/pytensor/graph/rewriting/basic.py\", line 1074, in transform\n",
      "    return self.fn(fgraph, node)\n",
      "  File \"/Users/wenyuzeng/anaconda3/lib/python3.10/site-packages/pytensor/tensor/rewriting/jax.py\", line 23, in boolean_indexing_set_or_inc\n",
      "    [x, y, cond] = node.inputs\n",
      "ValueError: too many values to unpack (expected 3)\n",
      "\n",
      "ERROR:pytensor.graph.rewriting.basic:Traceback (most recent call last):\n",
      "  File \"/Users/wenyuzeng/anaconda3/lib/python3.10/site-packages/pytensor/graph/rewriting/basic.py\", line 1914, in process_node\n",
      "    replacements = node_rewriter.transform(fgraph, node)\n",
      "  File \"/Users/wenyuzeng/anaconda3/lib/python3.10/site-packages/pytensor/graph/rewriting/basic.py\", line 1074, in transform\n",
      "    return self.fn(fgraph, node)\n",
      "  File \"/Users/wenyuzeng/anaconda3/lib/python3.10/site-packages/pytensor/tensor/rewriting/jax.py\", line 23, in boolean_indexing_set_or_inc\n",
      "    [x, y, cond] = node.inputs\n",
      "ValueError: too many values to unpack (expected 3)\n",
      "\n"
     ]
    },
    {
     "name": "stdout",
     "output_type": "stream",
     "text": [
      "Compilation time =  0:00:32.571453\n",
      "Sampling...\n"
     ]
    },
    {
     "data": {
      "application/vnd.jupyter.widget-view+json": {
       "model_id": "3b778fed43a74a838a6532c086435cc0",
       "version_major": 2,
       "version_minor": 0
      },
      "text/plain": [
       "  0%|          | 0/2000 [00:00<?, ?it/s]"
      ]
     },
     "metadata": {},
     "output_type": "display_data"
    },
    {
     "data": {
      "application/vnd.jupyter.widget-view+json": {
       "model_id": "2974c8fc884848848dbe426bff21456f",
       "version_major": 2,
       "version_minor": 0
      },
      "text/plain": [
       "  0%|          | 0/2000 [00:00<?, ?it/s]"
      ]
     },
     "metadata": {},
     "output_type": "display_data"
    },
    {
     "data": {
      "application/vnd.jupyter.widget-view+json": {
       "model_id": "d0ce8ae8b3cc48c8ac102823ea981e49",
       "version_major": 2,
       "version_minor": 0
      },
      "text/plain": [
       "  0%|          | 0/2000 [00:00<?, ?it/s]"
      ]
     },
     "metadata": {},
     "output_type": "display_data"
    },
    {
     "data": {
      "application/vnd.jupyter.widget-view+json": {
       "model_id": "3ad2f2273ce143ab8c108237bcc51956",
       "version_major": 2,
       "version_minor": 0
      },
      "text/plain": [
       "  0%|          | 0/2000 [00:00<?, ?it/s]"
      ]
     },
     "metadata": {},
     "output_type": "display_data"
    },
    {
     "name": "stderr",
     "output_type": "stream",
     "text": [
      "ERROR (pytensor.graph.rewriting.basic): Rewrite failure due to: boolean_indexing_set_or_inc\n",
      "ERROR:pytensor.graph.rewriting.basic:Rewrite failure due to: boolean_indexing_set_or_inc\n",
      "ERROR (pytensor.graph.rewriting.basic): node: AdvancedSetSubtensor(Alloc.0, AdvancedIncSubtensor1{no_inplace,set}.0, [ 0  1  1 ... 39 39 39], [ 0  0  1 ... 37 38 39])\n",
      "ERROR:pytensor.graph.rewriting.basic:node: AdvancedSetSubtensor(Alloc.0, AdvancedIncSubtensor1{no_inplace,set}.0, [ 0  1  1 ... 39 39 39], [ 0  0  1 ... 37 38 39])\n",
      "ERROR (pytensor.graph.rewriting.basic): TRACEBACK:\n",
      "ERROR:pytensor.graph.rewriting.basic:TRACEBACK:\n",
      "ERROR (pytensor.graph.rewriting.basic): Traceback (most recent call last):\n",
      "  File \"/Users/wenyuzeng/anaconda3/lib/python3.10/site-packages/pytensor/graph/rewriting/basic.py\", line 1914, in process_node\n",
      "    replacements = node_rewriter.transform(fgraph, node)\n",
      "  File \"/Users/wenyuzeng/anaconda3/lib/python3.10/site-packages/pytensor/graph/rewriting/basic.py\", line 1074, in transform\n",
      "    return self.fn(fgraph, node)\n",
      "  File \"/Users/wenyuzeng/anaconda3/lib/python3.10/site-packages/pytensor/tensor/rewriting/jax.py\", line 23, in boolean_indexing_set_or_inc\n",
      "    [x, y, cond] = node.inputs\n",
      "ValueError: too many values to unpack (expected 3)\n",
      "\n",
      "ERROR:pytensor.graph.rewriting.basic:Traceback (most recent call last):\n",
      "  File \"/Users/wenyuzeng/anaconda3/lib/python3.10/site-packages/pytensor/graph/rewriting/basic.py\", line 1914, in process_node\n",
      "    replacements = node_rewriter.transform(fgraph, node)\n",
      "  File \"/Users/wenyuzeng/anaconda3/lib/python3.10/site-packages/pytensor/graph/rewriting/basic.py\", line 1074, in transform\n",
      "    return self.fn(fgraph, node)\n",
      "  File \"/Users/wenyuzeng/anaconda3/lib/python3.10/site-packages/pytensor/tensor/rewriting/jax.py\", line 23, in boolean_indexing_set_or_inc\n",
      "    [x, y, cond] = node.inputs\n",
      "ValueError: too many values to unpack (expected 3)\n",
      "\n"
     ]
    },
    {
     "name": "stdout",
     "output_type": "stream",
     "text": [
      "Sampling time =  12:05:27.105451\n",
      "Transforming variables...\n",
      "Transformation time =  0:00:00.191698\n"
     ]
    },
    {
     "name": "stderr",
     "output_type": "stream",
     "text": [
      "Sampling: [likelihood]\n",
      "INFO:pymc.sampling.forward:Sampling: [likelihood]\n"
     ]
    },
    {
     "data": {
      "text/html": [
       "\n",
       "<style>\n",
       "    /* Turns off some styling */\n",
       "    progress {\n",
       "        /* gets rid of default border in Firefox and Opera. */\n",
       "        border: none;\n",
       "        /* Needs to be in here for Safari polyfill so background images work as expected. */\n",
       "        background-size: auto;\n",
       "    }\n",
       "    progress:not([value]), progress:not([value])::-webkit-progress-bar {\n",
       "        background: repeating-linear-gradient(45deg, #7e7e7e, #7e7e7e 10px, #5c5c5c 10px, #5c5c5c 20px);\n",
       "    }\n",
       "    .progress-bar-interrupted, .progress-bar-interrupted::-webkit-progress-bar {\n",
       "        background: #F44336;\n",
       "    }\n",
       "</style>\n"
      ],
      "text/plain": [
       "<IPython.core.display.HTML object>"
      ]
     },
     "metadata": {},
     "output_type": "display_data"
    },
    {
     "data": {
      "text/html": [
       "\n",
       "    <div>\n",
       "      <progress value='4000' class='' max='4000' style='width:300px; height:20px; vertical-align: middle;'></progress>\n",
       "      100.00% [4000/4000 00:35&lt;00:00]\n",
       "    </div>\n",
       "    "
      ],
      "text/plain": [
       "<IPython.core.display.HTML object>"
      ]
     },
     "metadata": {},
     "output_type": "display_data"
    },
    {
     "name": "stderr",
     "output_type": "stream",
     "text": [
      "Sampling: [beta_0, beta_1, beta_10, beta_11, beta_12, beta_13, beta_14, beta_15, beta_16, beta_17, beta_18, beta_19, beta_2, beta_20, beta_21, beta_22, beta_23, beta_24, beta_25, beta_26, beta_27, beta_28, beta_29, beta_3, beta_30, beta_31, beta_32, beta_33, beta_34, beta_35, beta_36, beta_37, beta_38, beta_39, beta_4, beta_5, beta_6, beta_7, beta_8, beta_9, beta_protocol, likelihood]\n",
      "INFO:pymc.sampling.forward:Sampling: [beta_0, beta_1, beta_10, beta_11, beta_12, beta_13, beta_14, beta_15, beta_16, beta_17, beta_18, beta_19, beta_2, beta_20, beta_21, beta_22, beta_23, beta_24, beta_25, beta_26, beta_27, beta_28, beta_29, beta_3, beta_30, beta_31, beta_32, beta_33, beta_34, beta_35, beta_36, beta_37, beta_38, beta_39, beta_4, beta_5, beta_6, beta_7, beta_8, beta_9, beta_protocol, likelihood]\n"
     ]
    },
    {
     "data": {
      "text/html": [
       "\n",
       "<style>\n",
       "    /* Turns off some styling */\n",
       "    progress {\n",
       "        /* gets rid of default border in Firefox and Opera. */\n",
       "        border: none;\n",
       "        /* Needs to be in here for Safari polyfill so background images work as expected. */\n",
       "        background-size: auto;\n",
       "    }\n",
       "    progress:not([value]), progress:not([value])::-webkit-progress-bar {\n",
       "        background: repeating-linear-gradient(45deg, #7e7e7e, #7e7e7e 10px, #5c5c5c 10px, #5c5c5c 20px);\n",
       "    }\n",
       "    .progress-bar-interrupted, .progress-bar-interrupted::-webkit-progress-bar {\n",
       "        background: #F44336;\n",
       "    }\n",
       "</style>\n"
      ],
      "text/plain": [
       "<IPython.core.display.HTML object>"
      ]
     },
     "metadata": {},
     "output_type": "display_data"
    },
    {
     "data": {
      "text/html": [
       "\n",
       "    <div>\n",
       "      <progress value='4000' class='' max='4000' style='width:300px; height:20px; vertical-align: middle;'></progress>\n",
       "      100.00% [4000/4000 02:38&lt;00:00]\n",
       "    </div>\n",
       "    "
      ],
      "text/plain": [
       "<IPython.core.display.HTML object>"
      ]
     },
     "metadata": {},
     "output_type": "display_data"
    },
    {
     "name": "stderr",
     "output_type": "stream",
     "text": [
      "Sampling: [beta_0, beta_1, beta_10, beta_11, beta_12, beta_13, beta_14, beta_15, beta_16, beta_17, beta_18, beta_19, beta_2, beta_20, beta_21, beta_22, beta_23, beta_24, beta_25, beta_26, beta_27, beta_28, beta_29, beta_3, beta_30, beta_31, beta_32, beta_33, beta_34, beta_35, beta_36, beta_37, beta_38, beta_39, beta_4, beta_5, beta_6, beta_7, beta_8, beta_9, beta_protocol, likelihood]\n",
      "INFO:pymc.sampling.forward:Sampling: [beta_0, beta_1, beta_10, beta_11, beta_12, beta_13, beta_14, beta_15, beta_16, beta_17, beta_18, beta_19, beta_2, beta_20, beta_21, beta_22, beta_23, beta_24, beta_25, beta_26, beta_27, beta_28, beta_29, beta_3, beta_30, beta_31, beta_32, beta_33, beta_34, beta_35, beta_36, beta_37, beta_38, beta_39, beta_4, beta_5, beta_6, beta_7, beta_8, beta_9, beta_protocol, likelihood]\n"
     ]
    },
    {
     "data": {
      "text/html": [
       "\n",
       "<style>\n",
       "    /* Turns off some styling */\n",
       "    progress {\n",
       "        /* gets rid of default border in Firefox and Opera. */\n",
       "        border: none;\n",
       "        /* Needs to be in here for Safari polyfill so background images work as expected. */\n",
       "        background-size: auto;\n",
       "    }\n",
       "    progress:not([value]), progress:not([value])::-webkit-progress-bar {\n",
       "        background: repeating-linear-gradient(45deg, #7e7e7e, #7e7e7e 10px, #5c5c5c 10px, #5c5c5c 20px);\n",
       "    }\n",
       "    .progress-bar-interrupted, .progress-bar-interrupted::-webkit-progress-bar {\n",
       "        background: #F44336;\n",
       "    }\n",
       "</style>\n"
      ],
      "text/plain": [
       "<IPython.core.display.HTML object>"
      ]
     },
     "metadata": {},
     "output_type": "display_data"
    },
    {
     "data": {
      "text/html": [
       "\n",
       "    <div>\n",
       "      <progress value='4000' class='' max='4000' style='width:300px; height:20px; vertical-align: middle;'></progress>\n",
       "      100.00% [4000/4000 02:38&lt;00:00]\n",
       "    </div>\n",
       "    "
      ],
      "text/plain": [
       "<IPython.core.display.HTML object>"
      ]
     },
     "metadata": {},
     "output_type": "display_data"
    },
    {
     "name": "stdout",
     "output_type": "stream",
     "text": [
      "3\n",
      "44950\n",
      "44950\n",
      "Compiling...\n"
     ]
    },
    {
     "name": "stderr",
     "output_type": "stream",
     "text": [
      "ERROR (pytensor.graph.rewriting.basic): Rewrite failure due to: boolean_indexing_set_or_inc\n",
      "ERROR:pytensor.graph.rewriting.basic:Rewrite failure due to: boolean_indexing_set_or_inc\n",
      "ERROR (pytensor.graph.rewriting.basic): node: AdvancedSetSubtensor(Alloc.0, AdvancedIncSubtensor1{no_inplace,set}.0, [ 0  1  1 ... 39 39 39], [ 0  0  1 ... 37 38 39])\n",
      "ERROR:pytensor.graph.rewriting.basic:node: AdvancedSetSubtensor(Alloc.0, AdvancedIncSubtensor1{no_inplace,set}.0, [ 0  1  1 ... 39 39 39], [ 0  0  1 ... 37 38 39])\n",
      "ERROR (pytensor.graph.rewriting.basic): TRACEBACK:\n",
      "ERROR:pytensor.graph.rewriting.basic:TRACEBACK:\n",
      "ERROR (pytensor.graph.rewriting.basic): Traceback (most recent call last):\n",
      "  File \"/Users/wenyuzeng/anaconda3/lib/python3.10/site-packages/pytensor/graph/rewriting/basic.py\", line 1914, in process_node\n",
      "    replacements = node_rewriter.transform(fgraph, node)\n",
      "  File \"/Users/wenyuzeng/anaconda3/lib/python3.10/site-packages/pytensor/graph/rewriting/basic.py\", line 1074, in transform\n",
      "    return self.fn(fgraph, node)\n",
      "  File \"/Users/wenyuzeng/anaconda3/lib/python3.10/site-packages/pytensor/tensor/rewriting/jax.py\", line 23, in boolean_indexing_set_or_inc\n",
      "    [x, y, cond] = node.inputs\n",
      "ValueError: too many values to unpack (expected 3)\n",
      "\n",
      "ERROR:pytensor.graph.rewriting.basic:Traceback (most recent call last):\n",
      "  File \"/Users/wenyuzeng/anaconda3/lib/python3.10/site-packages/pytensor/graph/rewriting/basic.py\", line 1914, in process_node\n",
      "    replacements = node_rewriter.transform(fgraph, node)\n",
      "  File \"/Users/wenyuzeng/anaconda3/lib/python3.10/site-packages/pytensor/graph/rewriting/basic.py\", line 1074, in transform\n",
      "    return self.fn(fgraph, node)\n",
      "  File \"/Users/wenyuzeng/anaconda3/lib/python3.10/site-packages/pytensor/tensor/rewriting/jax.py\", line 23, in boolean_indexing_set_or_inc\n",
      "    [x, y, cond] = node.inputs\n",
      "ValueError: too many values to unpack (expected 3)\n",
      "\n"
     ]
    },
    {
     "name": "stdout",
     "output_type": "stream",
     "text": [
      "Compilation time =  0:00:33.215816\n",
      "Sampling...\n"
     ]
    },
    {
     "data": {
      "application/vnd.jupyter.widget-view+json": {
       "model_id": "8db33b35942a40d784c3931f797001a7",
       "version_major": 2,
       "version_minor": 0
      },
      "text/plain": [
       "  0%|          | 0/2000 [00:00<?, ?it/s]"
      ]
     },
     "metadata": {},
     "output_type": "display_data"
    },
    {
     "data": {
      "application/vnd.jupyter.widget-view+json": {
       "model_id": "ee418d21ce004bf3aa2b89590df76038",
       "version_major": 2,
       "version_minor": 0
      },
      "text/plain": [
       "  0%|          | 0/2000 [00:00<?, ?it/s]"
      ]
     },
     "metadata": {},
     "output_type": "display_data"
    },
    {
     "data": {
      "application/vnd.jupyter.widget-view+json": {
       "model_id": "3f60204201074b16a02ee7c720dc2961",
       "version_major": 2,
       "version_minor": 0
      },
      "text/plain": [
       "  0%|          | 0/2000 [00:00<?, ?it/s]"
      ]
     },
     "metadata": {},
     "output_type": "display_data"
    },
    {
     "data": {
      "application/vnd.jupyter.widget-view+json": {
       "model_id": "72785fd8523f4af1a3df1990d91f05b7",
       "version_major": 2,
       "version_minor": 0
      },
      "text/plain": [
       "  0%|          | 0/2000 [00:00<?, ?it/s]"
      ]
     },
     "metadata": {},
     "output_type": "display_data"
    },
    {
     "name": "stderr",
     "output_type": "stream",
     "text": [
      "ERROR (pytensor.graph.rewriting.basic): Rewrite failure due to: boolean_indexing_set_or_inc\n",
      "ERROR:pytensor.graph.rewriting.basic:Rewrite failure due to: boolean_indexing_set_or_inc\n",
      "ERROR (pytensor.graph.rewriting.basic): node: AdvancedSetSubtensor(Alloc.0, AdvancedIncSubtensor1{no_inplace,set}.0, [ 0  1  1 ... 39 39 39], [ 0  0  1 ... 37 38 39])\n",
      "ERROR:pytensor.graph.rewriting.basic:node: AdvancedSetSubtensor(Alloc.0, AdvancedIncSubtensor1{no_inplace,set}.0, [ 0  1  1 ... 39 39 39], [ 0  0  1 ... 37 38 39])\n",
      "ERROR (pytensor.graph.rewriting.basic): TRACEBACK:\n",
      "ERROR:pytensor.graph.rewriting.basic:TRACEBACK:\n",
      "ERROR (pytensor.graph.rewriting.basic): Traceback (most recent call last):\n",
      "  File \"/Users/wenyuzeng/anaconda3/lib/python3.10/site-packages/pytensor/graph/rewriting/basic.py\", line 1914, in process_node\n",
      "    replacements = node_rewriter.transform(fgraph, node)\n",
      "  File \"/Users/wenyuzeng/anaconda3/lib/python3.10/site-packages/pytensor/graph/rewriting/basic.py\", line 1074, in transform\n",
      "    return self.fn(fgraph, node)\n",
      "  File \"/Users/wenyuzeng/anaconda3/lib/python3.10/site-packages/pytensor/tensor/rewriting/jax.py\", line 23, in boolean_indexing_set_or_inc\n",
      "    [x, y, cond] = node.inputs\n",
      "ValueError: too many values to unpack (expected 3)\n",
      "\n",
      "ERROR:pytensor.graph.rewriting.basic:Traceback (most recent call last):\n",
      "  File \"/Users/wenyuzeng/anaconda3/lib/python3.10/site-packages/pytensor/graph/rewriting/basic.py\", line 1914, in process_node\n",
      "    replacements = node_rewriter.transform(fgraph, node)\n",
      "  File \"/Users/wenyuzeng/anaconda3/lib/python3.10/site-packages/pytensor/graph/rewriting/basic.py\", line 1074, in transform\n",
      "    return self.fn(fgraph, node)\n",
      "  File \"/Users/wenyuzeng/anaconda3/lib/python3.10/site-packages/pytensor/tensor/rewriting/jax.py\", line 23, in boolean_indexing_set_or_inc\n",
      "    [x, y, cond] = node.inputs\n",
      "ValueError: too many values to unpack (expected 3)\n",
      "\n"
     ]
    },
    {
     "name": "stdout",
     "output_type": "stream",
     "text": [
      "Sampling time =  11:46:53.988772\n",
      "Transforming variables...\n",
      "Transformation time =  0:00:00.163359\n"
     ]
    },
    {
     "name": "stderr",
     "output_type": "stream",
     "text": [
      "Sampling: [likelihood]\n",
      "INFO:pymc.sampling.forward:Sampling: [likelihood]\n"
     ]
    },
    {
     "data": {
      "text/html": [
       "\n",
       "<style>\n",
       "    /* Turns off some styling */\n",
       "    progress {\n",
       "        /* gets rid of default border in Firefox and Opera. */\n",
       "        border: none;\n",
       "        /* Needs to be in here for Safari polyfill so background images work as expected. */\n",
       "        background-size: auto;\n",
       "    }\n",
       "    progress:not([value]), progress:not([value])::-webkit-progress-bar {\n",
       "        background: repeating-linear-gradient(45deg, #7e7e7e, #7e7e7e 10px, #5c5c5c 10px, #5c5c5c 20px);\n",
       "    }\n",
       "    .progress-bar-interrupted, .progress-bar-interrupted::-webkit-progress-bar {\n",
       "        background: #F44336;\n",
       "    }\n",
       "</style>\n"
      ],
      "text/plain": [
       "<IPython.core.display.HTML object>"
      ]
     },
     "metadata": {},
     "output_type": "display_data"
    },
    {
     "data": {
      "text/html": [
       "\n",
       "    <div>\n",
       "      <progress value='4000' class='' max='4000' style='width:300px; height:20px; vertical-align: middle;'></progress>\n",
       "      100.00% [4000/4000 00:35&lt;00:00]\n",
       "    </div>\n",
       "    "
      ],
      "text/plain": [
       "<IPython.core.display.HTML object>"
      ]
     },
     "metadata": {},
     "output_type": "display_data"
    },
    {
     "name": "stderr",
     "output_type": "stream",
     "text": [
      "Sampling: [beta_0, beta_1, beta_10, beta_11, beta_12, beta_13, beta_14, beta_15, beta_16, beta_17, beta_18, beta_19, beta_2, beta_20, beta_21, beta_22, beta_23, beta_24, beta_25, beta_26, beta_27, beta_28, beta_29, beta_3, beta_30, beta_31, beta_32, beta_33, beta_34, beta_35, beta_36, beta_37, beta_38, beta_39, beta_4, beta_5, beta_6, beta_7, beta_8, beta_9, beta_protocol, likelihood]\n",
      "INFO:pymc.sampling.forward:Sampling: [beta_0, beta_1, beta_10, beta_11, beta_12, beta_13, beta_14, beta_15, beta_16, beta_17, beta_18, beta_19, beta_2, beta_20, beta_21, beta_22, beta_23, beta_24, beta_25, beta_26, beta_27, beta_28, beta_29, beta_3, beta_30, beta_31, beta_32, beta_33, beta_34, beta_35, beta_36, beta_37, beta_38, beta_39, beta_4, beta_5, beta_6, beta_7, beta_8, beta_9, beta_protocol, likelihood]\n"
     ]
    },
    {
     "data": {
      "text/html": [
       "\n",
       "<style>\n",
       "    /* Turns off some styling */\n",
       "    progress {\n",
       "        /* gets rid of default border in Firefox and Opera. */\n",
       "        border: none;\n",
       "        /* Needs to be in here for Safari polyfill so background images work as expected. */\n",
       "        background-size: auto;\n",
       "    }\n",
       "    progress:not([value]), progress:not([value])::-webkit-progress-bar {\n",
       "        background: repeating-linear-gradient(45deg, #7e7e7e, #7e7e7e 10px, #5c5c5c 10px, #5c5c5c 20px);\n",
       "    }\n",
       "    .progress-bar-interrupted, .progress-bar-interrupted::-webkit-progress-bar {\n",
       "        background: #F44336;\n",
       "    }\n",
       "</style>\n"
      ],
      "text/plain": [
       "<IPython.core.display.HTML object>"
      ]
     },
     "metadata": {},
     "output_type": "display_data"
    },
    {
     "data": {
      "text/html": [
       "\n",
       "    <div>\n",
       "      <progress value='4000' class='' max='4000' style='width:300px; height:20px; vertical-align: middle;'></progress>\n",
       "      100.00% [4000/4000 02:41&lt;00:00]\n",
       "    </div>\n",
       "    "
      ],
      "text/plain": [
       "<IPython.core.display.HTML object>"
      ]
     },
     "metadata": {},
     "output_type": "display_data"
    },
    {
     "name": "stderr",
     "output_type": "stream",
     "text": [
      "Sampling: [beta_0, beta_1, beta_10, beta_11, beta_12, beta_13, beta_14, beta_15, beta_16, beta_17, beta_18, beta_19, beta_2, beta_20, beta_21, beta_22, beta_23, beta_24, beta_25, beta_26, beta_27, beta_28, beta_29, beta_3, beta_30, beta_31, beta_32, beta_33, beta_34, beta_35, beta_36, beta_37, beta_38, beta_39, beta_4, beta_5, beta_6, beta_7, beta_8, beta_9, beta_protocol, likelihood]\n",
      "INFO:pymc.sampling.forward:Sampling: [beta_0, beta_1, beta_10, beta_11, beta_12, beta_13, beta_14, beta_15, beta_16, beta_17, beta_18, beta_19, beta_2, beta_20, beta_21, beta_22, beta_23, beta_24, beta_25, beta_26, beta_27, beta_28, beta_29, beta_3, beta_30, beta_31, beta_32, beta_33, beta_34, beta_35, beta_36, beta_37, beta_38, beta_39, beta_4, beta_5, beta_6, beta_7, beta_8, beta_9, beta_protocol, likelihood]\n"
     ]
    },
    {
     "data": {
      "text/html": [
       "\n",
       "<style>\n",
       "    /* Turns off some styling */\n",
       "    progress {\n",
       "        /* gets rid of default border in Firefox and Opera. */\n",
       "        border: none;\n",
       "        /* Needs to be in here for Safari polyfill so background images work as expected. */\n",
       "        background-size: auto;\n",
       "    }\n",
       "    progress:not([value]), progress:not([value])::-webkit-progress-bar {\n",
       "        background: repeating-linear-gradient(45deg, #7e7e7e, #7e7e7e 10px, #5c5c5c 10px, #5c5c5c 20px);\n",
       "    }\n",
       "    .progress-bar-interrupted, .progress-bar-interrupted::-webkit-progress-bar {\n",
       "        background: #F44336;\n",
       "    }\n",
       "</style>\n"
      ],
      "text/plain": [
       "<IPython.core.display.HTML object>"
      ]
     },
     "metadata": {},
     "output_type": "display_data"
    },
    {
     "data": {
      "text/html": [
       "\n",
       "    <div>\n",
       "      <progress value='4000' class='' max='4000' style='width:300px; height:20px; vertical-align: middle;'></progress>\n",
       "      100.00% [4000/4000 02:38&lt;00:00]\n",
       "    </div>\n",
       "    "
      ],
      "text/plain": [
       "<IPython.core.display.HTML object>"
      ]
     },
     "metadata": {},
     "output_type": "display_data"
    },
    {
     "name": "stdout",
     "output_type": "stream",
     "text": [
      "4\n"
     ]
    }
   ],
   "source": [
    "label_encoder = preprocessing.LabelEncoder()\n",
    "# Training\n",
    "bal_accs_t = []\n",
    "auc_scores_t = []\n",
    "recalls_t = []\n",
    "f1s_t = []\n",
    "precisions_t = []\n",
    "\n",
    "# Validation\n",
    "bal_accs_v = []\n",
    "auc_scores_v = []\n",
    "recalls_v = []\n",
    "f1s_v = []\n",
    "precisions_v = []\n",
    "\n",
    "# Testing\n",
    "bal_accs = []\n",
    "auc_scores = []\n",
    "f1_scores = []\n",
    "recall_scores = []\n",
    "precision_scores = []\n",
    "\n",
    "# Others\n",
    "assays_level_model = []\n",
    "\n",
    "for z in [0, 1, 2, 3, 4]:\n",
    "    scaler = StandardScaler()\n",
    "    y = label_encoder.fit_transform(chem_des_scale['Outcome'])\n",
    "    X = X[X.columns.intersection(feature_top_40)]\n",
    "    \n",
    "    X_assay_info = pd.concat([X, assay_info_try], axis=1)\n",
    "#     print(X_assay_info)\n",
    "\n",
    "    X_train_valid, X_test, y_train_valid, y_test = train_test_split(X_assay_info, y, \n",
    "                                                                    test_size=0.20, shuffle=True, random_state = 42)\n",
    "    \n",
    "    X_train, X_valid, y_train, y_valid= train_test_split(X_train_valid, y_train_valid,\n",
    "                                                         test_size=0.25, shuffle=True, random_state = z)# 5 CV on training\n",
    "\n",
    "    near_miss = RandomUnderSampler(random_state = z) \n",
    "    X_train_resampled, y_train_resampled = near_miss.fit_resample(X_train, y_train)# undersampling\n",
    "\n",
    "    X_train_resample = X_train_resampled.iloc[:,:40]\n",
    "    assay_info_resampled = X_train_resampled.iloc[:,40:]\n",
    "\n",
    "    X_valid_resample = X_valid.iloc[:, :40]\n",
    "    assay_info_valid = X_valid.iloc[:,40:]\n",
    "    \n",
    "    X_test_resample = X_test.iloc[:,:40]\n",
    "    assay_info_test = X_test.iloc[:,40:]\n",
    "    \n",
    "    X_train = scaler.fit_transform(X_train_resample)\n",
    "    X_valid = scaler.transform(X_valid_resample)\n",
    "    X_valid = np.array(X_valid)\n",
    "    X_test = scaler.transform(X_test_resample)\n",
    "    X_test = np.array(X_test)\n",
    "    \n",
    "    print(len(X_train_resample))\n",
    "    print(len(assay_info_resampled))\n",
    "\n",
    "\n",
    "    factorized_protocols = pd.factorize(assay_info_resampled.ProtocolName)\n",
    "\n",
    "    coords_simulated = {\n",
    "        'obs_id': np.arange(X_train.shape[0]),\n",
    "        'chem_descrip': np.arange(X_train.shape[1]),\n",
    "        'protocol':list(factorized_protocols[1]),\n",
    "        'params':['beta_{0}'.format(j) for j in range(X_train.shape[1])]\n",
    "    }\n",
    "\n",
    "    X4_bayes = np.asarray(X_train, dtype=\"float64\")\n",
    "    Y4_bayes = list(y_train_resampled)\n",
    "    organisms = pd.factorize(assay_info_resampled.drop_duplicates().Organism)\n",
    "    genders = pd.factorize(assay_info_resampled.drop_duplicates().Gender)\n",
    "\n",
    "    with pm.Model(coords=coords_simulated) as assay_level_model:\n",
    "        x = pm.Data('x', X4_bayes, mutable = True)\n",
    "        protocol_idx = pm.Data(\"protocol_idx\", list(factorized_protocols[0]), mutable=True)\n",
    "        organism_idx = pm.Data(\"organism_idx\", organisms[0], mutable=True)\n",
    "        gender_idx = pm.Data(\"gender_idx\", genders[0], mutable=True)\n",
    "        y = pm.Data('y', Y4_bayes, mutable=True)\n",
    "\n",
    "        sd_dist = pm.Exponential.dist(1.0)\n",
    "\n",
    "                # get back standard deviations and rho:\n",
    "        chol, corr, stds = pm.LKJCholeskyCov(\"chol\", n=X4_bayes.shape[1], eta=2.0, sd_dist=sd_dist, compute_corr=True)\n",
    "\n",
    "                #hyperpriors and priors for average betas:\n",
    "        beta_list = []\n",
    "        for i in range(X4_bayes.shape[1]):\n",
    "            gbeta = pm.Normal(\"g_beta_{0}\".format(i), mu=0.0, sigma=10.0, shape=3)\n",
    "            mu_gbeta = gbeta[0] + gbeta[1] * organism_idx + gbeta[2] * gender_idx\n",
    "            sigma_beta = pm.Exponential('sigma_beta_{0}'.format(i), 1.0)\n",
    "            betas = pm.Normal('beta_{0}'.format(i), mu=mu_gbeta,sigma=sigma_beta,dims=\"protocol\")\n",
    "            beta_list.append(betas)\n",
    "\n",
    "                #population of varying protocol effects:\n",
    "        beta_protocol = pm.MvNormal(\"beta_protocol\", mu=pt.stack(beta_list, axis=1), chol=chol,dims=('protocol', 'params'))\n",
    "\n",
    "                #Expected value per protocol:\n",
    "        theta = beta_protocol[protocol_idx,0]* x[:,0]\n",
    "\n",
    "        for i in range(1,X4_bayes.shape[1]):\n",
    "            theta += beta_protocol[protocol_idx,i] * x[:,i]\n",
    "\n",
    "        p = 1.0 / (1.0 + pt.exp(-theta))\n",
    "        likelihood = pm.Bernoulli('likelihood', p, observed=y, shape = p.shape)\n",
    "\n",
    "    assays_level_model.append(assay_level_model)\n",
    "\n",
    "    with assay_level_model:\n",
    "        tr_assay = pmjax.sample_numpyro_nuts(draws=1000, tune=1000, chains=4)\n",
    "\n",
    "\n",
    "        # Model Performance\n",
    "        #Training\n",
    "    with assay_level_model:\n",
    "        tr_assay.extend(pm.sample_posterior_predictive(tr_assay))\n",
    "\n",
    "    train_pred = pd.DataFrame(tr_assay.posterior_predictive['likelihood'].mean(('chain', 'draw')), columns = ['prob'])\n",
    "    train_pred['round'] = train_pred.prob.round()\n",
    "\n",
    "    bal_acc_t = metrics.balanced_accuracy_score(list(y_train_resampled), list(train_pred['round']))\n",
    "    auc_score_t = metrics.roc_auc_score(list(y_train_resampled), list(train_pred['prob']))                               \n",
    "    recall_t = metrics.recall_score(y_train_resampled, list(train_pred['round']))\n",
    "    f1_t = metrics.f1_score(y_train_resampled, list(train_pred['round']))\n",
    "    precision_t = metrics.precision_score(y_train_resampled, list(train_pred['round']))\n",
    "\n",
    "    bal_accs_t.append(bal_acc_t)\n",
    "    auc_scores_t.append(auc_score_t)\n",
    "    recalls_t.append(recall_t)\n",
    "    f1s_t.append(f1_t)\n",
    "    precisions_t.append(precision_t)\n",
    "\n",
    "        #Generate Testing data\n",
    "    protocol_pred = pd.factorize(assay_info_test.ProtocolName)\n",
    "    organisms = pd.factorize(assay_info_test.drop_duplicates().Organism)\n",
    "    genders = pd.factorize(assay_info_test.drop_duplicates().Gender)\n",
    "\n",
    "    with assay_level_model:\n",
    "        pm.set_data(\n",
    "            new_data = {'x': X_test,\n",
    "                        \"protocol_idx\": list(protocol_pred[0]),\n",
    "                        \"organism_idx\": organisms[0],\n",
    "                        \"gender_idx\": genders[0],\n",
    "                        \"y\": y_test\n",
    "                        }\n",
    "        )\n",
    "        posterior_predictive = pm.sample_posterior_predictive(\n",
    "            tr_assay, var_names=[\"likelihood\"],\n",
    "            predictions = True\n",
    "        )\n",
    "\n",
    "        #Testing Performance\n",
    "    y_pred = pd.DataFrame(posterior_predictive.predictions['likelihood'].mean(('chain', 'draw')),columns=['prob'])\n",
    "    y_pred['round'] = y_pred.prob.round()\n",
    "\n",
    "    bal_acc = metrics.balanced_accuracy_score(list(y_test), list(y_pred['round']))\n",
    "    auc_roc = metrics.roc_auc_score(list(y_test), y_pred['prob'])\n",
    "    recall = metrics.recall_score(list(y_test), list(y_pred['round']))\n",
    "    f1 = metrics.f1_score(list(y_test), list(y_pred['round']))\n",
    "    precision = metrics.precision_score(list(y_test), list(y_pred['round']))\n",
    "\n",
    "    bal_accs.append(bal_acc)\n",
    "    auc_scores.append(auc_roc)\n",
    "    f1_scores.append(f1)\n",
    "    recall_scores.append(recall)\n",
    "    precision_scores.append(precision)\n",
    "\n",
    "        #Generate Validation data\n",
    "    protocol_valid = pd.factorize(assay_info_valid.ProtocolName)\n",
    "    organisms = pd.factorize(assay_info_valid.drop_duplicates().Organism)\n",
    "    genders = pd.factorize(assay_info_valid.drop_duplicates().Gender)\n",
    "\n",
    "    with assay_level_model:\n",
    "        pm.set_data(\n",
    "            new_data = {'x': X_valid,\n",
    "                        \"protocol_idx\": list(protocol_valid[0]),\n",
    "                        \"organism_idx\": organisms[0],\n",
    "                        \"gender_idx\": genders[0],\n",
    "                        \"y\": y_valid\n",
    "                        }\n",
    "        )\n",
    "        posterior_valid = pm.sample_posterior_predictive(\n",
    "            tr_assay, var_names=[\"likelihood\"],\n",
    "            predictions = True\n",
    "        )\n",
    "\n",
    "        #Validation\n",
    "    y_pred_v = pd.DataFrame(posterior_valid.predictions['likelihood'].mean(('chain', 'draw')),columns=['prob'])\n",
    "    y_pred_v['round'] = y_pred_v.prob.round()\n",
    "    \n",
    "    bal_acc_v = metrics.balanced_accuracy_score(list(y_valid), list(y_pred_v['round']))\n",
    "    auc_roc_v = metrics.roc_auc_score(list(y_valid), y_pred_v['prob'])\n",
    "    recall_v = metrics.recall_score(list(y_valid), list(y_pred_v['round']))\n",
    "    f1_v = metrics.f1_score(list(y_valid), list(y_pred_v['round']))\n",
    "    precision_v = metrics.precision_score(list(y_valid), list(y_pred_v['round']))\n",
    "\n",
    "    bal_accs_v.append(bal_acc_v)\n",
    "    auc_scores_v.append(auc_roc_v)\n",
    "    recalls_v.append(recall_v)\n",
    "    f1s_v.append(f1_v)\n",
    "    precisions_v.append(precision_v)\n",
    "    \n",
    "    print(z)\n"
   ]
  },
  {
   "cell_type": "code",
   "execution_count": 20,
   "metadata": {},
   "outputs": [
    {
     "name": "stdout",
     "output_type": "stream",
     "text": [
      "0.7375502037861839\n",
      "0.005352553949063401\n",
      "0.8137114452431723\n",
      "0.0027753205381204457\n",
      "0.7200918794757465\n",
      "0.013031488595284258\n",
      "0.3716991724629647\n",
      "0.003807164395560752\n",
      "0.25051448190600906\n",
      "0.002203293081002504\n"
     ]
    }
   ],
   "source": [
    "print(np.mean(bal_accs))\n",
    "print(np.std(bal_accs))\n",
    "\n",
    "print(np.mean(auc_scores))\n",
    "print(np.std(auc_scores))\n",
    "\n",
    "print(np.mean(recall_scores))\n",
    "print(np.std(recall_scores))\n",
    "\n",
    "print(np.mean(f1_scores))\n",
    "print(np.std(f1_scores))\n",
    "\n",
    "print(np.mean(precision_scores))\n",
    "print(np.std(precision_scores))"
   ]
  },
  {
   "cell_type": "code",
   "execution_count": 22,
   "metadata": {},
   "outputs": [
    {
     "name": "stdout",
     "output_type": "stream",
     "text": [
      "0.7537826441037199\n",
      "0.0013176049930137231\n",
      "0.8285773585926034\n",
      "0.0007859726367384373\n",
      "0.7419924760735651\n",
      "0.0022755109886100694\n",
      "0.7508437877386626\n",
      "0.0015153648726284762\n",
      "0.7599118906464952\n",
      "0.0012296799409434894\n"
     ]
    }
   ],
   "source": [
    "#Training\n",
    "print(np.mean(bal_accs_t))\n",
    "print(np.std(bal_accs_t))\n",
    "\n",
    "print(np.mean(auc_scores_t))\n",
    "print(np.std(auc_scores_t))\n",
    "\n",
    "print(np.mean(recalls_t))\n",
    "print(np.std(recalls_t))\n",
    "\n",
    "print(np.mean(f1s_t))\n",
    "print(np.std(f1s_t))\n",
    "\n",
    "print(np.mean(precisions_t))\n",
    "print(np.std(precisions_t))"
   ]
  },
  {
   "cell_type": "code",
   "execution_count": 23,
   "metadata": {},
   "outputs": [
    {
     "name": "stdout",
     "output_type": "stream",
     "text": [
      "0.731729963118563\n",
      "0.008785801848799513\n",
      "0.8059474778012138\n",
      "0.008533671547330488\n",
      "0.7167636299600657\n",
      "0.011853309972747887\n",
      "0.36644428688660896\n",
      "0.013987310585020913\n",
      "0.2463472182279439\n",
      "0.012563906386261226\n"
     ]
    }
   ],
   "source": [
    "#Validation\n",
    "print(np.mean(bal_accs_v))\n",
    "print(np.std(bal_accs_v))\n",
    "\n",
    "print(np.mean(auc_scores_v))\n",
    "print(np.std(auc_scores_v))\n",
    "\n",
    "print(np.mean(recalls_v))\n",
    "print(np.std(recalls_v))\n",
    "\n",
    "print(np.mean(f1s_v))\n",
    "print(np.std(f1s_v))\n",
    "\n",
    "print(np.mean(precisions_v))\n",
    "print(np.std(precisions_v))"
   ]
  },
  {
   "cell_type": "code",
   "execution_count": 24,
   "metadata": {},
   "outputs": [
    {
     "name": "stdout",
     "output_type": "stream",
     "text": [
      "44664\n",
      "44664\n",
      "Compiling...\n"
     ]
    },
    {
     "name": "stderr",
     "output_type": "stream",
     "text": [
      "ERROR (pytensor.graph.rewriting.basic): Rewrite failure due to: boolean_indexing_set_or_inc\n",
      "ERROR:pytensor.graph.rewriting.basic:Rewrite failure due to: boolean_indexing_set_or_inc\n",
      "ERROR (pytensor.graph.rewriting.basic): node: AdvancedSetSubtensor(Alloc.0, AdvancedIncSubtensor1{no_inplace,set}.0, [ 0  1  1 ... 39 39 39], [ 0  0  1 ... 37 38 39])\n",
      "ERROR:pytensor.graph.rewriting.basic:node: AdvancedSetSubtensor(Alloc.0, AdvancedIncSubtensor1{no_inplace,set}.0, [ 0  1  1 ... 39 39 39], [ 0  0  1 ... 37 38 39])\n",
      "ERROR (pytensor.graph.rewriting.basic): TRACEBACK:\n",
      "ERROR:pytensor.graph.rewriting.basic:TRACEBACK:\n",
      "ERROR (pytensor.graph.rewriting.basic): Traceback (most recent call last):\n",
      "  File \"/Users/wenyuzeng/anaconda3/lib/python3.10/site-packages/pytensor/graph/rewriting/basic.py\", line 1914, in process_node\n",
      "    replacements = node_rewriter.transform(fgraph, node)\n",
      "  File \"/Users/wenyuzeng/anaconda3/lib/python3.10/site-packages/pytensor/graph/rewriting/basic.py\", line 1074, in transform\n",
      "    return self.fn(fgraph, node)\n",
      "  File \"/Users/wenyuzeng/anaconda3/lib/python3.10/site-packages/pytensor/tensor/rewriting/jax.py\", line 23, in boolean_indexing_set_or_inc\n",
      "    [x, y, cond] = node.inputs\n",
      "ValueError: too many values to unpack (expected 3)\n",
      "\n",
      "ERROR:pytensor.graph.rewriting.basic:Traceback (most recent call last):\n",
      "  File \"/Users/wenyuzeng/anaconda3/lib/python3.10/site-packages/pytensor/graph/rewriting/basic.py\", line 1914, in process_node\n",
      "    replacements = node_rewriter.transform(fgraph, node)\n",
      "  File \"/Users/wenyuzeng/anaconda3/lib/python3.10/site-packages/pytensor/graph/rewriting/basic.py\", line 1074, in transform\n",
      "    return self.fn(fgraph, node)\n",
      "  File \"/Users/wenyuzeng/anaconda3/lib/python3.10/site-packages/pytensor/tensor/rewriting/jax.py\", line 23, in boolean_indexing_set_or_inc\n",
      "    [x, y, cond] = node.inputs\n",
      "ValueError: too many values to unpack (expected 3)\n",
      "\n"
     ]
    },
    {
     "name": "stdout",
     "output_type": "stream",
     "text": [
      "Compilation time =  0:00:17.887208\n",
      "Sampling...\n"
     ]
    },
    {
     "data": {
      "application/vnd.jupyter.widget-view+json": {
       "model_id": "c58ecc79be3e4ca092d970cf944f749a",
       "version_major": 2,
       "version_minor": 0
      },
      "text/plain": [
       "  0%|          | 0/2000 [00:00<?, ?it/s]"
      ]
     },
     "metadata": {},
     "output_type": "display_data"
    },
    {
     "data": {
      "application/vnd.jupyter.widget-view+json": {
       "model_id": "47b44579c2864af7b3db4c90c22157b9",
       "version_major": 2,
       "version_minor": 0
      },
      "text/plain": [
       "  0%|          | 0/2000 [00:00<?, ?it/s]"
      ]
     },
     "metadata": {},
     "output_type": "display_data"
    },
    {
     "data": {
      "application/vnd.jupyter.widget-view+json": {
       "model_id": "09d073873219441698e30ca78f4af84f",
       "version_major": 2,
       "version_minor": 0
      },
      "text/plain": [
       "  0%|          | 0/2000 [00:00<?, ?it/s]"
      ]
     },
     "metadata": {},
     "output_type": "display_data"
    },
    {
     "data": {
      "application/vnd.jupyter.widget-view+json": {
       "model_id": "eccc8ad4048a4555994e230854e067ea",
       "version_major": 2,
       "version_minor": 0
      },
      "text/plain": [
       "  0%|          | 0/2000 [00:00<?, ?it/s]"
      ]
     },
     "metadata": {},
     "output_type": "display_data"
    },
    {
     "name": "stderr",
     "output_type": "stream",
     "text": [
      "ERROR (pytensor.graph.rewriting.basic): Rewrite failure due to: boolean_indexing_set_or_inc\n",
      "ERROR:pytensor.graph.rewriting.basic:Rewrite failure due to: boolean_indexing_set_or_inc\n",
      "ERROR (pytensor.graph.rewriting.basic): node: AdvancedSetSubtensor(Alloc.0, AdvancedIncSubtensor1{no_inplace,set}.0, [ 0  1  1 ... 39 39 39], [ 0  0  1 ... 37 38 39])\n",
      "ERROR:pytensor.graph.rewriting.basic:node: AdvancedSetSubtensor(Alloc.0, AdvancedIncSubtensor1{no_inplace,set}.0, [ 0  1  1 ... 39 39 39], [ 0  0  1 ... 37 38 39])\n",
      "ERROR (pytensor.graph.rewriting.basic): TRACEBACK:\n",
      "ERROR:pytensor.graph.rewriting.basic:TRACEBACK:\n",
      "ERROR (pytensor.graph.rewriting.basic): Traceback (most recent call last):\n",
      "  File \"/Users/wenyuzeng/anaconda3/lib/python3.10/site-packages/pytensor/graph/rewriting/basic.py\", line 1914, in process_node\n",
      "    replacements = node_rewriter.transform(fgraph, node)\n",
      "  File \"/Users/wenyuzeng/anaconda3/lib/python3.10/site-packages/pytensor/graph/rewriting/basic.py\", line 1074, in transform\n",
      "    return self.fn(fgraph, node)\n",
      "  File \"/Users/wenyuzeng/anaconda3/lib/python3.10/site-packages/pytensor/tensor/rewriting/jax.py\", line 23, in boolean_indexing_set_or_inc\n",
      "    [x, y, cond] = node.inputs\n",
      "ValueError: too many values to unpack (expected 3)\n",
      "\n",
      "ERROR:pytensor.graph.rewriting.basic:Traceback (most recent call last):\n",
      "  File \"/Users/wenyuzeng/anaconda3/lib/python3.10/site-packages/pytensor/graph/rewriting/basic.py\", line 1914, in process_node\n",
      "    replacements = node_rewriter.transform(fgraph, node)\n",
      "  File \"/Users/wenyuzeng/anaconda3/lib/python3.10/site-packages/pytensor/graph/rewriting/basic.py\", line 1074, in transform\n",
      "    return self.fn(fgraph, node)\n",
      "  File \"/Users/wenyuzeng/anaconda3/lib/python3.10/site-packages/pytensor/tensor/rewriting/jax.py\", line 23, in boolean_indexing_set_or_inc\n",
      "    [x, y, cond] = node.inputs\n",
      "ValueError: too many values to unpack (expected 3)\n",
      "\n"
     ]
    },
    {
     "name": "stdout",
     "output_type": "stream",
     "text": [
      "Sampling time =  11:22:51.859506\n",
      "Transforming variables...\n",
      "Transformation time =  0:00:00.166579\n"
     ]
    },
    {
     "name": "stderr",
     "output_type": "stream",
     "text": [
      "Sampling: [likelihood]\n",
      "INFO:pymc.sampling.forward:Sampling: [likelihood]\n"
     ]
    },
    {
     "data": {
      "text/html": [
       "\n",
       "<style>\n",
       "    /* Turns off some styling */\n",
       "    progress {\n",
       "        /* gets rid of default border in Firefox and Opera. */\n",
       "        border: none;\n",
       "        /* Needs to be in here for Safari polyfill so background images work as expected. */\n",
       "        background-size: auto;\n",
       "    }\n",
       "    progress:not([value]), progress:not([value])::-webkit-progress-bar {\n",
       "        background: repeating-linear-gradient(45deg, #7e7e7e, #7e7e7e 10px, #5c5c5c 10px, #5c5c5c 20px);\n",
       "    }\n",
       "    .progress-bar-interrupted, .progress-bar-interrupted::-webkit-progress-bar {\n",
       "        background: #F44336;\n",
       "    }\n",
       "</style>\n"
      ],
      "text/plain": [
       "<IPython.core.display.HTML object>"
      ]
     },
     "metadata": {},
     "output_type": "display_data"
    },
    {
     "data": {
      "text/html": [
       "\n",
       "    <div>\n",
       "      <progress value='4000' class='' max='4000' style='width:300px; height:20px; vertical-align: middle;'></progress>\n",
       "      100.00% [4000/4000 00:35&lt;00:00]\n",
       "    </div>\n",
       "    "
      ],
      "text/plain": [
       "<IPython.core.display.HTML object>"
      ]
     },
     "metadata": {},
     "output_type": "display_data"
    },
    {
     "name": "stderr",
     "output_type": "stream",
     "text": [
      "Sampling: [likelihood]\n",
      "INFO:pymc.sampling.forward:Sampling: [likelihood]\n"
     ]
    },
    {
     "data": {
      "text/html": [
       "\n",
       "<style>\n",
       "    /* Turns off some styling */\n",
       "    progress {\n",
       "        /* gets rid of default border in Firefox and Opera. */\n",
       "        border: none;\n",
       "        /* Needs to be in here for Safari polyfill so background images work as expected. */\n",
       "        background-size: auto;\n",
       "    }\n",
       "    progress:not([value]), progress:not([value])::-webkit-progress-bar {\n",
       "        background: repeating-linear-gradient(45deg, #7e7e7e, #7e7e7e 10px, #5c5c5c 10px, #5c5c5c 20px);\n",
       "    }\n",
       "    .progress-bar-interrupted, .progress-bar-interrupted::-webkit-progress-bar {\n",
       "        background: #F44336;\n",
       "    }\n",
       "</style>\n"
      ],
      "text/plain": [
       "<IPython.core.display.HTML object>"
      ]
     },
     "metadata": {},
     "output_type": "display_data"
    },
    {
     "data": {
      "text/html": [
       "\n",
       "    <div>\n",
       "      <progress value='4000' class='' max='4000' style='width:300px; height:20px; vertical-align: middle;'></progress>\n",
       "      100.00% [4000/4000 00:57&lt;00:00]\n",
       "    </div>\n",
       "    "
      ],
      "text/plain": [
       "<IPython.core.display.HTML object>"
      ]
     },
     "metadata": {},
     "output_type": "display_data"
    },
    {
     "name": "stderr",
     "output_type": "stream",
     "text": [
      "Sampling: [likelihood]\n",
      "INFO:pymc.sampling.forward:Sampling: [likelihood]\n"
     ]
    },
    {
     "data": {
      "text/html": [
       "\n",
       "<style>\n",
       "    /* Turns off some styling */\n",
       "    progress {\n",
       "        /* gets rid of default border in Firefox and Opera. */\n",
       "        border: none;\n",
       "        /* Needs to be in here for Safari polyfill so background images work as expected. */\n",
       "        background-size: auto;\n",
       "    }\n",
       "    progress:not([value]), progress:not([value])::-webkit-progress-bar {\n",
       "        background: repeating-linear-gradient(45deg, #7e7e7e, #7e7e7e 10px, #5c5c5c 10px, #5c5c5c 20px);\n",
       "    }\n",
       "    .progress-bar-interrupted, .progress-bar-interrupted::-webkit-progress-bar {\n",
       "        background: #F44336;\n",
       "    }\n",
       "</style>\n"
      ],
      "text/plain": [
       "<IPython.core.display.HTML object>"
      ]
     },
     "metadata": {},
     "output_type": "display_data"
    },
    {
     "data": {
      "text/html": [
       "\n",
       "    <div>\n",
       "      <progress value='4000' class='' max='4000' style='width:300px; height:20px; vertical-align: middle;'></progress>\n",
       "      100.00% [4000/4000 00:58&lt;00:00]\n",
       "    </div>\n",
       "    "
      ],
      "text/plain": [
       "<IPython.core.display.HTML object>"
      ]
     },
     "metadata": {},
     "output_type": "display_data"
    },
    {
     "name": "stdout",
     "output_type": "stream",
     "text": [
      "0\n",
      "44916\n",
      "44916\n",
      "Compiling...\n"
     ]
    },
    {
     "name": "stderr",
     "output_type": "stream",
     "text": [
      "ERROR (pytensor.graph.rewriting.basic): Rewrite failure due to: boolean_indexing_set_or_inc\n",
      "ERROR:pytensor.graph.rewriting.basic:Rewrite failure due to: boolean_indexing_set_or_inc\n",
      "ERROR (pytensor.graph.rewriting.basic): node: AdvancedSetSubtensor(Alloc.0, AdvancedIncSubtensor1{no_inplace,set}.0, [ 0  1  1 ... 39 39 39], [ 0  0  1 ... 37 38 39])\n",
      "ERROR:pytensor.graph.rewriting.basic:node: AdvancedSetSubtensor(Alloc.0, AdvancedIncSubtensor1{no_inplace,set}.0, [ 0  1  1 ... 39 39 39], [ 0  0  1 ... 37 38 39])\n",
      "ERROR (pytensor.graph.rewriting.basic): TRACEBACK:\n",
      "ERROR:pytensor.graph.rewriting.basic:TRACEBACK:\n",
      "ERROR (pytensor.graph.rewriting.basic): Traceback (most recent call last):\n",
      "  File \"/Users/wenyuzeng/anaconda3/lib/python3.10/site-packages/pytensor/graph/rewriting/basic.py\", line 1914, in process_node\n",
      "    replacements = node_rewriter.transform(fgraph, node)\n",
      "  File \"/Users/wenyuzeng/anaconda3/lib/python3.10/site-packages/pytensor/graph/rewriting/basic.py\", line 1074, in transform\n",
      "    return self.fn(fgraph, node)\n",
      "  File \"/Users/wenyuzeng/anaconda3/lib/python3.10/site-packages/pytensor/tensor/rewriting/jax.py\", line 23, in boolean_indexing_set_or_inc\n",
      "    [x, y, cond] = node.inputs\n",
      "ValueError: too many values to unpack (expected 3)\n",
      "\n",
      "ERROR:pytensor.graph.rewriting.basic:Traceback (most recent call last):\n",
      "  File \"/Users/wenyuzeng/anaconda3/lib/python3.10/site-packages/pytensor/graph/rewriting/basic.py\", line 1914, in process_node\n",
      "    replacements = node_rewriter.transform(fgraph, node)\n",
      "  File \"/Users/wenyuzeng/anaconda3/lib/python3.10/site-packages/pytensor/graph/rewriting/basic.py\", line 1074, in transform\n",
      "    return self.fn(fgraph, node)\n",
      "  File \"/Users/wenyuzeng/anaconda3/lib/python3.10/site-packages/pytensor/tensor/rewriting/jax.py\", line 23, in boolean_indexing_set_or_inc\n",
      "    [x, y, cond] = node.inputs\n",
      "ValueError: too many values to unpack (expected 3)\n",
      "\n"
     ]
    },
    {
     "name": "stdout",
     "output_type": "stream",
     "text": [
      "Compilation time =  0:00:16.794749\n",
      "Sampling...\n"
     ]
    },
    {
     "data": {
      "application/vnd.jupyter.widget-view+json": {
       "model_id": "c97779d5739c4a0eaf35ce4e0478b1d8",
       "version_major": 2,
       "version_minor": 0
      },
      "text/plain": [
       "  0%|          | 0/2000 [00:00<?, ?it/s]"
      ]
     },
     "metadata": {},
     "output_type": "display_data"
    },
    {
     "data": {
      "application/vnd.jupyter.widget-view+json": {
       "model_id": "663821e321864f0b969dbadfafbea9bb",
       "version_major": 2,
       "version_minor": 0
      },
      "text/plain": [
       "  0%|          | 0/2000 [00:00<?, ?it/s]"
      ]
     },
     "metadata": {},
     "output_type": "display_data"
    },
    {
     "data": {
      "application/vnd.jupyter.widget-view+json": {
       "model_id": "6d09708b755b4ca6bb32837cfaefd2ab",
       "version_major": 2,
       "version_minor": 0
      },
      "text/plain": [
       "  0%|          | 0/2000 [00:00<?, ?it/s]"
      ]
     },
     "metadata": {},
     "output_type": "display_data"
    },
    {
     "data": {
      "application/vnd.jupyter.widget-view+json": {
       "model_id": "60ef3b62a7e1458faa50cb3233b13132",
       "version_major": 2,
       "version_minor": 0
      },
      "text/plain": [
       "  0%|          | 0/2000 [00:00<?, ?it/s]"
      ]
     },
     "metadata": {},
     "output_type": "display_data"
    },
    {
     "name": "stderr",
     "output_type": "stream",
     "text": [
      "ERROR (pytensor.graph.rewriting.basic): Rewrite failure due to: boolean_indexing_set_or_inc\n",
      "ERROR:pytensor.graph.rewriting.basic:Rewrite failure due to: boolean_indexing_set_or_inc\n",
      "ERROR (pytensor.graph.rewriting.basic): node: AdvancedSetSubtensor(Alloc.0, AdvancedIncSubtensor1{no_inplace,set}.0, [ 0  1  1 ... 39 39 39], [ 0  0  1 ... 37 38 39])\n",
      "ERROR:pytensor.graph.rewriting.basic:node: AdvancedSetSubtensor(Alloc.0, AdvancedIncSubtensor1{no_inplace,set}.0, [ 0  1  1 ... 39 39 39], [ 0  0  1 ... 37 38 39])\n",
      "ERROR (pytensor.graph.rewriting.basic): TRACEBACK:\n",
      "ERROR:pytensor.graph.rewriting.basic:TRACEBACK:\n",
      "ERROR (pytensor.graph.rewriting.basic): Traceback (most recent call last):\n",
      "  File \"/Users/wenyuzeng/anaconda3/lib/python3.10/site-packages/pytensor/graph/rewriting/basic.py\", line 1914, in process_node\n",
      "    replacements = node_rewriter.transform(fgraph, node)\n",
      "  File \"/Users/wenyuzeng/anaconda3/lib/python3.10/site-packages/pytensor/graph/rewriting/basic.py\", line 1074, in transform\n",
      "    return self.fn(fgraph, node)\n",
      "  File \"/Users/wenyuzeng/anaconda3/lib/python3.10/site-packages/pytensor/tensor/rewriting/jax.py\", line 23, in boolean_indexing_set_or_inc\n",
      "    [x, y, cond] = node.inputs\n",
      "ValueError: too many values to unpack (expected 3)\n",
      "\n",
      "ERROR:pytensor.graph.rewriting.basic:Traceback (most recent call last):\n",
      "  File \"/Users/wenyuzeng/anaconda3/lib/python3.10/site-packages/pytensor/graph/rewriting/basic.py\", line 1914, in process_node\n",
      "    replacements = node_rewriter.transform(fgraph, node)\n",
      "  File \"/Users/wenyuzeng/anaconda3/lib/python3.10/site-packages/pytensor/graph/rewriting/basic.py\", line 1074, in transform\n",
      "    return self.fn(fgraph, node)\n",
      "  File \"/Users/wenyuzeng/anaconda3/lib/python3.10/site-packages/pytensor/tensor/rewriting/jax.py\", line 23, in boolean_indexing_set_or_inc\n",
      "    [x, y, cond] = node.inputs\n",
      "ValueError: too many values to unpack (expected 3)\n",
      "\n"
     ]
    },
    {
     "name": "stdout",
     "output_type": "stream",
     "text": [
      "Sampling time =  13:13:16.417622\n",
      "Transforming variables...\n",
      "Transformation time =  0:00:00.193954\n"
     ]
    },
    {
     "name": "stderr",
     "output_type": "stream",
     "text": [
      "Sampling: [likelihood]\n",
      "INFO:pymc.sampling.forward:Sampling: [likelihood]\n"
     ]
    },
    {
     "data": {
      "text/html": [
       "\n",
       "<style>\n",
       "    /* Turns off some styling */\n",
       "    progress {\n",
       "        /* gets rid of default border in Firefox and Opera. */\n",
       "        border: none;\n",
       "        /* Needs to be in here for Safari polyfill so background images work as expected. */\n",
       "        background-size: auto;\n",
       "    }\n",
       "    progress:not([value]), progress:not([value])::-webkit-progress-bar {\n",
       "        background: repeating-linear-gradient(45deg, #7e7e7e, #7e7e7e 10px, #5c5c5c 10px, #5c5c5c 20px);\n",
       "    }\n",
       "    .progress-bar-interrupted, .progress-bar-interrupted::-webkit-progress-bar {\n",
       "        background: #F44336;\n",
       "    }\n",
       "</style>\n"
      ],
      "text/plain": [
       "<IPython.core.display.HTML object>"
      ]
     },
     "metadata": {},
     "output_type": "display_data"
    },
    {
     "data": {
      "text/html": [
       "\n",
       "    <div>\n",
       "      <progress value='4000' class='' max='4000' style='width:300px; height:20px; vertical-align: middle;'></progress>\n",
       "      100.00% [4000/4000 00:35&lt;00:00]\n",
       "    </div>\n",
       "    "
      ],
      "text/plain": [
       "<IPython.core.display.HTML object>"
      ]
     },
     "metadata": {},
     "output_type": "display_data"
    },
    {
     "name": "stderr",
     "output_type": "stream",
     "text": [
      "Sampling: [likelihood]\n",
      "INFO:pymc.sampling.forward:Sampling: [likelihood]\n"
     ]
    },
    {
     "data": {
      "text/html": [
       "\n",
       "<style>\n",
       "    /* Turns off some styling */\n",
       "    progress {\n",
       "        /* gets rid of default border in Firefox and Opera. */\n",
       "        border: none;\n",
       "        /* Needs to be in here for Safari polyfill so background images work as expected. */\n",
       "        background-size: auto;\n",
       "    }\n",
       "    progress:not([value]), progress:not([value])::-webkit-progress-bar {\n",
       "        background: repeating-linear-gradient(45deg, #7e7e7e, #7e7e7e 10px, #5c5c5c 10px, #5c5c5c 20px);\n",
       "    }\n",
       "    .progress-bar-interrupted, .progress-bar-interrupted::-webkit-progress-bar {\n",
       "        background: #F44336;\n",
       "    }\n",
       "</style>\n"
      ],
      "text/plain": [
       "<IPython.core.display.HTML object>"
      ]
     },
     "metadata": {},
     "output_type": "display_data"
    },
    {
     "data": {
      "text/html": [
       "\n",
       "    <div>\n",
       "      <progress value='4000' class='' max='4000' style='width:300px; height:20px; vertical-align: middle;'></progress>\n",
       "      100.00% [4000/4000 00:59&lt;00:00]\n",
       "    </div>\n",
       "    "
      ],
      "text/plain": [
       "<IPython.core.display.HTML object>"
      ]
     },
     "metadata": {},
     "output_type": "display_data"
    },
    {
     "name": "stderr",
     "output_type": "stream",
     "text": [
      "Sampling: [likelihood]\n",
      "INFO:pymc.sampling.forward:Sampling: [likelihood]\n"
     ]
    },
    {
     "data": {
      "text/html": [
       "\n",
       "<style>\n",
       "    /* Turns off some styling */\n",
       "    progress {\n",
       "        /* gets rid of default border in Firefox and Opera. */\n",
       "        border: none;\n",
       "        /* Needs to be in here for Safari polyfill so background images work as expected. */\n",
       "        background-size: auto;\n",
       "    }\n",
       "    progress:not([value]), progress:not([value])::-webkit-progress-bar {\n",
       "        background: repeating-linear-gradient(45deg, #7e7e7e, #7e7e7e 10px, #5c5c5c 10px, #5c5c5c 20px);\n",
       "    }\n",
       "    .progress-bar-interrupted, .progress-bar-interrupted::-webkit-progress-bar {\n",
       "        background: #F44336;\n",
       "    }\n",
       "</style>\n"
      ],
      "text/plain": [
       "<IPython.core.display.HTML object>"
      ]
     },
     "metadata": {},
     "output_type": "display_data"
    },
    {
     "data": {
      "text/html": [
       "\n",
       "    <div>\n",
       "      <progress value='4000' class='' max='4000' style='width:300px; height:20px; vertical-align: middle;'></progress>\n",
       "      100.00% [4000/4000 00:58&lt;00:00]\n",
       "    </div>\n",
       "    "
      ],
      "text/plain": [
       "<IPython.core.display.HTML object>"
      ]
     },
     "metadata": {},
     "output_type": "display_data"
    },
    {
     "name": "stdout",
     "output_type": "stream",
     "text": [
      "1\n",
      "44848\n",
      "44848\n",
      "Compiling...\n"
     ]
    },
    {
     "name": "stderr",
     "output_type": "stream",
     "text": [
      "ERROR (pytensor.graph.rewriting.basic): Rewrite failure due to: boolean_indexing_set_or_inc\n",
      "ERROR:pytensor.graph.rewriting.basic:Rewrite failure due to: boolean_indexing_set_or_inc\n",
      "ERROR (pytensor.graph.rewriting.basic): node: AdvancedSetSubtensor(Alloc.0, AdvancedIncSubtensor1{no_inplace,set}.0, [ 0  1  1 ... 39 39 39], [ 0  0  1 ... 37 38 39])\n",
      "ERROR:pytensor.graph.rewriting.basic:node: AdvancedSetSubtensor(Alloc.0, AdvancedIncSubtensor1{no_inplace,set}.0, [ 0  1  1 ... 39 39 39], [ 0  0  1 ... 37 38 39])\n",
      "ERROR (pytensor.graph.rewriting.basic): TRACEBACK:\n",
      "ERROR:pytensor.graph.rewriting.basic:TRACEBACK:\n",
      "ERROR (pytensor.graph.rewriting.basic): Traceback (most recent call last):\n",
      "  File \"/Users/wenyuzeng/anaconda3/lib/python3.10/site-packages/pytensor/graph/rewriting/basic.py\", line 1914, in process_node\n",
      "    replacements = node_rewriter.transform(fgraph, node)\n",
      "  File \"/Users/wenyuzeng/anaconda3/lib/python3.10/site-packages/pytensor/graph/rewriting/basic.py\", line 1074, in transform\n",
      "    return self.fn(fgraph, node)\n",
      "  File \"/Users/wenyuzeng/anaconda3/lib/python3.10/site-packages/pytensor/tensor/rewriting/jax.py\", line 23, in boolean_indexing_set_or_inc\n",
      "    [x, y, cond] = node.inputs\n",
      "ValueError: too many values to unpack (expected 3)\n",
      "\n",
      "ERROR:pytensor.graph.rewriting.basic:Traceback (most recent call last):\n",
      "  File \"/Users/wenyuzeng/anaconda3/lib/python3.10/site-packages/pytensor/graph/rewriting/basic.py\", line 1914, in process_node\n",
      "    replacements = node_rewriter.transform(fgraph, node)\n",
      "  File \"/Users/wenyuzeng/anaconda3/lib/python3.10/site-packages/pytensor/graph/rewriting/basic.py\", line 1074, in transform\n",
      "    return self.fn(fgraph, node)\n",
      "  File \"/Users/wenyuzeng/anaconda3/lib/python3.10/site-packages/pytensor/tensor/rewriting/jax.py\", line 23, in boolean_indexing_set_or_inc\n",
      "    [x, y, cond] = node.inputs\n",
      "ValueError: too many values to unpack (expected 3)\n",
      "\n"
     ]
    },
    {
     "name": "stdout",
     "output_type": "stream",
     "text": [
      "Compilation time =  0:00:16.004251\n",
      "Sampling...\n"
     ]
    },
    {
     "data": {
      "application/vnd.jupyter.widget-view+json": {
       "model_id": "1cd1f084cf1244b4891558fb827f4452",
       "version_major": 2,
       "version_minor": 0
      },
      "text/plain": [
       "  0%|          | 0/2000 [00:00<?, ?it/s]"
      ]
     },
     "metadata": {},
     "output_type": "display_data"
    },
    {
     "data": {
      "application/vnd.jupyter.widget-view+json": {
       "model_id": "b2ea287d9c194d31a4cfd3e96eef4f9d",
       "version_major": 2,
       "version_minor": 0
      },
      "text/plain": [
       "  0%|          | 0/2000 [00:00<?, ?it/s]"
      ]
     },
     "metadata": {},
     "output_type": "display_data"
    },
    {
     "data": {
      "application/vnd.jupyter.widget-view+json": {
       "model_id": "1d6060d3026c4e308ca4f20843133209",
       "version_major": 2,
       "version_minor": 0
      },
      "text/plain": [
       "  0%|          | 0/2000 [00:00<?, ?it/s]"
      ]
     },
     "metadata": {},
     "output_type": "display_data"
    },
    {
     "data": {
      "application/vnd.jupyter.widget-view+json": {
       "model_id": "dac7154df1c84449ab5ebea066e25010",
       "version_major": 2,
       "version_minor": 0
      },
      "text/plain": [
       "  0%|          | 0/2000 [00:00<?, ?it/s]"
      ]
     },
     "metadata": {},
     "output_type": "display_data"
    },
    {
     "name": "stderr",
     "output_type": "stream",
     "text": [
      "ERROR (pytensor.graph.rewriting.basic): Rewrite failure due to: boolean_indexing_set_or_inc\n",
      "ERROR:pytensor.graph.rewriting.basic:Rewrite failure due to: boolean_indexing_set_or_inc\n",
      "ERROR (pytensor.graph.rewriting.basic): node: AdvancedSetSubtensor(Alloc.0, AdvancedIncSubtensor1{no_inplace,set}.0, [ 0  1  1 ... 39 39 39], [ 0  0  1 ... 37 38 39])\n",
      "ERROR:pytensor.graph.rewriting.basic:node: AdvancedSetSubtensor(Alloc.0, AdvancedIncSubtensor1{no_inplace,set}.0, [ 0  1  1 ... 39 39 39], [ 0  0  1 ... 37 38 39])\n",
      "ERROR (pytensor.graph.rewriting.basic): TRACEBACK:\n",
      "ERROR:pytensor.graph.rewriting.basic:TRACEBACK:\n",
      "ERROR (pytensor.graph.rewriting.basic): Traceback (most recent call last):\n",
      "  File \"/Users/wenyuzeng/anaconda3/lib/python3.10/site-packages/pytensor/graph/rewriting/basic.py\", line 1914, in process_node\n",
      "    replacements = node_rewriter.transform(fgraph, node)\n",
      "  File \"/Users/wenyuzeng/anaconda3/lib/python3.10/site-packages/pytensor/graph/rewriting/basic.py\", line 1074, in transform\n",
      "    return self.fn(fgraph, node)\n",
      "  File \"/Users/wenyuzeng/anaconda3/lib/python3.10/site-packages/pytensor/tensor/rewriting/jax.py\", line 23, in boolean_indexing_set_or_inc\n",
      "    [x, y, cond] = node.inputs\n",
      "ValueError: too many values to unpack (expected 3)\n",
      "\n",
      "ERROR:pytensor.graph.rewriting.basic:Traceback (most recent call last):\n",
      "  File \"/Users/wenyuzeng/anaconda3/lib/python3.10/site-packages/pytensor/graph/rewriting/basic.py\", line 1914, in process_node\n",
      "    replacements = node_rewriter.transform(fgraph, node)\n",
      "  File \"/Users/wenyuzeng/anaconda3/lib/python3.10/site-packages/pytensor/graph/rewriting/basic.py\", line 1074, in transform\n",
      "    return self.fn(fgraph, node)\n",
      "  File \"/Users/wenyuzeng/anaconda3/lib/python3.10/site-packages/pytensor/tensor/rewriting/jax.py\", line 23, in boolean_indexing_set_or_inc\n",
      "    [x, y, cond] = node.inputs\n",
      "ValueError: too many values to unpack (expected 3)\n",
      "\n"
     ]
    },
    {
     "name": "stdout",
     "output_type": "stream",
     "text": [
      "Sampling time =  12:29:47.646183\n",
      "Transforming variables...\n",
      "Transformation time =  0:00:00.216000\n"
     ]
    },
    {
     "name": "stderr",
     "output_type": "stream",
     "text": [
      "Sampling: [likelihood]\n",
      "INFO:pymc.sampling.forward:Sampling: [likelihood]\n"
     ]
    },
    {
     "data": {
      "text/html": [
       "\n",
       "<style>\n",
       "    /* Turns off some styling */\n",
       "    progress {\n",
       "        /* gets rid of default border in Firefox and Opera. */\n",
       "        border: none;\n",
       "        /* Needs to be in here for Safari polyfill so background images work as expected. */\n",
       "        background-size: auto;\n",
       "    }\n",
       "    progress:not([value]), progress:not([value])::-webkit-progress-bar {\n",
       "        background: repeating-linear-gradient(45deg, #7e7e7e, #7e7e7e 10px, #5c5c5c 10px, #5c5c5c 20px);\n",
       "    }\n",
       "    .progress-bar-interrupted, .progress-bar-interrupted::-webkit-progress-bar {\n",
       "        background: #F44336;\n",
       "    }\n",
       "</style>\n"
      ],
      "text/plain": [
       "<IPython.core.display.HTML object>"
      ]
     },
     "metadata": {},
     "output_type": "display_data"
    },
    {
     "data": {
      "text/html": [
       "\n",
       "    <div>\n",
       "      <progress value='4000' class='' max='4000' style='width:300px; height:20px; vertical-align: middle;'></progress>\n",
       "      100.00% [4000/4000 00:35&lt;00:00]\n",
       "    </div>\n",
       "    "
      ],
      "text/plain": [
       "<IPython.core.display.HTML object>"
      ]
     },
     "metadata": {},
     "output_type": "display_data"
    },
    {
     "name": "stderr",
     "output_type": "stream",
     "text": [
      "Sampling: [likelihood]\n",
      "INFO:pymc.sampling.forward:Sampling: [likelihood]\n"
     ]
    },
    {
     "data": {
      "text/html": [
       "\n",
       "<style>\n",
       "    /* Turns off some styling */\n",
       "    progress {\n",
       "        /* gets rid of default border in Firefox and Opera. */\n",
       "        border: none;\n",
       "        /* Needs to be in here for Safari polyfill so background images work as expected. */\n",
       "        background-size: auto;\n",
       "    }\n",
       "    progress:not([value]), progress:not([value])::-webkit-progress-bar {\n",
       "        background: repeating-linear-gradient(45deg, #7e7e7e, #7e7e7e 10px, #5c5c5c 10px, #5c5c5c 20px);\n",
       "    }\n",
       "    .progress-bar-interrupted, .progress-bar-interrupted::-webkit-progress-bar {\n",
       "        background: #F44336;\n",
       "    }\n",
       "</style>\n"
      ],
      "text/plain": [
       "<IPython.core.display.HTML object>"
      ]
     },
     "metadata": {},
     "output_type": "display_data"
    },
    {
     "data": {
      "text/html": [
       "\n",
       "    <div>\n",
       "      <progress value='4000' class='' max='4000' style='width:300px; height:20px; vertical-align: middle;'></progress>\n",
       "      100.00% [4000/4000 00:58&lt;00:00]\n",
       "    </div>\n",
       "    "
      ],
      "text/plain": [
       "<IPython.core.display.HTML object>"
      ]
     },
     "metadata": {},
     "output_type": "display_data"
    },
    {
     "name": "stderr",
     "output_type": "stream",
     "text": [
      "Sampling: [likelihood]\n",
      "INFO:pymc.sampling.forward:Sampling: [likelihood]\n"
     ]
    },
    {
     "data": {
      "text/html": [
       "\n",
       "<style>\n",
       "    /* Turns off some styling */\n",
       "    progress {\n",
       "        /* gets rid of default border in Firefox and Opera. */\n",
       "        border: none;\n",
       "        /* Needs to be in here for Safari polyfill so background images work as expected. */\n",
       "        background-size: auto;\n",
       "    }\n",
       "    progress:not([value]), progress:not([value])::-webkit-progress-bar {\n",
       "        background: repeating-linear-gradient(45deg, #7e7e7e, #7e7e7e 10px, #5c5c5c 10px, #5c5c5c 20px);\n",
       "    }\n",
       "    .progress-bar-interrupted, .progress-bar-interrupted::-webkit-progress-bar {\n",
       "        background: #F44336;\n",
       "    }\n",
       "</style>\n"
      ],
      "text/plain": [
       "<IPython.core.display.HTML object>"
      ]
     },
     "metadata": {},
     "output_type": "display_data"
    },
    {
     "data": {
      "text/html": [
       "\n",
       "    <div>\n",
       "      <progress value='4000' class='' max='4000' style='width:300px; height:20px; vertical-align: middle;'></progress>\n",
       "      100.00% [4000/4000 00:58&lt;00:00]\n",
       "    </div>\n",
       "    "
      ],
      "text/plain": [
       "<IPython.core.display.HTML object>"
      ]
     },
     "metadata": {},
     "output_type": "display_data"
    },
    {
     "name": "stdout",
     "output_type": "stream",
     "text": [
      "2\n",
      "45134\n",
      "45134\n",
      "Compiling...\n"
     ]
    },
    {
     "name": "stderr",
     "output_type": "stream",
     "text": [
      "ERROR (pytensor.graph.rewriting.basic): Rewrite failure due to: boolean_indexing_set_or_inc\n",
      "ERROR:pytensor.graph.rewriting.basic:Rewrite failure due to: boolean_indexing_set_or_inc\n",
      "ERROR (pytensor.graph.rewriting.basic): node: AdvancedSetSubtensor(Alloc.0, AdvancedIncSubtensor1{no_inplace,set}.0, [ 0  1  1 ... 39 39 39], [ 0  0  1 ... 37 38 39])\n",
      "ERROR:pytensor.graph.rewriting.basic:node: AdvancedSetSubtensor(Alloc.0, AdvancedIncSubtensor1{no_inplace,set}.0, [ 0  1  1 ... 39 39 39], [ 0  0  1 ... 37 38 39])\n",
      "ERROR (pytensor.graph.rewriting.basic): TRACEBACK:\n",
      "ERROR:pytensor.graph.rewriting.basic:TRACEBACK:\n",
      "ERROR (pytensor.graph.rewriting.basic): Traceback (most recent call last):\n",
      "  File \"/Users/wenyuzeng/anaconda3/lib/python3.10/site-packages/pytensor/graph/rewriting/basic.py\", line 1914, in process_node\n",
      "    replacements = node_rewriter.transform(fgraph, node)\n",
      "  File \"/Users/wenyuzeng/anaconda3/lib/python3.10/site-packages/pytensor/graph/rewriting/basic.py\", line 1074, in transform\n",
      "    return self.fn(fgraph, node)\n",
      "  File \"/Users/wenyuzeng/anaconda3/lib/python3.10/site-packages/pytensor/tensor/rewriting/jax.py\", line 23, in boolean_indexing_set_or_inc\n",
      "    [x, y, cond] = node.inputs\n",
      "ValueError: too many values to unpack (expected 3)\n",
      "\n",
      "ERROR:pytensor.graph.rewriting.basic:Traceback (most recent call last):\n",
      "  File \"/Users/wenyuzeng/anaconda3/lib/python3.10/site-packages/pytensor/graph/rewriting/basic.py\", line 1914, in process_node\n",
      "    replacements = node_rewriter.transform(fgraph, node)\n",
      "  File \"/Users/wenyuzeng/anaconda3/lib/python3.10/site-packages/pytensor/graph/rewriting/basic.py\", line 1074, in transform\n",
      "    return self.fn(fgraph, node)\n",
      "  File \"/Users/wenyuzeng/anaconda3/lib/python3.10/site-packages/pytensor/tensor/rewriting/jax.py\", line 23, in boolean_indexing_set_or_inc\n",
      "    [x, y, cond] = node.inputs\n",
      "ValueError: too many values to unpack (expected 3)\n",
      "\n"
     ]
    },
    {
     "name": "stdout",
     "output_type": "stream",
     "text": [
      "Compilation time =  0:00:17.017132\n",
      "Sampling...\n"
     ]
    },
    {
     "data": {
      "application/vnd.jupyter.widget-view+json": {
       "model_id": "49d5456266a14cb389f28b8b3ae82548",
       "version_major": 2,
       "version_minor": 0
      },
      "text/plain": [
       "  0%|          | 0/2000 [00:00<?, ?it/s]"
      ]
     },
     "metadata": {},
     "output_type": "display_data"
    },
    {
     "data": {
      "application/vnd.jupyter.widget-view+json": {
       "model_id": "990e47699a1347719eb952aff1e91317",
       "version_major": 2,
       "version_minor": 0
      },
      "text/plain": [
       "  0%|          | 0/2000 [00:00<?, ?it/s]"
      ]
     },
     "metadata": {},
     "output_type": "display_data"
    },
    {
     "data": {
      "application/vnd.jupyter.widget-view+json": {
       "model_id": "518ae5953b084a1483960bdb8b9e77a6",
       "version_major": 2,
       "version_minor": 0
      },
      "text/plain": [
       "  0%|          | 0/2000 [00:00<?, ?it/s]"
      ]
     },
     "metadata": {},
     "output_type": "display_data"
    },
    {
     "data": {
      "application/vnd.jupyter.widget-view+json": {
       "model_id": "c886d4d40d474d689d74a0021a68b217",
       "version_major": 2,
       "version_minor": 0
      },
      "text/plain": [
       "  0%|          | 0/2000 [00:00<?, ?it/s]"
      ]
     },
     "metadata": {},
     "output_type": "display_data"
    },
    {
     "name": "stderr",
     "output_type": "stream",
     "text": [
      "ERROR (pytensor.graph.rewriting.basic): Rewrite failure due to: boolean_indexing_set_or_inc\n",
      "ERROR:pytensor.graph.rewriting.basic:Rewrite failure due to: boolean_indexing_set_or_inc\n",
      "ERROR (pytensor.graph.rewriting.basic): node: AdvancedSetSubtensor(Alloc.0, AdvancedIncSubtensor1{no_inplace,set}.0, [ 0  1  1 ... 39 39 39], [ 0  0  1 ... 37 38 39])\n",
      "ERROR:pytensor.graph.rewriting.basic:node: AdvancedSetSubtensor(Alloc.0, AdvancedIncSubtensor1{no_inplace,set}.0, [ 0  1  1 ... 39 39 39], [ 0  0  1 ... 37 38 39])\n",
      "ERROR (pytensor.graph.rewriting.basic): TRACEBACK:\n",
      "ERROR:pytensor.graph.rewriting.basic:TRACEBACK:\n",
      "ERROR (pytensor.graph.rewriting.basic): Traceback (most recent call last):\n",
      "  File \"/Users/wenyuzeng/anaconda3/lib/python3.10/site-packages/pytensor/graph/rewriting/basic.py\", line 1914, in process_node\n",
      "    replacements = node_rewriter.transform(fgraph, node)\n",
      "  File \"/Users/wenyuzeng/anaconda3/lib/python3.10/site-packages/pytensor/graph/rewriting/basic.py\", line 1074, in transform\n",
      "    return self.fn(fgraph, node)\n",
      "  File \"/Users/wenyuzeng/anaconda3/lib/python3.10/site-packages/pytensor/tensor/rewriting/jax.py\", line 23, in boolean_indexing_set_or_inc\n",
      "    [x, y, cond] = node.inputs\n",
      "ValueError: too many values to unpack (expected 3)\n",
      "\n",
      "ERROR:pytensor.graph.rewriting.basic:Traceback (most recent call last):\n",
      "  File \"/Users/wenyuzeng/anaconda3/lib/python3.10/site-packages/pytensor/graph/rewriting/basic.py\", line 1914, in process_node\n",
      "    replacements = node_rewriter.transform(fgraph, node)\n",
      "  File \"/Users/wenyuzeng/anaconda3/lib/python3.10/site-packages/pytensor/graph/rewriting/basic.py\", line 1074, in transform\n",
      "    return self.fn(fgraph, node)\n",
      "  File \"/Users/wenyuzeng/anaconda3/lib/python3.10/site-packages/pytensor/tensor/rewriting/jax.py\", line 23, in boolean_indexing_set_or_inc\n",
      "    [x, y, cond] = node.inputs\n",
      "ValueError: too many values to unpack (expected 3)\n",
      "\n"
     ]
    },
    {
     "name": "stdout",
     "output_type": "stream",
     "text": [
      "Sampling time =  11:52:37.757401\n",
      "Transforming variables...\n",
      "Transformation time =  0:00:00.206064\n"
     ]
    },
    {
     "name": "stderr",
     "output_type": "stream",
     "text": [
      "Sampling: [likelihood]\n",
      "INFO:pymc.sampling.forward:Sampling: [likelihood]\n"
     ]
    },
    {
     "data": {
      "text/html": [
       "\n",
       "<style>\n",
       "    /* Turns off some styling */\n",
       "    progress {\n",
       "        /* gets rid of default border in Firefox and Opera. */\n",
       "        border: none;\n",
       "        /* Needs to be in here for Safari polyfill so background images work as expected. */\n",
       "        background-size: auto;\n",
       "    }\n",
       "    progress:not([value]), progress:not([value])::-webkit-progress-bar {\n",
       "        background: repeating-linear-gradient(45deg, #7e7e7e, #7e7e7e 10px, #5c5c5c 10px, #5c5c5c 20px);\n",
       "    }\n",
       "    .progress-bar-interrupted, .progress-bar-interrupted::-webkit-progress-bar {\n",
       "        background: #F44336;\n",
       "    }\n",
       "</style>\n"
      ],
      "text/plain": [
       "<IPython.core.display.HTML object>"
      ]
     },
     "metadata": {},
     "output_type": "display_data"
    },
    {
     "data": {
      "text/html": [
       "\n",
       "    <div>\n",
       "      <progress value='4000' class='' max='4000' style='width:300px; height:20px; vertical-align: middle;'></progress>\n",
       "      100.00% [4000/4000 00:38&lt;00:00]\n",
       "    </div>\n",
       "    "
      ],
      "text/plain": [
       "<IPython.core.display.HTML object>"
      ]
     },
     "metadata": {},
     "output_type": "display_data"
    },
    {
     "name": "stderr",
     "output_type": "stream",
     "text": [
      "Sampling: [likelihood]\n",
      "INFO:pymc.sampling.forward:Sampling: [likelihood]\n"
     ]
    },
    {
     "data": {
      "text/html": [
       "\n",
       "<style>\n",
       "    /* Turns off some styling */\n",
       "    progress {\n",
       "        /* gets rid of default border in Firefox and Opera. */\n",
       "        border: none;\n",
       "        /* Needs to be in here for Safari polyfill so background images work as expected. */\n",
       "        background-size: auto;\n",
       "    }\n",
       "    progress:not([value]), progress:not([value])::-webkit-progress-bar {\n",
       "        background: repeating-linear-gradient(45deg, #7e7e7e, #7e7e7e 10px, #5c5c5c 10px, #5c5c5c 20px);\n",
       "    }\n",
       "    .progress-bar-interrupted, .progress-bar-interrupted::-webkit-progress-bar {\n",
       "        background: #F44336;\n",
       "    }\n",
       "</style>\n"
      ],
      "text/plain": [
       "<IPython.core.display.HTML object>"
      ]
     },
     "metadata": {},
     "output_type": "display_data"
    },
    {
     "data": {
      "text/html": [
       "\n",
       "    <div>\n",
       "      <progress value='4000' class='' max='4000' style='width:300px; height:20px; vertical-align: middle;'></progress>\n",
       "      100.00% [4000/4000 01:01&lt;00:00]\n",
       "    </div>\n",
       "    "
      ],
      "text/plain": [
       "<IPython.core.display.HTML object>"
      ]
     },
     "metadata": {},
     "output_type": "display_data"
    },
    {
     "name": "stderr",
     "output_type": "stream",
     "text": [
      "Sampling: [likelihood]\n",
      "INFO:pymc.sampling.forward:Sampling: [likelihood]\n"
     ]
    },
    {
     "data": {
      "text/html": [
       "\n",
       "<style>\n",
       "    /* Turns off some styling */\n",
       "    progress {\n",
       "        /* gets rid of default border in Firefox and Opera. */\n",
       "        border: none;\n",
       "        /* Needs to be in here for Safari polyfill so background images work as expected. */\n",
       "        background-size: auto;\n",
       "    }\n",
       "    progress:not([value]), progress:not([value])::-webkit-progress-bar {\n",
       "        background: repeating-linear-gradient(45deg, #7e7e7e, #7e7e7e 10px, #5c5c5c 10px, #5c5c5c 20px);\n",
       "    }\n",
       "    .progress-bar-interrupted, .progress-bar-interrupted::-webkit-progress-bar {\n",
       "        background: #F44336;\n",
       "    }\n",
       "</style>\n"
      ],
      "text/plain": [
       "<IPython.core.display.HTML object>"
      ]
     },
     "metadata": {},
     "output_type": "display_data"
    },
    {
     "data": {
      "text/html": [
       "\n",
       "    <div>\n",
       "      <progress value='4000' class='' max='4000' style='width:300px; height:20px; vertical-align: middle;'></progress>\n",
       "      100.00% [4000/4000 01:01&lt;00:00]\n",
       "    </div>\n",
       "    "
      ],
      "text/plain": [
       "<IPython.core.display.HTML object>"
      ]
     },
     "metadata": {},
     "output_type": "display_data"
    },
    {
     "name": "stdout",
     "output_type": "stream",
     "text": [
      "3\n",
      "44950\n",
      "44950\n",
      "Compiling...\n"
     ]
    },
    {
     "name": "stderr",
     "output_type": "stream",
     "text": [
      "ERROR (pytensor.graph.rewriting.basic): Rewrite failure due to: boolean_indexing_set_or_inc\n",
      "ERROR:pytensor.graph.rewriting.basic:Rewrite failure due to: boolean_indexing_set_or_inc\n",
      "ERROR (pytensor.graph.rewriting.basic): node: AdvancedSetSubtensor(Alloc.0, AdvancedIncSubtensor1{no_inplace,set}.0, [ 0  1  1 ... 39 39 39], [ 0  0  1 ... 37 38 39])\n",
      "ERROR:pytensor.graph.rewriting.basic:node: AdvancedSetSubtensor(Alloc.0, AdvancedIncSubtensor1{no_inplace,set}.0, [ 0  1  1 ... 39 39 39], [ 0  0  1 ... 37 38 39])\n",
      "ERROR (pytensor.graph.rewriting.basic): TRACEBACK:\n",
      "ERROR:pytensor.graph.rewriting.basic:TRACEBACK:\n",
      "ERROR (pytensor.graph.rewriting.basic): Traceback (most recent call last):\n",
      "  File \"/Users/wenyuzeng/anaconda3/lib/python3.10/site-packages/pytensor/graph/rewriting/basic.py\", line 1914, in process_node\n",
      "    replacements = node_rewriter.transform(fgraph, node)\n",
      "  File \"/Users/wenyuzeng/anaconda3/lib/python3.10/site-packages/pytensor/graph/rewriting/basic.py\", line 1074, in transform\n",
      "    return self.fn(fgraph, node)\n",
      "  File \"/Users/wenyuzeng/anaconda3/lib/python3.10/site-packages/pytensor/tensor/rewriting/jax.py\", line 23, in boolean_indexing_set_or_inc\n",
      "    [x, y, cond] = node.inputs\n",
      "ValueError: too many values to unpack (expected 3)\n",
      "\n",
      "ERROR:pytensor.graph.rewriting.basic:Traceback (most recent call last):\n",
      "  File \"/Users/wenyuzeng/anaconda3/lib/python3.10/site-packages/pytensor/graph/rewriting/basic.py\", line 1914, in process_node\n",
      "    replacements = node_rewriter.transform(fgraph, node)\n",
      "  File \"/Users/wenyuzeng/anaconda3/lib/python3.10/site-packages/pytensor/graph/rewriting/basic.py\", line 1074, in transform\n",
      "    return self.fn(fgraph, node)\n",
      "  File \"/Users/wenyuzeng/anaconda3/lib/python3.10/site-packages/pytensor/tensor/rewriting/jax.py\", line 23, in boolean_indexing_set_or_inc\n",
      "    [x, y, cond] = node.inputs\n",
      "ValueError: too many values to unpack (expected 3)\n",
      "\n"
     ]
    },
    {
     "name": "stdout",
     "output_type": "stream",
     "text": [
      "Compilation time =  0:00:17.080889\n",
      "Sampling...\n"
     ]
    },
    {
     "data": {
      "application/vnd.jupyter.widget-view+json": {
       "model_id": "099c16c1912f4e5e890d32ba29c0e716",
       "version_major": 2,
       "version_minor": 0
      },
      "text/plain": [
       "  0%|          | 0/2000 [00:00<?, ?it/s]"
      ]
     },
     "metadata": {},
     "output_type": "display_data"
    },
    {
     "data": {
      "application/vnd.jupyter.widget-view+json": {
       "model_id": "bb478721b33c4e7497a4a02af327056f",
       "version_major": 2,
       "version_minor": 0
      },
      "text/plain": [
       "  0%|          | 0/2000 [00:00<?, ?it/s]"
      ]
     },
     "metadata": {},
     "output_type": "display_data"
    },
    {
     "data": {
      "application/vnd.jupyter.widget-view+json": {
       "model_id": "fba524428b1948368f46b227020ead54",
       "version_major": 2,
       "version_minor": 0
      },
      "text/plain": [
       "  0%|          | 0/2000 [00:00<?, ?it/s]"
      ]
     },
     "metadata": {},
     "output_type": "display_data"
    },
    {
     "data": {
      "application/vnd.jupyter.widget-view+json": {
       "model_id": "98cd4f5ed367451bb55c5fbce177f3ab",
       "version_major": 2,
       "version_minor": 0
      },
      "text/plain": [
       "  0%|          | 0/2000 [00:00<?, ?it/s]"
      ]
     },
     "metadata": {},
     "output_type": "display_data"
    },
    {
     "name": "stderr",
     "output_type": "stream",
     "text": [
      "ERROR (pytensor.graph.rewriting.basic): Rewrite failure due to: boolean_indexing_set_or_inc\n",
      "ERROR:pytensor.graph.rewriting.basic:Rewrite failure due to: boolean_indexing_set_or_inc\n",
      "ERROR (pytensor.graph.rewriting.basic): node: AdvancedSetSubtensor(Alloc.0, AdvancedIncSubtensor1{no_inplace,set}.0, [ 0  1  1 ... 39 39 39], [ 0  0  1 ... 37 38 39])\n",
      "ERROR:pytensor.graph.rewriting.basic:node: AdvancedSetSubtensor(Alloc.0, AdvancedIncSubtensor1{no_inplace,set}.0, [ 0  1  1 ... 39 39 39], [ 0  0  1 ... 37 38 39])\n",
      "ERROR (pytensor.graph.rewriting.basic): TRACEBACK:\n",
      "ERROR:pytensor.graph.rewriting.basic:TRACEBACK:\n",
      "ERROR (pytensor.graph.rewriting.basic): Traceback (most recent call last):\n",
      "  File \"/Users/wenyuzeng/anaconda3/lib/python3.10/site-packages/pytensor/graph/rewriting/basic.py\", line 1914, in process_node\n",
      "    replacements = node_rewriter.transform(fgraph, node)\n",
      "  File \"/Users/wenyuzeng/anaconda3/lib/python3.10/site-packages/pytensor/graph/rewriting/basic.py\", line 1074, in transform\n",
      "    return self.fn(fgraph, node)\n",
      "  File \"/Users/wenyuzeng/anaconda3/lib/python3.10/site-packages/pytensor/tensor/rewriting/jax.py\", line 23, in boolean_indexing_set_or_inc\n",
      "    [x, y, cond] = node.inputs\n",
      "ValueError: too many values to unpack (expected 3)\n",
      "\n",
      "ERROR:pytensor.graph.rewriting.basic:Traceback (most recent call last):\n",
      "  File \"/Users/wenyuzeng/anaconda3/lib/python3.10/site-packages/pytensor/graph/rewriting/basic.py\", line 1914, in process_node\n",
      "    replacements = node_rewriter.transform(fgraph, node)\n",
      "  File \"/Users/wenyuzeng/anaconda3/lib/python3.10/site-packages/pytensor/graph/rewriting/basic.py\", line 1074, in transform\n",
      "    return self.fn(fgraph, node)\n",
      "  File \"/Users/wenyuzeng/anaconda3/lib/python3.10/site-packages/pytensor/tensor/rewriting/jax.py\", line 23, in boolean_indexing_set_or_inc\n",
      "    [x, y, cond] = node.inputs\n",
      "ValueError: too many values to unpack (expected 3)\n",
      "\n"
     ]
    },
    {
     "name": "stdout",
     "output_type": "stream",
     "text": [
      "Sampling time =  14:10:25.257989\n",
      "Transforming variables...\n",
      "Transformation time =  0:00:00.174746\n"
     ]
    },
    {
     "name": "stderr",
     "output_type": "stream",
     "text": [
      "Sampling: [likelihood]\n",
      "INFO:pymc.sampling.forward:Sampling: [likelihood]\n"
     ]
    },
    {
     "data": {
      "text/html": [
       "\n",
       "<style>\n",
       "    /* Turns off some styling */\n",
       "    progress {\n",
       "        /* gets rid of default border in Firefox and Opera. */\n",
       "        border: none;\n",
       "        /* Needs to be in here for Safari polyfill so background images work as expected. */\n",
       "        background-size: auto;\n",
       "    }\n",
       "    progress:not([value]), progress:not([value])::-webkit-progress-bar {\n",
       "        background: repeating-linear-gradient(45deg, #7e7e7e, #7e7e7e 10px, #5c5c5c 10px, #5c5c5c 20px);\n",
       "    }\n",
       "    .progress-bar-interrupted, .progress-bar-interrupted::-webkit-progress-bar {\n",
       "        background: #F44336;\n",
       "    }\n",
       "</style>\n"
      ],
      "text/plain": [
       "<IPython.core.display.HTML object>"
      ]
     },
     "metadata": {},
     "output_type": "display_data"
    },
    {
     "data": {
      "text/html": [
       "\n",
       "    <div>\n",
       "      <progress value='4000' class='' max='4000' style='width:300px; height:20px; vertical-align: middle;'></progress>\n",
       "      100.00% [4000/4000 00:35&lt;00:00]\n",
       "    </div>\n",
       "    "
      ],
      "text/plain": [
       "<IPython.core.display.HTML object>"
      ]
     },
     "metadata": {},
     "output_type": "display_data"
    },
    {
     "name": "stderr",
     "output_type": "stream",
     "text": [
      "Sampling: [likelihood]\n",
      "INFO:pymc.sampling.forward:Sampling: [likelihood]\n"
     ]
    },
    {
     "data": {
      "text/html": [
       "\n",
       "<style>\n",
       "    /* Turns off some styling */\n",
       "    progress {\n",
       "        /* gets rid of default border in Firefox and Opera. */\n",
       "        border: none;\n",
       "        /* Needs to be in here for Safari polyfill so background images work as expected. */\n",
       "        background-size: auto;\n",
       "    }\n",
       "    progress:not([value]), progress:not([value])::-webkit-progress-bar {\n",
       "        background: repeating-linear-gradient(45deg, #7e7e7e, #7e7e7e 10px, #5c5c5c 10px, #5c5c5c 20px);\n",
       "    }\n",
       "    .progress-bar-interrupted, .progress-bar-interrupted::-webkit-progress-bar {\n",
       "        background: #F44336;\n",
       "    }\n",
       "</style>\n"
      ],
      "text/plain": [
       "<IPython.core.display.HTML object>"
      ]
     },
     "metadata": {},
     "output_type": "display_data"
    },
    {
     "data": {
      "text/html": [
       "\n",
       "    <div>\n",
       "      <progress value='4000' class='' max='4000' style='width:300px; height:20px; vertical-align: middle;'></progress>\n",
       "      100.00% [4000/4000 00:57&lt;00:00]\n",
       "    </div>\n",
       "    "
      ],
      "text/plain": [
       "<IPython.core.display.HTML object>"
      ]
     },
     "metadata": {},
     "output_type": "display_data"
    },
    {
     "name": "stderr",
     "output_type": "stream",
     "text": [
      "Sampling: [likelihood]\n",
      "INFO:pymc.sampling.forward:Sampling: [likelihood]\n"
     ]
    },
    {
     "data": {
      "text/html": [
       "\n",
       "<style>\n",
       "    /* Turns off some styling */\n",
       "    progress {\n",
       "        /* gets rid of default border in Firefox and Opera. */\n",
       "        border: none;\n",
       "        /* Needs to be in here for Safari polyfill so background images work as expected. */\n",
       "        background-size: auto;\n",
       "    }\n",
       "    progress:not([value]), progress:not([value])::-webkit-progress-bar {\n",
       "        background: repeating-linear-gradient(45deg, #7e7e7e, #7e7e7e 10px, #5c5c5c 10px, #5c5c5c 20px);\n",
       "    }\n",
       "    .progress-bar-interrupted, .progress-bar-interrupted::-webkit-progress-bar {\n",
       "        background: #F44336;\n",
       "    }\n",
       "</style>\n"
      ],
      "text/plain": [
       "<IPython.core.display.HTML object>"
      ]
     },
     "metadata": {},
     "output_type": "display_data"
    },
    {
     "data": {
      "text/html": [
       "\n",
       "    <div>\n",
       "      <progress value='4000' class='' max='4000' style='width:300px; height:20px; vertical-align: middle;'></progress>\n",
       "      100.00% [4000/4000 00:57&lt;00:00]\n",
       "    </div>\n",
       "    "
      ],
      "text/plain": [
       "<IPython.core.display.HTML object>"
      ]
     },
     "metadata": {},
     "output_type": "display_data"
    },
    {
     "name": "stdout",
     "output_type": "stream",
     "text": [
      "4\n"
     ]
    }
   ],
   "source": [
    "label_encoder = preprocessing.LabelEncoder()\n",
    "# Training\n",
    "bal_accs_t = []\n",
    "auc_scores_t = []\n",
    "recalls_t = []\n",
    "f1s_t = []\n",
    "precisions_t = []\n",
    "\n",
    "# Validation\n",
    "bal_accs_v = []\n",
    "auc_scores_v = []\n",
    "recalls_v = []\n",
    "f1s_v = []\n",
    "precisions_v = []\n",
    "\n",
    "# Testing\n",
    "bal_accs = []\n",
    "auc_scores = []\n",
    "f1_scores = []\n",
    "recall_scores = []\n",
    "precision_scores = []\n",
    "\n",
    "# Others\n",
    "assays_level_model = []\n",
    "\n",
    "for z in [0, 1, 2, 3, 4]:\n",
    "    scaler = StandardScaler()\n",
    "    y = label_encoder.fit_transform(chem_des_scale['Outcome'])\n",
    "    X = X[X.columns.intersection(feature_top_40)]\n",
    "    \n",
    "    X_assay_info = pd.concat([X, assay_info_try], axis=1)\n",
    "#     print(X_assay_info)\n",
    "\n",
    "    X_train_valid, X_test, y_train_valid, y_test = train_test_split(X_assay_info, y, \n",
    "                                                                    test_size=0.20, shuffle=True, random_state = 42)\n",
    "    \n",
    "    X_train, X_valid, y_train, y_valid= train_test_split(X_train_valid, y_train_valid,\n",
    "                                                         test_size=0.25, shuffle=True, random_state = z)# 5 CV on training\n",
    "\n",
    "    near_miss = RandomUnderSampler(random_state = z) \n",
    "    X_train_resampled, y_train_resampled = near_miss.fit_resample(X_train, y_train)# undersampling\n",
    "\n",
    "    X_train_resample = X_train_resampled.iloc[:,:40]\n",
    "    assay_info_resampled = X_train_resampled.iloc[:,40:]\n",
    "\n",
    "    X_valid_resample = X_valid.iloc[:, :40]\n",
    "    assay_info_valid = X_valid.iloc[:,40:]\n",
    "    \n",
    "    X_test_resample = X_test.iloc[:,:40]\n",
    "    assay_info_test = X_test.iloc[:,40:]\n",
    "    \n",
    "    X_train = scaler.fit_transform(X_train_resample)\n",
    "    X_valid = scaler.transform(X_valid_resample)\n",
    "    X_valid = np.array(X_valid)\n",
    "    X_test = scaler.transform(X_test_resample)\n",
    "    X_test = np.array(X_test)\n",
    "    \n",
    "    print(len(X_train_resample))\n",
    "    print(len(assay_info_resampled))\n",
    "\n",
    "\n",
    "    factorized_protocols = pd.factorize(assay_info_resampled.ProtocolName)\n",
    "\n",
    "    coords_simulated = {\n",
    "        'obs_id': np.arange(X_train.shape[0]),\n",
    "        'chem_descrip': np.arange(X_train.shape[1]),\n",
    "        'protocol':list(factorized_protocols[1]),\n",
    "        'params':['beta_{0}'.format(j) for j in range(X_train.shape[1])]\n",
    "    }\n",
    "\n",
    "    X4_bayes = np.asarray(X_train, dtype=\"float64\")\n",
    "    Y4_bayes = list(y_train_resampled)\n",
    "    organisms = pd.factorize(assay_info_resampled.drop_duplicates().Organism)\n",
    "    genders = pd.factorize(assay_info_resampled.drop_duplicates().Gender)\n",
    "\n",
    "    with pm.Model(coords=coords_simulated) as assay_level_model:\n",
    "        x = pm.Data('x', X4_bayes, mutable = True)\n",
    "        protocol_idx = pm.Data(\"protocol_idx\", list(factorized_protocols[0]), mutable=True)\n",
    "#         organism_idx = pm.Data(\"organism_idx\", organisms[0], mutable=True)\n",
    "#         gender_idx = pm.Data(\"gender_idx\", genders[0], mutable=True)\n",
    "        y = pm.Data('y', Y4_bayes, mutable=True)\n",
    "\n",
    "        sd_dist = pm.Exponential.dist(1.0)\n",
    "\n",
    "                # get back standard deviations and rho:\n",
    "        chol, corr, stds = pm.LKJCholeskyCov(\"chol\", n=X4_bayes.shape[1], eta=2.0, sd_dist=sd_dist, compute_corr=True)\n",
    "\n",
    "                #hyperpriors and priors for average betas:\n",
    "        beta_list = []\n",
    "        for i in range(X4_bayes.shape[1]):\n",
    "            gbeta = pm.Normal(\"g_beta_{0}\".format(i), mu=0.0, sigma=10.0, shape=1)\n",
    "            mu_gbeta = gbeta[0] \n",
    "            sigma_beta = pm.Exponential('sigma_beta_{0}'.format(i), 1.0)\n",
    "            betas = pm.Normal('beta_{0}'.format(i), mu=mu_gbeta,sigma=sigma_beta,dims=\"protocol\")\n",
    "            beta_list.append(betas)\n",
    "\n",
    "                #population of varying protocol effects:\n",
    "        beta_protocol = pm.MvNormal(\"beta_protocol\", mu=pt.stack(beta_list, axis=1), chol=chol,dims=('protocol', 'params'))\n",
    "\n",
    "                #Expected value per protocol:\n",
    "        theta = beta_protocol[protocol_idx,0]* x[:,0]\n",
    "\n",
    "        for i in range(1,X4_bayes.shape[1]):\n",
    "            theta += beta_protocol[protocol_idx,i] * x[:,i]\n",
    "\n",
    "        p = 1.0 / (1.0 + pt.exp(-theta))\n",
    "        likelihood = pm.Bernoulli('likelihood', p, observed=y, shape = p.shape)\n",
    "\n",
    "    assays_level_model.append(assay_level_model)\n",
    "\n",
    "    with assay_level_model:\n",
    "        tr_assay = pmjax.sample_numpyro_nuts(draws=1000, tune=1000, chains=4)\n",
    "\n",
    "\n",
    "        # Model Performance\n",
    "        #Training\n",
    "    with assay_level_model:\n",
    "        tr_assay.extend(pm.sample_posterior_predictive(tr_assay))\n",
    "\n",
    "    train_pred = pd.DataFrame(tr_assay.posterior_predictive['likelihood'].mean(('chain', 'draw')), columns = ['prob'])\n",
    "    train_pred['round'] = train_pred.prob.round()\n",
    "\n",
    "    bal_acc_t = metrics.balanced_accuracy_score(list(y_train_resampled), list(train_pred['round']))\n",
    "    auc_score_t = metrics.roc_auc_score(list(y_train_resampled), list(train_pred['prob']))                               \n",
    "    recall_t = metrics.recall_score(y_train_resampled, list(train_pred['round']))\n",
    "    f1_t = metrics.f1_score(y_train_resampled, list(train_pred['round']))\n",
    "    precision_t = metrics.precision_score(y_train_resampled, list(train_pred['round']))\n",
    "\n",
    "    bal_accs_t.append(bal_acc_t)\n",
    "    auc_scores_t.append(auc_score_t)\n",
    "    recalls_t.append(recall_t)\n",
    "    f1s_t.append(f1_t)\n",
    "    precisions_t.append(precision_t)\n",
    "\n",
    "        #Generate Testing data\n",
    "    protocol_pred = pd.factorize(assay_info_test.ProtocolName)\n",
    "    organisms = pd.factorize(assay_info_test.drop_duplicates().Organism)\n",
    "    genders = pd.factorize(assay_info_test.drop_duplicates().Gender)\n",
    "\n",
    "    with assay_level_model:\n",
    "        pm.set_data(\n",
    "            new_data = {'x': X_test,\n",
    "                        \"protocol_idx\": list(protocol_pred[0]),\n",
    "#                         \"organism_idx\": organisms[0],\n",
    "#                         \"gender_idx\": genders[0],\n",
    "                        \"y\": y_test\n",
    "                        }\n",
    "        )\n",
    "        posterior_predictive = pm.sample_posterior_predictive(\n",
    "            tr_assay, var_names=[\"likelihood\"],\n",
    "            predictions = True\n",
    "        )\n",
    "\n",
    "        #Testing Performance\n",
    "    y_pred = pd.DataFrame(posterior_predictive.predictions['likelihood'].mean(('chain', 'draw')),columns=['prob'])\n",
    "    y_pred['round'] = y_pred.prob.round()\n",
    "\n",
    "    bal_acc = metrics.balanced_accuracy_score(list(y_test), list(y_pred['round']))\n",
    "    auc_roc = metrics.roc_auc_score(list(y_test), y_pred['prob'])\n",
    "    recall = metrics.recall_score(list(y_test), list(y_pred['round']))\n",
    "    f1 = metrics.f1_score(list(y_test), list(y_pred['round']))\n",
    "    precision = metrics.precision_score(list(y_test), list(y_pred['round']))\n",
    "\n",
    "    bal_accs.append(bal_acc)\n",
    "    auc_scores.append(auc_roc)\n",
    "    f1_scores.append(f1)\n",
    "    recall_scores.append(recall)\n",
    "    precision_scores.append(precision)\n",
    "\n",
    "        #Generate Validation data\n",
    "    protocol_valid = pd.factorize(assay_info_valid.ProtocolName)\n",
    "    organisms = pd.factorize(assay_info_valid.drop_duplicates().Organism)\n",
    "    genders = pd.factorize(assay_info_valid.drop_duplicates().Gender)\n",
    "\n",
    "    with assay_level_model:\n",
    "        pm.set_data(\n",
    "            new_data = {'x': X_valid,\n",
    "                        \"protocol_idx\": list(protocol_valid[0]),\n",
    "#                         \"organism_idx\": organisms[0],\n",
    "#                         \"gender_idx\": genders[0],\n",
    "                        \"y\": y_valid\n",
    "                        }\n",
    "        )\n",
    "        posterior_valid = pm.sample_posterior_predictive(\n",
    "            tr_assay, var_names=[\"likelihood\"],\n",
    "            predictions = True\n",
    "        )\n",
    "\n",
    "        #Validation\n",
    "    y_pred_v = pd.DataFrame(posterior_valid.predictions['likelihood'].mean(('chain', 'draw')),columns=['prob'])\n",
    "    y_pred_v['round'] = y_pred_v.prob.round()\n",
    "    \n",
    "    bal_acc_v = metrics.balanced_accuracy_score(list(y_valid), list(y_pred_v['round']))\n",
    "    auc_roc_v = metrics.roc_auc_score(list(y_valid), y_pred_v['prob'])\n",
    "    recall_v = metrics.recall_score(list(y_valid), list(y_pred_v['round']))\n",
    "    f1_v = metrics.f1_score(list(y_valid), list(y_pred_v['round']))\n",
    "    precision_v = metrics.precision_score(list(y_valid), list(y_pred_v['round']))\n",
    "\n",
    "    bal_accs_v.append(bal_acc_v)\n",
    "    auc_scores_v.append(auc_roc_v)\n",
    "    recalls_v.append(recall_v)\n",
    "    f1s_v.append(f1_v)\n",
    "    precisions_v.append(precision_v)\n",
    "    \n",
    "    print(z)\n"
   ]
  },
  {
   "cell_type": "code",
   "execution_count": 25,
   "metadata": {
    "colab": {
     "base_uri": "https://localhost:8080/"
    },
    "executionInfo": {
     "elapsed": 11,
     "status": "ok",
     "timestamp": 1692338177567,
     "user": {
      "displayName": "Wenyu Zeng",
      "userId": "04462272154724969813"
     },
     "user_tz": -480
    },
    "id": "SsLy9lYBHmQ7",
    "outputId": "69c45595-7aca-4d5d-99de-d28827339853"
   },
   "outputs": [
    {
     "name": "stdout",
     "output_type": "stream",
     "text": [
      "0.7269222241088633\n",
      "0.0023111185336662844\n",
      "0.7997115633912839\n",
      "0.0013428463696478338\n",
      "0.7039589244696662\n",
      "0.003540990315968069\n",
      "0.36070766859147974\n",
      "0.0025144185640519332\n",
      "0.2424776670236856\n",
      "0.0019304844231933388\n"
     ]
    }
   ],
   "source": [
    "# Testing\n",
    "print(np.mean(bal_accs))\n",
    "print(np.std(bal_accs))\n",
    "\n",
    "print(np.mean(auc_scores))\n",
    "print(np.std(auc_scores))\n",
    "\n",
    "print(np.mean(recall_scores))\n",
    "print(np.std(recall_scores))\n",
    "\n",
    "print(np.mean(f1_scores))\n",
    "print(np.std(f1_scores))\n",
    "\n",
    "print(np.mean(precision_scores))\n",
    "print(np.std(precision_scores))"
   ]
  },
  {
   "cell_type": "code",
   "execution_count": 26,
   "metadata": {
    "colab": {
     "base_uri": "https://localhost:8080/"
    },
    "executionInfo": {
     "elapsed": 516,
     "status": "ok",
     "timestamp": 1692338183060,
     "user": {
      "displayName": "Wenyu Zeng",
      "userId": "04462272154724969813"
     },
     "user_tz": -480
    },
    "id": "MHgjqUlKDr0M",
    "outputId": "c981a8e4-3079-4081-cefa-44d735f09b22"
   },
   "outputs": [
    {
     "name": "stdout",
     "output_type": "stream",
     "text": [
      "0.7224247062315723\n",
      "0.004105129729646829\n",
      "0.7956131847679434\n",
      "0.0025365624827220633\n",
      "0.6947663374674512\n",
      "0.008110535513182724\n",
      "0.3593855957847327\n",
      "0.004180521136404754\n",
      "0.24238703484467625\n",
      "0.0030310825832394806\n"
     ]
    }
   ],
   "source": [
    "#Validation\n",
    "print(np.mean(bal_accs_v))\n",
    "print(np.std(bal_accs_v))\n",
    "\n",
    "print(np.mean(auc_scores_v))\n",
    "print(np.std(auc_scores_v))\n",
    "\n",
    "print(np.mean(recalls_v))\n",
    "print(np.std(recalls_v))\n",
    "\n",
    "print(np.mean(f1s_v))\n",
    "print(np.std(f1s_v))\n",
    "\n",
    "print(np.mean(precisions_v))\n",
    "print(np.std(precisions_v))"
   ]
  },
  {
   "cell_type": "code",
   "execution_count": 27,
   "metadata": {},
   "outputs": [
    {
     "name": "stdout",
     "output_type": "stream",
     "text": [
      "0.7534433762374322\n",
      "0.0007264329919050116\n",
      "0.8278067601900945\n",
      "0.0005683307229776988\n",
      "0.741166543209273\n",
      "0.0021853191187138424\n",
      "0.750377602735375\n",
      "0.0009531269452510313\n",
      "0.7598265471275785\n",
      "0.001159525132863076\n"
     ]
    }
   ],
   "source": [
    "#Training\n",
    "print(np.mean(bal_accs_t))\n",
    "print(np.std(bal_accs_t))\n",
    "\n",
    "print(np.mean(auc_scores_t))\n",
    "print(np.std(auc_scores_t))\n",
    "\n",
    "print(np.mean(recalls_t))\n",
    "print(np.std(recalls_t))\n",
    "\n",
    "print(np.mean(f1s_t))\n",
    "print(np.std(f1s_t))\n",
    "\n",
    "print(np.mean(precisions_t))\n",
    "print(np.std(precisions_t))"
   ]
  },
  {
   "cell_type": "code",
   "execution_count": 10,
   "metadata": {},
   "outputs": [
    {
     "data": {
      "text/plain": [
       "(array([0, 1, 1, 2, 2, 2, 1, 2, 2, 2, 2, 1, 1, 1, 2, 2, 1, 1, 2, 1, 1, 2,\n",
       "        1, 2, 2, 0, 1, 2, 1, 1, 1, 0, 1, 1, 1, 0, 2, 2, 0, 1, 2, 2, 1, 1,\n",
       "        2, 1, 1, 0, 1, 1]),\n",
       " Int64Index([0, 1, 2], dtype='int64'))"
      ]
     },
     "execution_count": 10,
     "metadata": {},
     "output_type": "execute_result"
    }
   ],
   "source": [
    "tissues_4"
   ]
  },
  {
   "cell_type": "markdown",
   "metadata": {
    "id": "HDknT1IzkaLf"
   },
   "source": [
    "### Hierarchical Model with only chemical descriptors"
   ]
  },
  {
   "cell_type": "code",
   "execution_count": null,
   "metadata": {
    "colab": {
     "background_save": true,
     "base_uri": "https://localhost:8080/"
    },
    "id": "jL7BoFBDtlSb",
    "outputId": "c70b895c-3b0c-4189-b66c-7373f6435a90"
   },
   "outputs": [
    {
     "name": "stdout",
     "output_type": "stream",
     "text": [
      "start model setup\n",
      "Done model setup\n",
      "Compiling...\n"
     ]
    },
    {
     "name": "stderr",
     "output_type": "stream",
     "text": [
      "ERROR (pytensor.graph.rewriting.basic): Rewrite failure due to: boolean_indexing_set_or_inc\n",
      "ERROR:pytensor.graph.rewriting.basic:Rewrite failure due to: boolean_indexing_set_or_inc\n",
      "ERROR (pytensor.graph.rewriting.basic): node: AdvancedSetSubtensor(Alloc.0, AdvancedIncSubtensor1{no_inplace,set}.0, [ 0  1  1 ... 39 39 39], [ 0  0  1 ... 37 38 39])\n",
      "ERROR:pytensor.graph.rewriting.basic:node: AdvancedSetSubtensor(Alloc.0, AdvancedIncSubtensor1{no_inplace,set}.0, [ 0  1  1 ... 39 39 39], [ 0  0  1 ... 37 38 39])\n",
      "ERROR (pytensor.graph.rewriting.basic): TRACEBACK:\n",
      "ERROR:pytensor.graph.rewriting.basic:TRACEBACK:\n",
      "ERROR (pytensor.graph.rewriting.basic): Traceback (most recent call last):\n",
      "  File \"/Users/wenyuzeng/anaconda3/lib/python3.10/site-packages/pytensor/graph/rewriting/basic.py\", line 1914, in process_node\n",
      "    replacements = node_rewriter.transform(fgraph, node)\n",
      "  File \"/Users/wenyuzeng/anaconda3/lib/python3.10/site-packages/pytensor/graph/rewriting/basic.py\", line 1074, in transform\n",
      "    return self.fn(fgraph, node)\n",
      "  File \"/Users/wenyuzeng/anaconda3/lib/python3.10/site-packages/pytensor/tensor/rewriting/jax.py\", line 23, in boolean_indexing_set_or_inc\n",
      "    [x, y, cond] = node.inputs\n",
      "ValueError: too many values to unpack (expected 3)\n",
      "\n",
      "ERROR:pytensor.graph.rewriting.basic:Traceback (most recent call last):\n",
      "  File \"/Users/wenyuzeng/anaconda3/lib/python3.10/site-packages/pytensor/graph/rewriting/basic.py\", line 1914, in process_node\n",
      "    replacements = node_rewriter.transform(fgraph, node)\n",
      "  File \"/Users/wenyuzeng/anaconda3/lib/python3.10/site-packages/pytensor/graph/rewriting/basic.py\", line 1074, in transform\n",
      "    return self.fn(fgraph, node)\n",
      "  File \"/Users/wenyuzeng/anaconda3/lib/python3.10/site-packages/pytensor/tensor/rewriting/jax.py\", line 23, in boolean_indexing_set_or_inc\n",
      "    [x, y, cond] = node.inputs\n",
      "ValueError: too many values to unpack (expected 3)\n",
      "\n"
     ]
    },
    {
     "name": "stdout",
     "output_type": "stream",
     "text": [
      "Compilation time =  0:00:15.224975\n",
      "Sampling...\n"
     ]
    },
    {
     "data": {
      "application/vnd.jupyter.widget-view+json": {
       "model_id": "b3c84d39b47344e38168467bedf91be1",
       "version_major": 2,
       "version_minor": 0
      },
      "text/plain": [
       "  0%|          | 0/2000 [00:00<?, ?it/s]"
      ]
     },
     "metadata": {},
     "output_type": "display_data"
    },
    {
     "data": {
      "application/vnd.jupyter.widget-view+json": {
       "model_id": "e8972d620c4541608a1727dd787f944c",
       "version_major": 2,
       "version_minor": 0
      },
      "text/plain": [
       "  0%|          | 0/2000 [00:00<?, ?it/s]"
      ]
     },
     "metadata": {},
     "output_type": "display_data"
    },
    {
     "data": {
      "application/vnd.jupyter.widget-view+json": {
       "model_id": "64ead499e4eb4812b599ace320795fd2",
       "version_major": 2,
       "version_minor": 0
      },
      "text/plain": [
       "  0%|          | 0/2000 [00:00<?, ?it/s]"
      ]
     },
     "metadata": {},
     "output_type": "display_data"
    },
    {
     "data": {
      "application/vnd.jupyter.widget-view+json": {
       "model_id": "54eddb6f9ec649f494a619d764c1ae6d",
       "version_major": 2,
       "version_minor": 0
      },
      "text/plain": [
       "  0%|          | 0/2000 [00:00<?, ?it/s]"
      ]
     },
     "metadata": {},
     "output_type": "display_data"
    }
   ],
   "source": [
    "print('start model setup')\n",
    "with pm.Model(coords=coords_simulated) as assay_level_model:\n",
    "    x = pm.Data('x', X4_bayes, mutable = True)\n",
    "    protocol_idx = pm.Data(\"protocol_idx\", list(factorized_protocols[0]), mutable=True)\n",
    "    y = pm.Data('y', Y4_bayes, mutable=True)\n",
    "\n",
    "    sd_dist = pm.Exponential.dist(1.0)\n",
    "\n",
    "        # get back standard deviations and rho:\n",
    "    chol, corr, stds = pm.LKJCholeskyCov(\"chol\", n=X4_bayes.shape[1], eta=2.0, sd_dist=sd_dist, compute_corr=True)\n",
    "\n",
    "        #hyperpriors and priors for average betas:\n",
    "    beta_list = []\n",
    "    for i in range(X4_bayes.shape[1]):\n",
    "        gbeta = pm.Normal(\"g_beta_{0}\".format(i), mu=0.0, sigma=10.0, shape=1)\n",
    "        mu_gbeta = gbeta[0]\n",
    "        sigma_beta = pm.Exponential('sigma_beta_{0}'.format(i), 1.0)\n",
    "        betas = pm.Normal('beta_{0}'.format(i), mu=mu_gbeta,sigma=sigma_beta,dims=\"protocol\")\n",
    "        beta_list.append(betas)\n",
    "\n",
    "        #population of varying protocol effects:\n",
    "    beta_protocol = pm.MvNormal(\"beta_protocol\", mu=pt.stack(beta_list, axis=1), chol=chol,dims=('protocol', 'params'))\n",
    "\n",
    "        #Expected value per protocol:\n",
    "    theta = beta_protocol[protocol_idx,0]* x[:,0]\n",
    "\n",
    "    for i in range(1,X4_bayes.shape[1]):\n",
    "        theta += beta_protocol[protocol_idx,i] * x[:,i]\n",
    "\n",
    "    p = 1.0 / (1.0 + pt.exp(-theta))\n",
    "    likelihood = pm.Bernoulli('likelihood', p, observed=y, shape = p.shape)\n",
    "\n",
    "\n",
    "print('Done model setup')\n",
    "    # Run the model\n",
    "with assay_level_model:\n",
    "    tr_assay = pmjax.sample_numpyro_nuts(draws=1000, tune=1000, chains=4)\n",
    "print('Finish training model')\n"
   ]
  },
  {
   "cell_type": "code",
   "execution_count": 10,
   "metadata": {
    "id": "6kXMI-eJvqXk"
   },
   "outputs": [
    {
     "name": "stdout",
     "output_type": "stream",
     "text": [
      "model saved\n"
     ]
    }
   ],
   "source": [
    "pick_insert = open('./trained_model_resampled_nometa.pkl','wb')\n",
    "pickle.dump(tr_assay, pick_insert)\n",
    "pick_insert.close()\n",
    "print('model saved')"
   ]
  },
  {
   "cell_type": "markdown",
   "metadata": {
    "id": "1w6dbXXDl7qb"
   },
   "source": [
    "### Hierarchical Model with chemical descriptor and gender"
   ]
  },
  {
   "cell_type": "code",
   "execution_count": 9,
   "metadata": {
    "id": "XIiEoT7bx3lH"
   },
   "outputs": [
    {
     "name": "stdout",
     "output_type": "stream",
     "text": [
      "model setup for descriptors + gender\n",
      "Done model setup\n",
      "Compiling...\n"
     ]
    },
    {
     "name": "stderr",
     "output_type": "stream",
     "text": [
      "ERROR (pytensor.graph.rewriting.basic): Rewrite failure due to: boolean_indexing_set_or_inc\n",
      "ERROR:pytensor.graph.rewriting.basic:Rewrite failure due to: boolean_indexing_set_or_inc\n",
      "ERROR (pytensor.graph.rewriting.basic): node: AdvancedSetSubtensor(Alloc.0, AdvancedIncSubtensor1{no_inplace,set}.0, [ 0  1  1 ... 39 39 39], [ 0  0  1 ... 37 38 39])\n",
      "ERROR:pytensor.graph.rewriting.basic:node: AdvancedSetSubtensor(Alloc.0, AdvancedIncSubtensor1{no_inplace,set}.0, [ 0  1  1 ... 39 39 39], [ 0  0  1 ... 37 38 39])\n",
      "ERROR (pytensor.graph.rewriting.basic): TRACEBACK:\n",
      "ERROR:pytensor.graph.rewriting.basic:TRACEBACK:\n",
      "ERROR (pytensor.graph.rewriting.basic): Traceback (most recent call last):\n",
      "  File \"/Users/wenyuzeng/anaconda3/lib/python3.10/site-packages/pytensor/graph/rewriting/basic.py\", line 1914, in process_node\n",
      "    replacements = node_rewriter.transform(fgraph, node)\n",
      "  File \"/Users/wenyuzeng/anaconda3/lib/python3.10/site-packages/pytensor/graph/rewriting/basic.py\", line 1074, in transform\n",
      "    return self.fn(fgraph, node)\n",
      "  File \"/Users/wenyuzeng/anaconda3/lib/python3.10/site-packages/pytensor/tensor/rewriting/jax.py\", line 23, in boolean_indexing_set_or_inc\n",
      "    [x, y, cond] = node.inputs\n",
      "ValueError: too many values to unpack (expected 3)\n",
      "\n",
      "ERROR:pytensor.graph.rewriting.basic:Traceback (most recent call last):\n",
      "  File \"/Users/wenyuzeng/anaconda3/lib/python3.10/site-packages/pytensor/graph/rewriting/basic.py\", line 1914, in process_node\n",
      "    replacements = node_rewriter.transform(fgraph, node)\n",
      "  File \"/Users/wenyuzeng/anaconda3/lib/python3.10/site-packages/pytensor/graph/rewriting/basic.py\", line 1074, in transform\n",
      "    return self.fn(fgraph, node)\n",
      "  File \"/Users/wenyuzeng/anaconda3/lib/python3.10/site-packages/pytensor/tensor/rewriting/jax.py\", line 23, in boolean_indexing_set_or_inc\n",
      "    [x, y, cond] = node.inputs\n",
      "ValueError: too many values to unpack (expected 3)\n",
      "\n"
     ]
    },
    {
     "name": "stdout",
     "output_type": "stream",
     "text": [
      "Compilation time =  0:00:16.989849\n",
      "Sampling...\n"
     ]
    },
    {
     "data": {
      "application/vnd.jupyter.widget-view+json": {
       "model_id": "b19d2ed9cceb463bb626db30fc6e0d97",
       "version_major": 2,
       "version_minor": 0
      },
      "text/plain": [
       "  0%|          | 0/2000 [00:00<?, ?it/s]"
      ]
     },
     "metadata": {},
     "output_type": "display_data"
    },
    {
     "data": {
      "application/vnd.jupyter.widget-view+json": {
       "model_id": "b73831d2ca2c4a9bb4ffd53631884bf0",
       "version_major": 2,
       "version_minor": 0
      },
      "text/plain": [
       "  0%|          | 0/2000 [00:00<?, ?it/s]"
      ]
     },
     "metadata": {},
     "output_type": "display_data"
    },
    {
     "data": {
      "application/vnd.jupyter.widget-view+json": {
       "model_id": "39502bb3a312462bba8ff691af958bea",
       "version_major": 2,
       "version_minor": 0
      },
      "text/plain": [
       "  0%|          | 0/2000 [00:00<?, ?it/s]"
      ]
     },
     "metadata": {},
     "output_type": "display_data"
    },
    {
     "data": {
      "application/vnd.jupyter.widget-view+json": {
       "model_id": "93eca1096657418bac2f10c71fda758d",
       "version_major": 2,
       "version_minor": 0
      },
      "text/plain": [
       "  0%|          | 0/2000 [00:00<?, ?it/s]"
      ]
     },
     "metadata": {},
     "output_type": "display_data"
    },
    {
     "name": "stderr",
     "output_type": "stream",
     "text": [
      "ERROR (pytensor.graph.rewriting.basic): Rewrite failure due to: boolean_indexing_set_or_inc\n",
      "ERROR:pytensor.graph.rewriting.basic:Rewrite failure due to: boolean_indexing_set_or_inc\n",
      "ERROR (pytensor.graph.rewriting.basic): node: AdvancedSetSubtensor(Alloc.0, AdvancedIncSubtensor1{no_inplace,set}.0, [ 0  1  1 ... 39 39 39], [ 0  0  1 ... 37 38 39])\n",
      "ERROR:pytensor.graph.rewriting.basic:node: AdvancedSetSubtensor(Alloc.0, AdvancedIncSubtensor1{no_inplace,set}.0, [ 0  1  1 ... 39 39 39], [ 0  0  1 ... 37 38 39])\n",
      "ERROR (pytensor.graph.rewriting.basic): TRACEBACK:\n",
      "ERROR:pytensor.graph.rewriting.basic:TRACEBACK:\n",
      "ERROR (pytensor.graph.rewriting.basic): Traceback (most recent call last):\n",
      "  File \"/Users/wenyuzeng/anaconda3/lib/python3.10/site-packages/pytensor/graph/rewriting/basic.py\", line 1914, in process_node\n",
      "    replacements = node_rewriter.transform(fgraph, node)\n",
      "  File \"/Users/wenyuzeng/anaconda3/lib/python3.10/site-packages/pytensor/graph/rewriting/basic.py\", line 1074, in transform\n",
      "    return self.fn(fgraph, node)\n",
      "  File \"/Users/wenyuzeng/anaconda3/lib/python3.10/site-packages/pytensor/tensor/rewriting/jax.py\", line 23, in boolean_indexing_set_or_inc\n",
      "    [x, y, cond] = node.inputs\n",
      "ValueError: too many values to unpack (expected 3)\n",
      "\n",
      "ERROR:pytensor.graph.rewriting.basic:Traceback (most recent call last):\n",
      "  File \"/Users/wenyuzeng/anaconda3/lib/python3.10/site-packages/pytensor/graph/rewriting/basic.py\", line 1914, in process_node\n",
      "    replacements = node_rewriter.transform(fgraph, node)\n",
      "  File \"/Users/wenyuzeng/anaconda3/lib/python3.10/site-packages/pytensor/graph/rewriting/basic.py\", line 1074, in transform\n",
      "    return self.fn(fgraph, node)\n",
      "  File \"/Users/wenyuzeng/anaconda3/lib/python3.10/site-packages/pytensor/tensor/rewriting/jax.py\", line 23, in boolean_indexing_set_or_inc\n",
      "    [x, y, cond] = node.inputs\n",
      "ValueError: too many values to unpack (expected 3)\n",
      "\n"
     ]
    },
    {
     "name": "stdout",
     "output_type": "stream",
     "text": [
      "Sampling time =  13:08:30.026738\n",
      "Transforming variables...\n",
      "Transformation time =  0:00:00.339182\n",
      "Finish training model\n"
     ]
    }
   ],
   "source": [
    "print('model setup for descriptors + gender')\n",
    "with pm.Model(coords=coords_simulated) as assay_level_model:\n",
    "    x = pm.Data('x', X4_bayes, mutable = True)\n",
    "    protocol_idx = pm.Data(\"protocol_idx\", list(factorized_protocols[0]), mutable=True)\n",
    "    gender_idx = pm.Data(\"gender_idx\", gender[0], mutable=True)\n",
    "    y = pm.Data('y', Y4_bayes, mutable=True)\n",
    "\n",
    "    sd_dist = pm.Exponential.dist(1.0)\n",
    "\n",
    "        # get back standard deviations and rho:\n",
    "    chol, corr, stds = pm.LKJCholeskyCov(\"chol\", n=X4_bayes.shape[1], eta=2.0, sd_dist=sd_dist, compute_corr=True)\n",
    "\n",
    "        #hyperpriors and priors for average betas:\n",
    "    beta_list = []\n",
    "    for i in range(X4_bayes.shape[1]):\n",
    "        gbeta = pm.Normal(\"g_beta_{0}\".format(i), mu=0.0, sigma=10.0, shape=2)\n",
    "        mu_gbeta = gbeta[0] + gbeta[1] * gender_idx\n",
    "        sigma_beta = pm.Exponential('sigma_beta_{0}'.format(i), 1.0)\n",
    "        betas = pm.Normal('beta_{0}'.format(i), mu=mu_gbeta,sigma=sigma_beta,dims=\"protocol\")\n",
    "        beta_list.append(betas)\n",
    "\n",
    "        #population of varying protocol effects:\n",
    "    beta_protocol = pm.MvNormal(\"beta_protocol\", mu=pt.stack(beta_list, axis=1), chol=chol,dims=('protocol', 'params'))\n",
    "\n",
    "        #Expected value per protocol:\n",
    "    theta = beta_protocol[protocol_idx,0]* x[:,0]\n",
    "\n",
    "    for i in range(1,X4_bayes.shape[1]):\n",
    "        theta += beta_protocol[protocol_idx,i] * x[:,i]\n",
    "\n",
    "    p = 1.0 / (1.0 + pt.exp(-theta))\n",
    "    likelihood = pm.Bernoulli('likelihood', p, observed=y, shape = p.shape)\n",
    "\n",
    "\n",
    "print('Done model setup')\n",
    "    # Run the model\n",
    "with assay_level_model:\n",
    "    tr_assay = pmjax.sample_numpyro_nuts(draws=1000, tune=1000, chains=4)\n",
    "print('Finish training model')\n"
   ]
  },
  {
   "cell_type": "code",
   "execution_count": 10,
   "metadata": {
    "id": "meZzs8KGmSUC"
   },
   "outputs": [
    {
     "name": "stdout",
     "output_type": "stream",
     "text": [
      "model saved\n"
     ]
    }
   ],
   "source": [
    "pick_insert = open('./trained_model_resampled_gender.pkl','wb')\n",
    "pickle.dump(tr_assay, pick_insert)\n",
    "pick_insert.close()\n",
    "print('model saved')"
   ]
  },
  {
   "cell_type": "code",
   "execution_count": 9,
   "metadata": {},
   "outputs": [
    {
     "name": "stdout",
     "output_type": "stream",
     "text": [
      "model setup for descriptors + organism\n",
      "Done model setup\n",
      "Compiling...\n"
     ]
    },
    {
     "name": "stderr",
     "output_type": "stream",
     "text": [
      "ERROR (pytensor.graph.rewriting.basic): Rewrite failure due to: boolean_indexing_set_or_inc\n",
      "ERROR:pytensor.graph.rewriting.basic:Rewrite failure due to: boolean_indexing_set_or_inc\n",
      "ERROR (pytensor.graph.rewriting.basic): node: AdvancedSetSubtensor(Alloc.0, AdvancedIncSubtensor1{no_inplace,set}.0, [ 0  1  1 ... 39 39 39], [ 0  0  1 ... 37 38 39])\n",
      "ERROR:pytensor.graph.rewriting.basic:node: AdvancedSetSubtensor(Alloc.0, AdvancedIncSubtensor1{no_inplace,set}.0, [ 0  1  1 ... 39 39 39], [ 0  0  1 ... 37 38 39])\n",
      "ERROR (pytensor.graph.rewriting.basic): TRACEBACK:\n",
      "ERROR:pytensor.graph.rewriting.basic:TRACEBACK:\n",
      "ERROR (pytensor.graph.rewriting.basic): Traceback (most recent call last):\n",
      "  File \"/Users/wenyuzeng/anaconda3/lib/python3.10/site-packages/pytensor/graph/rewriting/basic.py\", line 1914, in process_node\n",
      "    replacements = node_rewriter.transform(fgraph, node)\n",
      "  File \"/Users/wenyuzeng/anaconda3/lib/python3.10/site-packages/pytensor/graph/rewriting/basic.py\", line 1074, in transform\n",
      "    return self.fn(fgraph, node)\n",
      "  File \"/Users/wenyuzeng/anaconda3/lib/python3.10/site-packages/pytensor/tensor/rewriting/jax.py\", line 23, in boolean_indexing_set_or_inc\n",
      "    [x, y, cond] = node.inputs\n",
      "ValueError: too many values to unpack (expected 3)\n",
      "\n",
      "ERROR:pytensor.graph.rewriting.basic:Traceback (most recent call last):\n",
      "  File \"/Users/wenyuzeng/anaconda3/lib/python3.10/site-packages/pytensor/graph/rewriting/basic.py\", line 1914, in process_node\n",
      "    replacements = node_rewriter.transform(fgraph, node)\n",
      "  File \"/Users/wenyuzeng/anaconda3/lib/python3.10/site-packages/pytensor/graph/rewriting/basic.py\", line 1074, in transform\n",
      "    return self.fn(fgraph, node)\n",
      "  File \"/Users/wenyuzeng/anaconda3/lib/python3.10/site-packages/pytensor/tensor/rewriting/jax.py\", line 23, in boolean_indexing_set_or_inc\n",
      "    [x, y, cond] = node.inputs\n",
      "ValueError: too many values to unpack (expected 3)\n",
      "\n"
     ]
    },
    {
     "name": "stdout",
     "output_type": "stream",
     "text": [
      "Compilation time =  0:00:17.324278\n",
      "Sampling...\n"
     ]
    },
    {
     "data": {
      "application/vnd.jupyter.widget-view+json": {
       "model_id": "a209ddd818e244baaee50a9e53b78aab",
       "version_major": 2,
       "version_minor": 0
      },
      "text/plain": [
       "  0%|          | 0/2000 [00:00<?, ?it/s]"
      ]
     },
     "metadata": {},
     "output_type": "display_data"
    },
    {
     "data": {
      "application/vnd.jupyter.widget-view+json": {
       "model_id": "47617d36d0a94493ac555b4c70daa8ca",
       "version_major": 2,
       "version_minor": 0
      },
      "text/plain": [
       "  0%|          | 0/2000 [00:00<?, ?it/s]"
      ]
     },
     "metadata": {},
     "output_type": "display_data"
    },
    {
     "data": {
      "application/vnd.jupyter.widget-view+json": {
       "model_id": "b3ab50423b4c4a3d9ba5fd7378d71934",
       "version_major": 2,
       "version_minor": 0
      },
      "text/plain": [
       "  0%|          | 0/2000 [00:00<?, ?it/s]"
      ]
     },
     "metadata": {},
     "output_type": "display_data"
    },
    {
     "data": {
      "application/vnd.jupyter.widget-view+json": {
       "model_id": "8b9eb7fd526c400c833aef3db0f82cbb",
       "version_major": 2,
       "version_minor": 0
      },
      "text/plain": [
       "  0%|          | 0/2000 [00:00<?, ?it/s]"
      ]
     },
     "metadata": {},
     "output_type": "display_data"
    },
    {
     "name": "stderr",
     "output_type": "stream",
     "text": [
      "ERROR (pytensor.graph.rewriting.basic): Rewrite failure due to: boolean_indexing_set_or_inc\n",
      "ERROR:pytensor.graph.rewriting.basic:Rewrite failure due to: boolean_indexing_set_or_inc\n",
      "ERROR (pytensor.graph.rewriting.basic): node: AdvancedSetSubtensor(Alloc.0, AdvancedIncSubtensor1{no_inplace,set}.0, [ 0  1  1 ... 39 39 39], [ 0  0  1 ... 37 38 39])\n",
      "ERROR:pytensor.graph.rewriting.basic:node: AdvancedSetSubtensor(Alloc.0, AdvancedIncSubtensor1{no_inplace,set}.0, [ 0  1  1 ... 39 39 39], [ 0  0  1 ... 37 38 39])\n",
      "ERROR (pytensor.graph.rewriting.basic): TRACEBACK:\n",
      "ERROR:pytensor.graph.rewriting.basic:TRACEBACK:\n",
      "ERROR (pytensor.graph.rewriting.basic): Traceback (most recent call last):\n",
      "  File \"/Users/wenyuzeng/anaconda3/lib/python3.10/site-packages/pytensor/graph/rewriting/basic.py\", line 1914, in process_node\n",
      "    replacements = node_rewriter.transform(fgraph, node)\n",
      "  File \"/Users/wenyuzeng/anaconda3/lib/python3.10/site-packages/pytensor/graph/rewriting/basic.py\", line 1074, in transform\n",
      "    return self.fn(fgraph, node)\n",
      "  File \"/Users/wenyuzeng/anaconda3/lib/python3.10/site-packages/pytensor/tensor/rewriting/jax.py\", line 23, in boolean_indexing_set_or_inc\n",
      "    [x, y, cond] = node.inputs\n",
      "ValueError: too many values to unpack (expected 3)\n",
      "\n",
      "ERROR:pytensor.graph.rewriting.basic:Traceback (most recent call last):\n",
      "  File \"/Users/wenyuzeng/anaconda3/lib/python3.10/site-packages/pytensor/graph/rewriting/basic.py\", line 1914, in process_node\n",
      "    replacements = node_rewriter.transform(fgraph, node)\n",
      "  File \"/Users/wenyuzeng/anaconda3/lib/python3.10/site-packages/pytensor/graph/rewriting/basic.py\", line 1074, in transform\n",
      "    return self.fn(fgraph, node)\n",
      "  File \"/Users/wenyuzeng/anaconda3/lib/python3.10/site-packages/pytensor/tensor/rewriting/jax.py\", line 23, in boolean_indexing_set_or_inc\n",
      "    [x, y, cond] = node.inputs\n",
      "ValueError: too many values to unpack (expected 3)\n",
      "\n"
     ]
    },
    {
     "name": "stdout",
     "output_type": "stream",
     "text": [
      "Sampling time =  13:07:31.551875\n",
      "Transforming variables...\n",
      "Transformation time =  0:00:00.503054\n",
      "Finish training model\n"
     ]
    }
   ],
   "source": [
    "print('model setup for descriptors + organism')\n",
    "with pm.Model(coords=coords_simulated) as assay_level_model:\n",
    "    x = pm.Data('x', X4_bayes, mutable = True)\n",
    "    protocol_idx = pm.Data(\"protocol_idx\", list(factorized_protocols[0]), mutable=True)\n",
    "    organism_idx = pm.Data(\"organism_idx\", organisms[0], mutable=True)\n",
    "    y = pm.Data('y', Y4_bayes, mutable=True)\n",
    "\n",
    "    sd_dist = pm.Exponential.dist(1.0)\n",
    "\n",
    "        # get back standard deviations and rho:\n",
    "    chol, corr, stds = pm.LKJCholeskyCov(\"chol\", n=X4_bayes.shape[1], eta=2.0, sd_dist=sd_dist, compute_corr=True)\n",
    "\n",
    "        #hyperpriors and priors for average betas:\n",
    "    beta_list = []\n",
    "    for i in range(X4_bayes.shape[1]):\n",
    "        gbeta = pm.Normal(\"g_beta_{0}\".format(i), mu=0.0, sigma=10.0, shape=2)\n",
    "        mu_gbeta = gbeta[0] + gbeta[1] * organism_idx\n",
    "        sigma_beta = pm.Exponential('sigma_beta_{0}'.format(i), 1.0)\n",
    "        betas = pm.Normal('beta_{0}'.format(i), mu=mu_gbeta,sigma=sigma_beta,dims=\"protocol\")\n",
    "        beta_list.append(betas)\n",
    "\n",
    "        #population of varying protocol effects:\n",
    "    beta_protocol = pm.MvNormal(\"beta_protocol\", mu=pt.stack(beta_list, axis=1), chol=chol,dims=('protocol', 'params'))\n",
    "\n",
    "        #Expected value per protocol:\n",
    "    theta = beta_protocol[protocol_idx,0]* x[:,0]\n",
    "\n",
    "    for i in range(1,X4_bayes.shape[1]):\n",
    "        theta += beta_protocol[protocol_idx,i] * x[:,i]\n",
    "\n",
    "    p = 1.0 / (1.0 + pt.exp(-theta))\n",
    "    likelihood = pm.Bernoulli('likelihood', p, observed=y, shape = p.shape)\n",
    "\n",
    "\n",
    "print('Done model setup')\n",
    "    # Run the model\n",
    "with assay_level_model:\n",
    "    tr_assay = pmjax.sample_numpyro_nuts(draws=1000, tune=1000, chains=4)\n",
    "print('Finish training model')\n"
   ]
  },
  {
   "cell_type": "code",
   "execution_count": 10,
   "metadata": {},
   "outputs": [
    {
     "name": "stdout",
     "output_type": "stream",
     "text": [
      "model saved\n"
     ]
    }
   ],
   "source": [
    "pick_insert = open('./trained_model_resampled_organism.pkl','wb')\n",
    "pickle.dump(tr_assay, pick_insert)\n",
    "pick_insert.close()\n",
    "print('model saved')"
   ]
  },
  {
   "cell_type": "code",
   "execution_count": 9,
   "metadata": {},
   "outputs": [
    {
     "name": "stdout",
     "output_type": "stream",
     "text": [
      "model setup for descriptors + gender_organism\n",
      "Done model setup\n",
      "Compiling...\n"
     ]
    },
    {
     "name": "stderr",
     "output_type": "stream",
     "text": [
      "ERROR (pytensor.graph.rewriting.basic): Rewrite failure due to: boolean_indexing_set_or_inc\n",
      "ERROR:pytensor.graph.rewriting.basic:Rewrite failure due to: boolean_indexing_set_or_inc\n",
      "ERROR (pytensor.graph.rewriting.basic): node: AdvancedSetSubtensor(Alloc.0, AdvancedIncSubtensor1{no_inplace,set}.0, [ 0  1  1 ... 39 39 39], [ 0  0  1 ... 37 38 39])\n",
      "ERROR:pytensor.graph.rewriting.basic:node: AdvancedSetSubtensor(Alloc.0, AdvancedIncSubtensor1{no_inplace,set}.0, [ 0  1  1 ... 39 39 39], [ 0  0  1 ... 37 38 39])\n",
      "ERROR (pytensor.graph.rewriting.basic): TRACEBACK:\n",
      "ERROR:pytensor.graph.rewriting.basic:TRACEBACK:\n",
      "ERROR (pytensor.graph.rewriting.basic): Traceback (most recent call last):\n",
      "  File \"/Users/wenyuzeng/anaconda3/lib/python3.10/site-packages/pytensor/graph/rewriting/basic.py\", line 1914, in process_node\n",
      "    replacements = node_rewriter.transform(fgraph, node)\n",
      "  File \"/Users/wenyuzeng/anaconda3/lib/python3.10/site-packages/pytensor/graph/rewriting/basic.py\", line 1074, in transform\n",
      "    return self.fn(fgraph, node)\n",
      "  File \"/Users/wenyuzeng/anaconda3/lib/python3.10/site-packages/pytensor/tensor/rewriting/jax.py\", line 23, in boolean_indexing_set_or_inc\n",
      "    [x, y, cond] = node.inputs\n",
      "ValueError: too many values to unpack (expected 3)\n",
      "\n",
      "ERROR:pytensor.graph.rewriting.basic:Traceback (most recent call last):\n",
      "  File \"/Users/wenyuzeng/anaconda3/lib/python3.10/site-packages/pytensor/graph/rewriting/basic.py\", line 1914, in process_node\n",
      "    replacements = node_rewriter.transform(fgraph, node)\n",
      "  File \"/Users/wenyuzeng/anaconda3/lib/python3.10/site-packages/pytensor/graph/rewriting/basic.py\", line 1074, in transform\n",
      "    return self.fn(fgraph, node)\n",
      "  File \"/Users/wenyuzeng/anaconda3/lib/python3.10/site-packages/pytensor/tensor/rewriting/jax.py\", line 23, in boolean_indexing_set_or_inc\n",
      "    [x, y, cond] = node.inputs\n",
      "ValueError: too many values to unpack (expected 3)\n",
      "\n"
     ]
    },
    {
     "name": "stdout",
     "output_type": "stream",
     "text": [
      "Compilation time =  0:00:29.084397\n",
      "Sampling...\n"
     ]
    },
    {
     "data": {
      "application/vnd.jupyter.widget-view+json": {
       "model_id": "17796bbf1a5148ea93f502dd47d4ea33",
       "version_major": 2,
       "version_minor": 0
      },
      "text/plain": [
       "  0%|          | 0/2000 [00:00<?, ?it/s]"
      ]
     },
     "metadata": {},
     "output_type": "display_data"
    },
    {
     "data": {
      "application/vnd.jupyter.widget-view+json": {
       "model_id": "2399c4b76e2c4238b3a79d5cf00e58f9",
       "version_major": 2,
       "version_minor": 0
      },
      "text/plain": [
       "  0%|          | 0/2000 [00:00<?, ?it/s]"
      ]
     },
     "metadata": {},
     "output_type": "display_data"
    },
    {
     "data": {
      "application/vnd.jupyter.widget-view+json": {
       "model_id": "db5492f48f8a48a58815842d903ea5a1",
       "version_major": 2,
       "version_minor": 0
      },
      "text/plain": [
       "  0%|          | 0/2000 [00:00<?, ?it/s]"
      ]
     },
     "metadata": {},
     "output_type": "display_data"
    },
    {
     "data": {
      "application/vnd.jupyter.widget-view+json": {
       "model_id": "0faaae4f369840eb9afd12d01d32b764",
       "version_major": 2,
       "version_minor": 0
      },
      "text/plain": [
       "  0%|          | 0/2000 [00:00<?, ?it/s]"
      ]
     },
     "metadata": {},
     "output_type": "display_data"
    },
    {
     "name": "stderr",
     "output_type": "stream",
     "text": [
      "ERROR (pytensor.graph.rewriting.basic): Rewrite failure due to: boolean_indexing_set_or_inc\n",
      "ERROR:pytensor.graph.rewriting.basic:Rewrite failure due to: boolean_indexing_set_or_inc\n",
      "ERROR (pytensor.graph.rewriting.basic): node: AdvancedSetSubtensor(Alloc.0, AdvancedIncSubtensor1{no_inplace,set}.0, [ 0  1  1 ... 39 39 39], [ 0  0  1 ... 37 38 39])\n",
      "ERROR:pytensor.graph.rewriting.basic:node: AdvancedSetSubtensor(Alloc.0, AdvancedIncSubtensor1{no_inplace,set}.0, [ 0  1  1 ... 39 39 39], [ 0  0  1 ... 37 38 39])\n",
      "ERROR (pytensor.graph.rewriting.basic): TRACEBACK:\n",
      "ERROR:pytensor.graph.rewriting.basic:TRACEBACK:\n",
      "ERROR (pytensor.graph.rewriting.basic): Traceback (most recent call last):\n",
      "  File \"/Users/wenyuzeng/anaconda3/lib/python3.10/site-packages/pytensor/graph/rewriting/basic.py\", line 1914, in process_node\n",
      "    replacements = node_rewriter.transform(fgraph, node)\n",
      "  File \"/Users/wenyuzeng/anaconda3/lib/python3.10/site-packages/pytensor/graph/rewriting/basic.py\", line 1074, in transform\n",
      "    return self.fn(fgraph, node)\n",
      "  File \"/Users/wenyuzeng/anaconda3/lib/python3.10/site-packages/pytensor/tensor/rewriting/jax.py\", line 23, in boolean_indexing_set_or_inc\n",
      "    [x, y, cond] = node.inputs\n",
      "ValueError: too many values to unpack (expected 3)\n",
      "\n",
      "ERROR:pytensor.graph.rewriting.basic:Traceback (most recent call last):\n",
      "  File \"/Users/wenyuzeng/anaconda3/lib/python3.10/site-packages/pytensor/graph/rewriting/basic.py\", line 1914, in process_node\n",
      "    replacements = node_rewriter.transform(fgraph, node)\n",
      "  File \"/Users/wenyuzeng/anaconda3/lib/python3.10/site-packages/pytensor/graph/rewriting/basic.py\", line 1074, in transform\n",
      "    return self.fn(fgraph, node)\n",
      "  File \"/Users/wenyuzeng/anaconda3/lib/python3.10/site-packages/pytensor/tensor/rewriting/jax.py\", line 23, in boolean_indexing_set_or_inc\n",
      "    [x, y, cond] = node.inputs\n",
      "ValueError: too many values to unpack (expected 3)\n",
      "\n"
     ]
    },
    {
     "name": "stdout",
     "output_type": "stream",
     "text": [
      "Sampling time =  23:59:29.471322\n",
      "Transforming variables...\n",
      "Transformation time =  0:00:00.492497\n",
      "Finish training model\n"
     ]
    }
   ],
   "source": [
    "print('model setup for descriptors + gender_organism')\n",
    "with pm.Model(coords=coords_simulated) as assay_level_model:\n",
    "    x = pm.Data('x', X4_bayes, mutable = True)\n",
    "    protocol_idx = pm.Data(\"protocol_idx\", list(factorized_protocols[0]), mutable=True)\n",
    "    gender_idx = pm.Data(\"gender_idx\", gender[0], mutable=True)\n",
    "    organism_idx = pm.Data(\"organism_idx\", organisms[0], mutable=True)\n",
    "    y = pm.Data('y', Y4_bayes, mutable=True)\n",
    "\n",
    "    sd_dist = pm.Exponential.dist(1.0)\n",
    "\n",
    "        # get back standard deviations and rho:\n",
    "    chol, corr, stds = pm.LKJCholeskyCov(\"chol\", n=X4_bayes.shape[1], eta=2.0, sd_dist=sd_dist, compute_corr=True)\n",
    "\n",
    "        #hyperpriors and priors for average betas:\n",
    "    beta_list = []\n",
    "    for i in range(X4_bayes.shape[1]):\n",
    "        gbeta = pm.Normal(\"g_beta_{0}\".format(i), mu=0.0, sigma=10.0, shape=3)\n",
    "        mu_gbeta = gbeta[0] + gbeta[1] * gender_idx + gbeta[2] * organism_idx\n",
    "        sigma_beta = pm.Exponential('sigma_beta_{0}'.format(i), 1.0)\n",
    "        betas = pm.Normal('beta_{0}'.format(i), mu=mu_gbeta,sigma=sigma_beta,dims=\"protocol\")\n",
    "        beta_list.append(betas)\n",
    "\n",
    "        #population of varying protocol effects:\n",
    "    beta_protocol = pm.MvNormal(\"beta_protocol\", mu=pt.stack(beta_list, axis=1), chol=chol,dims=('protocol', 'params'))\n",
    "\n",
    "        #Expected value per protocol:\n",
    "    theta = beta_protocol[protocol_idx,0]* x[:,0]\n",
    "\n",
    "    for i in range(1,X4_bayes.shape[1]):\n",
    "        theta += beta_protocol[protocol_idx,i] * x[:,i]\n",
    "\n",
    "    p = 1.0 / (1.0 + pt.exp(-theta))\n",
    "    likelihood = pm.Bernoulli('likelihood', p, observed=y, shape = p.shape)\n",
    "\n",
    "\n",
    "print('Done model setup')\n",
    "    # Run the model\n",
    "with assay_level_model:\n",
    "    tr_assay = pmjax.sample_numpyro_nuts(draws=1000, tune=1000, chains=4)\n",
    "print('Finish training model')\n"
   ]
  },
  {
   "cell_type": "code",
   "execution_count": 10,
   "metadata": {},
   "outputs": [
    {
     "name": "stdout",
     "output_type": "stream",
     "text": [
      "model saved\n"
     ]
    }
   ],
   "source": [
    "pick_insert = open('./trained_model_resampled_gender_organism.pkl','wb')\n",
    "pickle.dump(tr_assay, pick_insert)\n",
    "pick_insert.close()\n",
    "print('model saved')"
   ]
  },
  {
   "cell_type": "markdown",
   "metadata": {},
   "source": [
    "### model with tumor type and tissue type"
   ]
  },
  {
   "cell_type": "code",
   "execution_count": 34,
   "metadata": {},
   "outputs": [
    {
     "name": "stdout",
     "output_type": "stream",
     "text": [
      "model setup for descriptors + tumor_tissue\n",
      "Done model setup\n",
      "Compiling...\n"
     ]
    },
    {
     "name": "stderr",
     "output_type": "stream",
     "text": [
      "ERROR (pytensor.graph.rewriting.basic): Rewrite failure due to: boolean_indexing_set_or_inc\n",
      "ERROR:pytensor.graph.rewriting.basic:Rewrite failure due to: boolean_indexing_set_or_inc\n",
      "ERROR (pytensor.graph.rewriting.basic): node: AdvancedSetSubtensor(Alloc.0, AdvancedIncSubtensor1{no_inplace,set}.0, [ 0  1  1 ... 39 39 39], [ 0  0  1 ... 37 38 39])\n",
      "ERROR:pytensor.graph.rewriting.basic:node: AdvancedSetSubtensor(Alloc.0, AdvancedIncSubtensor1{no_inplace,set}.0, [ 0  1  1 ... 39 39 39], [ 0  0  1 ... 37 38 39])\n",
      "ERROR (pytensor.graph.rewriting.basic): TRACEBACK:\n",
      "ERROR:pytensor.graph.rewriting.basic:TRACEBACK:\n",
      "ERROR (pytensor.graph.rewriting.basic): Traceback (most recent call last):\n",
      "  File \"/Users/wenyuzeng/anaconda3/lib/python3.10/site-packages/pytensor/graph/rewriting/basic.py\", line 1914, in process_node\n",
      "    replacements = node_rewriter.transform(fgraph, node)\n",
      "  File \"/Users/wenyuzeng/anaconda3/lib/python3.10/site-packages/pytensor/graph/rewriting/basic.py\", line 1074, in transform\n",
      "    return self.fn(fgraph, node)\n",
      "  File \"/Users/wenyuzeng/anaconda3/lib/python3.10/site-packages/pytensor/tensor/rewriting/jax.py\", line 23, in boolean_indexing_set_or_inc\n",
      "    [x, y, cond] = node.inputs\n",
      "ValueError: too many values to unpack (expected 3)\n",
      "\n",
      "ERROR:pytensor.graph.rewriting.basic:Traceback (most recent call last):\n",
      "  File \"/Users/wenyuzeng/anaconda3/lib/python3.10/site-packages/pytensor/graph/rewriting/basic.py\", line 1914, in process_node\n",
      "    replacements = node_rewriter.transform(fgraph, node)\n",
      "  File \"/Users/wenyuzeng/anaconda3/lib/python3.10/site-packages/pytensor/graph/rewriting/basic.py\", line 1074, in transform\n",
      "    return self.fn(fgraph, node)\n",
      "  File \"/Users/wenyuzeng/anaconda3/lib/python3.10/site-packages/pytensor/tensor/rewriting/jax.py\", line 23, in boolean_indexing_set_or_inc\n",
      "    [x, y, cond] = node.inputs\n",
      "ValueError: too many values to unpack (expected 3)\n",
      "\n"
     ]
    },
    {
     "name": "stdout",
     "output_type": "stream",
     "text": [
      "Compilation time =  0:00:16.977098\n",
      "Sampling...\n"
     ]
    },
    {
     "data": {
      "application/vnd.jupyter.widget-view+json": {
       "model_id": "5777e4ad35e6439ea913e0682f89ce49",
       "version_major": 2,
       "version_minor": 0
      },
      "text/plain": [
       "  0%|          | 0/2000 [00:00<?, ?it/s]"
      ]
     },
     "metadata": {},
     "output_type": "display_data"
    },
    {
     "data": {
      "application/vnd.jupyter.widget-view+json": {
       "model_id": "edd4c2fab30b4f5f8f6ae120e2efbc6f",
       "version_major": 2,
       "version_minor": 0
      },
      "text/plain": [
       "  0%|          | 0/2000 [00:00<?, ?it/s]"
      ]
     },
     "metadata": {},
     "output_type": "display_data"
    },
    {
     "data": {
      "application/vnd.jupyter.widget-view+json": {
       "model_id": "6fefda0019dd4823b0c030119788fa92",
       "version_major": 2,
       "version_minor": 0
      },
      "text/plain": [
       "  0%|          | 0/2000 [00:00<?, ?it/s]"
      ]
     },
     "metadata": {},
     "output_type": "display_data"
    },
    {
     "data": {
      "application/vnd.jupyter.widget-view+json": {
       "model_id": "7606757b30684f70ac95bde92eb69956",
       "version_major": 2,
       "version_minor": 0
      },
      "text/plain": [
       "  0%|          | 0/2000 [00:00<?, ?it/s]"
      ]
     },
     "metadata": {},
     "output_type": "display_data"
    },
    {
     "name": "stderr",
     "output_type": "stream",
     "text": [
      "ERROR (pytensor.graph.rewriting.basic): Rewrite failure due to: boolean_indexing_set_or_inc\n",
      "ERROR:pytensor.graph.rewriting.basic:Rewrite failure due to: boolean_indexing_set_or_inc\n",
      "ERROR (pytensor.graph.rewriting.basic): node: AdvancedSetSubtensor(Alloc.0, AdvancedIncSubtensor1{no_inplace,set}.0, [ 0  1  1 ... 39 39 39], [ 0  0  1 ... 37 38 39])\n",
      "ERROR:pytensor.graph.rewriting.basic:node: AdvancedSetSubtensor(Alloc.0, AdvancedIncSubtensor1{no_inplace,set}.0, [ 0  1  1 ... 39 39 39], [ 0  0  1 ... 37 38 39])\n",
      "ERROR (pytensor.graph.rewriting.basic): TRACEBACK:\n",
      "ERROR:pytensor.graph.rewriting.basic:TRACEBACK:\n",
      "ERROR (pytensor.graph.rewriting.basic): Traceback (most recent call last):\n",
      "  File \"/Users/wenyuzeng/anaconda3/lib/python3.10/site-packages/pytensor/graph/rewriting/basic.py\", line 1914, in process_node\n",
      "    replacements = node_rewriter.transform(fgraph, node)\n",
      "  File \"/Users/wenyuzeng/anaconda3/lib/python3.10/site-packages/pytensor/graph/rewriting/basic.py\", line 1074, in transform\n",
      "    return self.fn(fgraph, node)\n",
      "  File \"/Users/wenyuzeng/anaconda3/lib/python3.10/site-packages/pytensor/tensor/rewriting/jax.py\", line 23, in boolean_indexing_set_or_inc\n",
      "    [x, y, cond] = node.inputs\n",
      "ValueError: too many values to unpack (expected 3)\n",
      "\n",
      "ERROR:pytensor.graph.rewriting.basic:Traceback (most recent call last):\n",
      "  File \"/Users/wenyuzeng/anaconda3/lib/python3.10/site-packages/pytensor/graph/rewriting/basic.py\", line 1914, in process_node\n",
      "    replacements = node_rewriter.transform(fgraph, node)\n",
      "  File \"/Users/wenyuzeng/anaconda3/lib/python3.10/site-packages/pytensor/graph/rewriting/basic.py\", line 1074, in transform\n",
      "    return self.fn(fgraph, node)\n",
      "  File \"/Users/wenyuzeng/anaconda3/lib/python3.10/site-packages/pytensor/tensor/rewriting/jax.py\", line 23, in boolean_indexing_set_or_inc\n",
      "    [x, y, cond] = node.inputs\n",
      "ValueError: too many values to unpack (expected 3)\n",
      "\n"
     ]
    },
    {
     "name": "stdout",
     "output_type": "stream",
     "text": [
      "Sampling time =  13:03:16.733940\n",
      "Transforming variables...\n",
      "Transformation time =  0:00:00.164993\n",
      "Finish training model\n"
     ]
    }
   ],
   "source": [
    "print('model setup for descriptors + tumor_tissue')\n",
    "with pm.Model(coords=coords_simulated) as assay_level_model:\n",
    "    x = pm.Data('x', X4_bayes, mutable = True)\n",
    "    protocol_idx = pm.Data(\"protocol_idx\", list(factorized_protocols[0]), mutable=True)\n",
    "    tumor_idx = pm.Data(\"tumor_idx\", tissues_4[0], mutable=True)\n",
    "#     tissue_idx = pm.Data(\"tissue_idx\", tissues_2[0], mutable=True)\n",
    "    y = pm.Data('y', Y4_bayes, mutable=True)\n",
    "\n",
    "    sd_dist = pm.Exponential.dist(1.0)\n",
    "\n",
    "        # get back standard deviations and rho:\n",
    "    chol, corr, stds = pm.LKJCholeskyCov(\"chol\", n=X4_bayes.shape[1], eta=2.0, sd_dist=sd_dist, compute_corr=True)\n",
    "\n",
    "        #hyperpriors and priors for average betas:\n",
    "    beta_list = []\n",
    "    for i in range(X4_bayes.shape[1]):\n",
    "        gbeta = pm.Normal(\"g_beta_{0}\".format(i), mu=0.0, sigma=10.0, shape=2)\n",
    "        mu_gbeta = gbeta[0] + gbeta[1] * tumor_idx \n",
    "#         + gbeta[2] * tissue_idx\n",
    "        sigma_beta = pm.Exponential('sigma_beta_{0}'.format(i), 1.0)\n",
    "        betas = pm.Normal('beta_{0}'.format(i), mu=mu_gbeta,sigma=sigma_beta,dims=\"protocol\")\n",
    "        beta_list.append(betas)\n",
    "\n",
    "        #population of varying protocol effects:\n",
    "    beta_protocol = pm.MvNormal(\"beta_protocol\", mu=pt.stack(beta_list, axis=1), chol=chol,dims=('protocol', 'params'))\n",
    "\n",
    "        #Expected value per protocol:\n",
    "    theta = beta_protocol[protocol_idx,0]* x[:,0]\n",
    "\n",
    "    for i in range(1,X4_bayes.shape[1]):\n",
    "        theta += beta_protocol[protocol_idx,i] * x[:,i]\n",
    "\n",
    "    p = 1.0 / (1.0 + pt.exp(-theta))\n",
    "    likelihood = pm.Bernoulli('likelihood', p, observed=y, shape = p.shape)\n",
    "\n",
    "\n",
    "print('Done model setup')\n",
    "    # Run the model\n",
    "with assay_level_model:\n",
    "    tr_assay = pmjax.sample_numpyro_nuts(draws=1000, tune=1000, chains=4)\n",
    "print('Finish training model')\n"
   ]
  },
  {
   "cell_type": "code",
   "execution_count": 35,
   "metadata": {},
   "outputs": [
    {
     "name": "stdout",
     "output_type": "stream",
     "text": [
      "model saved\n"
     ]
    }
   ],
   "source": [
    "pick_insert = open('./trained_model_resampled_tumor.pkl','wb')\n",
    "pickle.dump(tr_assay, pick_insert)\n",
    "pick_insert.close()\n",
    "print('model saved')"
   ]
  },
  {
   "cell_type": "code",
   "execution_count": null,
   "metadata": {},
   "outputs": [],
   "source": []
  }
 ],
 "metadata": {
  "accelerator": "GPU",
  "colab": {
   "authorship_tag": "ABX9TyNHiR3RuddGinE2gLR0QyCn",
   "machine_shape": "hm",
   "provenance": []
  },
  "kernelspec": {
   "display_name": "Python 3 (ipykernel)",
   "language": "python",
   "name": "python3"
  },
  "language_info": {
   "codemirror_mode": {
    "name": "ipython",
    "version": 3
   },
   "file_extension": ".py",
   "mimetype": "text/x-python",
   "name": "python",
   "nbconvert_exporter": "python",
   "pygments_lexer": "ipython3",
   "version": "3.10.9"
  }
 },
 "nbformat": 4,
 "nbformat_minor": 1
}
